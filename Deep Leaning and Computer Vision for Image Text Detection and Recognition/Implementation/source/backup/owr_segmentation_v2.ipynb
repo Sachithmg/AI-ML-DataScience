{
  "nbformat": 4,
  "nbformat_minor": 0,
  "metadata": {
    "colab": {
      "provenance": []
    },
    "kernelspec": {
      "name": "python3",
      "display_name": "Python 3"
    },
    "language_info": {
      "name": "python"
    }
  },
  "cells": [
    {
      "cell_type": "markdown",
      "source": [
        "# Document Segmentation\n",
        "\n",
        "This module is designed to create functions to support the segmentation process and integrate with OCR and OWR models. The segmentation will be managed using the function designed in owr_segmentation.ipynb."
      ],
      "metadata": {
        "id": "oOlpwFIeiD5j"
      }
    },
    {
      "cell_type": "markdown",
      "source": [
        "### Load Libraries and Other Packages"
      ],
      "metadata": {
        "id": "WxrQhRprejnB"
      }
    },
    {
      "cell_type": "code",
      "source": [
        "# do not run when we import this package as module\n",
        "if __name__ == '__main__':\n",
        "  # Connect Google Drive\n",
        "  from google.colab import drive\n",
        "  drive.mount('/content/gdrive/', force_remount=True)"
      ],
      "metadata": {
        "colab": {
          "base_uri": "https://localhost:8080/"
        },
        "id": "nLqOFVfueoPA",
        "outputId": "dde8ee8a-09a8-4272-9d72-26f4c7b46685"
      },
      "execution_count": 1,
      "outputs": [
        {
          "output_type": "stream",
          "name": "stdout",
          "text": [
            "Mounted at /content/gdrive/\n"
          ]
        }
      ]
    },
    {
      "cell_type": "code",
      "source": [
        "if __name__ == '__main__':\n",
        "  ## Load all ipynb files from Google Drive to Colab environment\n",
        "  import os\n",
        "  import shutil\n",
        "\n",
        "  def find_and_copy_files(src_folder, dest_folder, file_extension):\n",
        "    for foldername, subfolders, filenames in os.walk(src_folder):\n",
        "        for filename in filenames:\n",
        "            if filename.endswith(file_extension):\n",
        "                src_file = os.path.join(foldername, filename)\n",
        "                dest_file = os.path.join(dest_folder, filename)\n",
        "                try:\n",
        "                    shutil.copy2(src_file, dest_file)  # Use shutil.copy if you don't need metadata\n",
        "                    print(f\"Copied: {src_file} to {dest_file}\")\n",
        "                except Exception as e:\n",
        "                    print(f\"Error copying {src_file}: {e}\")"
      ],
      "metadata": {
        "id": "K-8fY_WPexHc"
      },
      "execution_count": 2,
      "outputs": []
    },
    {
      "cell_type": "code",
      "source": [
        "if __name__ == '__main__':\n",
        "  src_folder = '/content/gdrive/MyDrive/OWR/source'\n",
        "  dest_folder = '/content'\n",
        "  file_extension = '.ipynb'\n",
        "\n",
        "  # Call the function to find and copy files\n",
        "  find_and_copy_files(src_folder, dest_folder, file_extension)"
      ],
      "metadata": {
        "colab": {
          "base_uri": "https://localhost:8080/"
        },
        "id": "ai5sAaFJfm--",
        "outputId": "d97d6f11-39a4-4819-eb4d-c0af226d2f7a"
      },
      "execution_count": 3,
      "outputs": [
        {
          "output_type": "stream",
          "name": "stdout",
          "text": [
            "Copied: /content/gdrive/MyDrive/OWR/source/input_generator/owr_input_generator.ipynb to /content/owr_input_generator.ipynb\n",
            "Copied: /content/gdrive/MyDrive/OWR/source/owr_model/owr_model_v2.ipynb to /content/owr_model_v2.ipynb\n",
            "Copied: /content/gdrive/MyDrive/OWR/source/owr_model/preprocessing/owr_preprocess_skew_CNN_classification.ipynb to /content/owr_preprocess_skew_CNN_classification.ipynb\n",
            "Copied: /content/gdrive/MyDrive/OWR/source/owr_model/preprocessing/owr_preprocess_skew_CNN_regression.ipynb to /content/owr_preprocess_skew_CNN_regression.ipynb\n",
            "Copied: /content/gdrive/MyDrive/OWR/source/owr_model/preprocessing/owr_preprocess_skew_cv.ipynb to /content/owr_preprocess_skew_cv.ipynb\n",
            "Copied: /content/gdrive/MyDrive/OWR/source/owr_model/preprocessing/owr_pre_skew_cv_base.ipynb to /content/owr_pre_skew_cv_base.ipynb\n",
            "Copied: /content/gdrive/MyDrive/OWR/source/owr_model/preprocessing/owr_preprocessing.ipynb to /content/owr_preprocessing.ipynb\n"
          ]
        }
      ]
    },
    {
      "cell_type": "code",
      "source": [
        "if __name__ == '__main__':\n",
        "  from IPython.display import clear_output as cls\n",
        "  !pip install import_ipynb\n",
        "  import import_ipynb\n",
        "\n",
        "  cls()"
      ],
      "metadata": {
        "id": "q6GlFzMXf1-C"
      },
      "execution_count": 4,
      "outputs": []
    },
    {
      "cell_type": "code",
      "source": [
        "if __name__ == '__main__':\n",
        "  # Import Colab Models\n",
        "  import owr_preprocessing as BPP\n",
        "  import owr_model_v2 as WM"
      ],
      "metadata": {
        "colab": {
          "base_uri": "https://localhost:8080/"
        },
        "id": "YVhX4lAnf4R6",
        "outputId": "9d441302-7b12-40d1-9fe1-d74734e64cbc"
      },
      "execution_count": 5,
      "outputs": [
        {
          "output_type": "stream",
          "name": "stdout",
          "text": [
            "importing Jupyter notebook from owr_preprocessing.ipynb\n",
            "importing Jupyter notebook from owr_model_v2.ipynb\n"
          ]
        }
      ]
    },
    {
      "cell_type": "code",
      "source": [
        "# Load Libraries\n",
        "import os\n",
        "import json\n",
        "import random\n",
        "import matplotlib.pyplot as plt\n",
        "import PIL.Image as Image\n",
        "import numpy as np\n",
        "import math\n",
        "from datetime import datetime\n",
        "import pandas as pd\n",
        "import cv2\n",
        "from google.colab.patches import cv2_imshow\n",
        "from IPython.display import clear_output as cls\n",
        "\n",
        "from tensorflow import keras\n",
        "import tensorflow as tf"
      ],
      "metadata": {
        "id": "g_aicDZLf-bU"
      },
      "execution_count": 6,
      "outputs": []
    },
    {
      "cell_type": "code",
      "source": [
        "# Global Parameters\n",
        "CharHeight4Line = 6\n",
        "#CharWidth4Line = 85\n",
        "CharWidth4Line = 185\n",
        "\n",
        "CharHeight = 4\n",
        "CharWidth = 4"
      ],
      "metadata": {
        "id": "irQ2WP00WGP0"
      },
      "execution_count": 7,
      "outputs": []
    },
    {
      "cell_type": "markdown",
      "source": [
        "### Initial Segmentation to Tables and Textual Areas"
      ],
      "metadata": {
        "id": "L6OrPVRscmr3"
      }
    },
    {
      "cell_type": "code",
      "execution_count": 8,
      "metadata": {
        "id": "h8OuoCVvh6fR"
      },
      "outputs": [],
      "source": [
        "def imgZoom(img):\n",
        "  # Get the current size of the image\n",
        "  current_height, current_width, _ = img.shape\n",
        "\n",
        "  # Calculate the new size (3/2 times the current size)\n",
        "  new_height = int(current_height * 3 / 2)\n",
        "  new_width = int(current_width * 3 / 2)\n",
        "\n",
        "  # Resize the image\n",
        "  return cv2.resize(img, (new_width, new_height))"
      ]
    },
    {
      "cell_type": "code",
      "source": [
        "# The prerequisite for the function is a Binary image.\n",
        "def getContours(img):\n",
        "\n",
        "  # Define Kernel for Morphological Operations\n",
        "\n",
        "  # Image width\n",
        "  kernel_length = np.array(img).shape[1]//80\n",
        "\n",
        "  # A verticle kernel of (1 x kernel_length)\n",
        "  verticle_kernel = cv2.getStructuringElement(cv2.MORPH_RECT, (1,kernel_length))\n",
        "\n",
        "  # A horizontal kernel of (kernel_length x 1)\n",
        "  hori_kernel = cv2.getStructuringElement(cv2.MORPH_RECT, (kernel_length,1))\n",
        "\n",
        "  # A kernel of (3 x 3) ones\n",
        "  kernel = cv2.getStructuringElement(cv2.MORPH_RECT, (3,3))\n",
        "\n",
        "\n",
        "  # Morphological operation to detect vertical lines from an image\n",
        "  img_temp1 = cv2.erode(img, verticle_kernel, iterations=3)\n",
        "  vertical_lines_img = cv2.dilate(img_temp1, verticle_kernel, iterations=3)\n",
        "\n",
        "  # Morphological operation to detect horizontal lines from an image\n",
        "  img_temp2 = cv2.erode(img, hori_kernel, iterations=3)\n",
        "  horizontal_lines_img = cv2.dilate(img_temp2, hori_kernel, iterations=3)\n",
        "\n",
        "  # Weighting parameters, this will decide the quantity of an image to be added to make a new image.\n",
        "  alpha = 0.5\n",
        "  beta = 1.0 - alpha\n",
        "\n",
        "\n",
        "  # This function helps to add two image with specific weight parameter to get a third image as summation of two image.\n",
        "  img_final_bin = cv2.addWeighted(vertical_lines_img, alpha, horizontal_lines_img, beta, 0.0)\n",
        "  img_final_bin = cv2.erode(~img_final_bin, kernel, iterations=2)\n",
        "\n",
        "  (thresh, img_final_bin) = cv2.threshold(img_final_bin, 128,255, cv2.THRESH_BINARY | cv2.THRESH_OTSU)\n",
        "\n",
        "  # Find contours for image, which will detect all the boxes\n",
        "  contours, hierarchy = cv2.findContours(img_final_bin, cv2.RETR_TREE, cv2.CHAIN_APPROX_SIMPLE)\n",
        "\n",
        "  '''\n",
        "  0 : Star [1,-1,-1,-1]\n",
        "  … Next — Outer Square (1)\n",
        "  … Previous — No Contour(-1)\n",
        "  … Child — No Child (-1)\n",
        "  … Parent — No Parent (-1)\n",
        "\n",
        "  '''\n",
        "\n",
        "  # Initialize lists to store outer rectangles and their child contours\n",
        "  outer_rectangles = []\n",
        "  child_contours = []\n",
        "\n",
        "  # Iterate through the hierarchy to find outer rectangles and their children\n",
        "  for i in range(len(contours)):\n",
        "\n",
        "      if hierarchy[0][i][3] == 0:  # Check if the contour has no parent (i.e., it's an outer contour)\n",
        "          # Calculate the bounding rectangle of the outer contour\n",
        "          x, y, w, h = cv2.boundingRect(contours[i])\n",
        "          outer_rectangles.append((x, y, x + w, y + h))\n",
        "\n",
        "          # Find child contours of the outer contour\n",
        "          children = []\n",
        "          for j in range(len(contours)):\n",
        "              if hierarchy[0][j][3] == i:  # Check if contour j is a child of contour i\n",
        "                  child_contour = contours[j]\n",
        "                  x, y, w, h = cv2.boundingRect(child_contour)\n",
        "                  children.append((x, y, x + w, y + h))\n",
        "          child_contours.append(children)\n",
        "\n",
        "  # Sort the outer rectangles based on their top-left coordinates (y, x)\n",
        "  outer_rectangles = sorted(outer_rectangles, key=lambda rect: (rect[1], rect[0]))\n",
        "\n",
        "  # Sort the child contours based on their top-left coordinates (y, x)\n",
        "  for i in range(len(child_contours)):\n",
        "    child_contours[i] = sorted(child_contours[i], key=lambda rect: (rect[1], rect[0]))\n",
        "\n",
        "  child_min_y = []\n",
        "  for i in range(len(child_contours)):\n",
        "    y_min = np.array(img).shape[0]\n",
        "    for j in range(len(child_contours[i])):\n",
        "      if y_min > child_contours[i][j][1]:\n",
        "        y_min = child_contours[i][j][1]\n",
        "\n",
        "    child_min_y.append((y_min, i))\n",
        "  child_min_y = np.array(child_min_y)\n",
        "  sorted_array = child_min_y[child_min_y[:, 0].argsort()]\n",
        "\n",
        "\n",
        "  tempChild = []\n",
        "  for i in range(len(sorted_array)):\n",
        "    tempChild.append(child_contours[sorted_array[i][1]])\n",
        "\n",
        "  child_contours = tempChild\n",
        "\n",
        "  # Return the contours\n",
        "  return outer_rectangles, child_contours"
      ],
      "metadata": {
        "id": "ujpsed32oUVO"
      },
      "execution_count": 9,
      "outputs": []
    },
    {
      "cell_type": "code",
      "source": [
        "def getBinarized(OrgImg, Zoon=True):\n",
        "  # Convert image to Grayscale\n",
        "  GrayImg = BPP.set_grayscale(OrgImg)\n",
        "\n",
        "  # Binarization\n",
        "  BinaryImg = BPP.set_Adaptive_Binarization(GrayImg)\n",
        "\n",
        "  return BinaryImg"
      ],
      "metadata": {
        "id": "aQa3lIfkLmnK"
      },
      "execution_count": 10,
      "outputs": []
    },
    {
      "cell_type": "code",
      "source": [
        "''' Retuen Table from Image\n",
        "    As per the CD template there are two tables\n",
        "    1. Code and Course Title\n",
        "    2. Assessments\n",
        "    Input Parameter\n",
        "    Extract:\n",
        "      1 - Code and Course Title\n",
        "      2 - Assessments\n",
        "      -1 - Without Code, Course Title and Assessments\n",
        "'''\n",
        "def getTableImg(orgImg, outer_rectangles, extract=-1):\n",
        "\n",
        "  orgImg = orgImg.copy()\n",
        "\n",
        "  if extract == 1:\n",
        "    x1, y1, x2,y2 = outer_rectangles[0]\n",
        "    return orgImg[y1:y2, x1:x2]\n",
        "  elif extract == 2:\n",
        "    x1, y1, x2,y2 = outer_rectangles[1]\n",
        "    return orgImg[y1:y2, x1:x2]\n",
        "  else:\n",
        "    for rect in outer_rectangles:\n",
        "      x1, y1, x2, y2 = rect\n",
        "      cv2.rectangle(orgImg, (x1, y1), (x2, y2), 0, thickness=cv2.FILLED)\n",
        "    return orgImg\n",
        "\n"
      ],
      "metadata": {
        "id": "K1iNr78feNc0"
      },
      "execution_count": 11,
      "outputs": []
    },
    {
      "cell_type": "code",
      "source": [
        "def imgCourseCode(img, outer_rectangles, child_contours):\n",
        "  out_x1, out_y1, out_x2, out_y2 = outer_rectangles[0]\n",
        "  child_x1, child_y1, child_x2, child_y2 = child_contours[0][0]\n",
        "\n",
        "  x1 = child_x1 - out_x1\n",
        "  y1 = child_y1 - out_y1\n",
        "  x2 = child_x2 - out_x1\n",
        "  y2 = child_y2 - out_y1\n",
        "\n",
        "  img = img[y1:y2, x1:x2]\n",
        "\n",
        "  return img"
      ],
      "metadata": {
        "id": "8Qjus1UeSOMu"
      },
      "execution_count": 12,
      "outputs": []
    },
    {
      "cell_type": "code",
      "source": [
        "def imgCourseTitle(img, outer_rectangles, child_contours):\n",
        "  out_x1, out_y1, out_x2, out_y2 = outer_rectangles[0]\n",
        "  child_x1, child_y1, child_x2, child_y2 = child_contours[0][1]\n",
        "\n",
        "  x1 = child_x1 - out_x1\n",
        "  y1 = child_y1 - out_y1\n",
        "  x2 = child_x2 - out_x1\n",
        "  y2 = child_y2 - out_y1\n",
        "\n",
        "  img = img[y1:y2, x1:x2]\n",
        "\n",
        "  return img"
      ],
      "metadata": {
        "id": "IzB5Mwu0Tpdx"
      },
      "execution_count": 13,
      "outputs": []
    },
    {
      "cell_type": "code",
      "source": [
        "def imgAssessments(img, outer_rectangles, child_contours, row):\n",
        "  if row == 0:\n",
        "    index = 0\n",
        "  else:\n",
        "    index = 0\n",
        "    for j in range(row):\n",
        "      index += 3\n",
        "\n",
        "  out_x1, out_y1, out_x2, out_y2 = outer_rectangles[1]\n",
        "\n",
        "  for i in range(3):\n",
        "    child_x1, child_y1, child_x2, child_y2 = child_contours[1][index + i]\n",
        "\n",
        "    x1 = child_x1 - out_x1\n",
        "    y1 = child_y1 - out_y1\n",
        "    x2 = child_x2 - out_x1\n",
        "    y2 = child_y2 - out_y1\n",
        "\n",
        "    if i == 0:\n",
        "      method = img[y1:y2, x1:x2]\n",
        "    elif i == 1:\n",
        "      weight = img[y1:y2, x1:x2]\n",
        "    else:\n",
        "      learning = img[y1:y2, x1:x2]\n",
        "\n",
        "  return method, weight, learning\n"
      ],
      "metadata": {
        "id": "Mlwa6-O9VtnK"
      },
      "execution_count": 14,
      "outputs": []
    },
    {
      "cell_type": "code",
      "source": [
        "def getLines(img):\n",
        "  kernel = np.ones((CharHeight4Line, CharWidth4Line), np.uint8)\n",
        "  dilated = cv2.dilate(img, kernel, iterations=1)\n",
        "\n",
        "  #cv2_imshow(dilated)\n",
        "\n",
        "  (contours, heirarchy) = cv2.findContours(dilated.copy(), cv2.RETR_EXTERNAL, cv2.CHAIN_APPROX_NONE)\n",
        "  sorted_contours_lines = sorted(contours, key = lambda ctr : cv2.boundingRect(ctr)[1]) # (x, y, w, h)\n",
        "\n",
        "  line_contours = []\n",
        "  for line in sorted_contours_lines:\n",
        "    x, y, w, h = cv2.boundingRect(line)\n",
        "    line_contours.append((x, y, x + w, y + h))\n",
        "\n",
        "\n",
        "  return line_contours"
      ],
      "metadata": {
        "id": "zsPnadiXFKRG"
      },
      "execution_count": 15,
      "outputs": []
    },
    {
      "cell_type": "code",
      "source": [
        "def getWords(img, lines, index):\n",
        "  words_list = []\n",
        "  kernel = np.ones((CharHeight,CharWidth), np.uint8)\n",
        "\n",
        "  x = lines[index][0]\n",
        "  y = lines[index][1]\n",
        "  x_e = lines[index][2]\n",
        "  y_e = lines[index][3]\n",
        "\n",
        "\n",
        "  #print(x, y, x_e, y_e)\n",
        "  img = img[y:y_e, x:x_e]\n",
        "  #cv2_imshow(img)\n",
        "  #print(img.shape)\n",
        "\n",
        "  dilated = cv2.dilate(img, kernel, iterations = 1)\n",
        "\n",
        "  # draw contours on each word\n",
        "  (cnt, heirarchy) = cv2.findContours(dilated.copy(), cv2.RETR_EXTERNAL, cv2.CHAIN_APPROX_NONE)\n",
        "  sorted_contour_words = sorted(cnt, key=lambda cntr : cv2.boundingRect(cntr)[0])\n",
        "\n",
        "  for word in sorted_contour_words:\n",
        "\n",
        "    x2, y2, w2, h2 = cv2.boundingRect(word)\n",
        "    words_list.append([x+x2, y+y2, x+x2+w2, y+y2+h2])\n",
        "\n",
        "  # Remove overlapping rectangles\n",
        "  non_overlapping_coordinates = remove_overlapping(words_list)\n",
        "\n",
        "  return non_overlapping_coordinates"
      ],
      "metadata": {
        "id": "TEnRI7Jba11J"
      },
      "execution_count": 16,
      "outputs": []
    },
    {
      "cell_type": "code",
      "source": [
        "def getCharacters(img, preprocess):\n",
        "  if preprocess:\n",
        "    # Define a kernel for dilation\n",
        "    kernel = np.ones((1, 1), np.uint8)\n",
        "\n",
        "    # Dilate the binary image to increase the black in the middle of characters\n",
        "    dilated_image = cv2.dilate(img, kernel, iterations=2)\n",
        "\n",
        "  image = dilated_image.copy()\n",
        "  #cv2_imshow(image)\n",
        "\n",
        "  # Find contours in the binary image\n",
        "  contours, _ = cv2.findContours(image, cv2.RETR_EXTERNAL, cv2.CHAIN_APPROX_SIMPLE)\n",
        "\n",
        "  sorted_contour_characters = sorted(contours, key=lambda cntr : cv2.boundingRect(cntr)[0])\n",
        "\n",
        "  character_list = []\n",
        "  for char in sorted_contour_characters:\n",
        "\n",
        "    #if cv2.contourArea(word) < 400:\n",
        "    #    continue\n",
        "\n",
        "    x, y, w, h = cv2.boundingRect(char)\n",
        "    character_list.append([x,y,w,h])\n",
        "\n",
        "\n",
        "  verticle_coordinate = []\n",
        "  for char in character_list:\n",
        "    verticle_coordinate.append([char[0],char[0]+char[2]])\n",
        "\n",
        "  verticle_coordinate = remove_overlapping_characters(verticle_coordinate)\n",
        "\n",
        "  return verticle_coordinate"
      ],
      "metadata": {
        "id": "3mC_nQ0iVVDI"
      },
      "execution_count": 17,
      "outputs": []
    },
    {
      "cell_type": "code",
      "source": [
        "def calculate_area(coord):\n",
        "    # Calculate the area of a rectangle defined by [x, y, w, h]\n",
        "    return (coord[2] - coord[0]) * (coord[3] - coord[1])\n",
        "\n",
        "def is_overlapping(coord1, coord2):\n",
        "    buffer = 10\n",
        "    # Check if two rectangles defined by [x, y, w, h] are overlapping\n",
        "    x1, y1, x12, y12 = coord1\n",
        "    x2, y2, x22, y22 = coord2\n",
        "    #return (x1 < x2 + w2 and x1 + w1 > x2 and y1 < y2 + h2 and y1 + h1 > y2)\n",
        "    return ((x1 - buffer <= x2 <= x12 + buffer and x1 - buffer <= x22 <= x12 + buffer\n",
        "             and y1 - buffer <= y2 <= y12 + buffer and y1 - buffer <= y22 <= y12 +buffer)\n",
        "          or (x2 - buffer <= x1 <= x22 + buffer and x2 - buffer <= x12 <= x22 + buffer\n",
        "              and y2 - buffer <= y1 <= y22 + buffer and y2 - buffer <= y12 <= y22 + buffer))\n",
        "\n",
        "def remove_overlapping(rectangles):\n",
        "    # Sort the rectangles by area (largest first)\n",
        "    rectangles.sort(key=calculate_area, reverse=True)\n",
        "\n",
        "    # Initialize a list to store non-overlapping rectangles\n",
        "    non_overlapping_rectangles = []\n",
        "\n",
        "    for rect in rectangles:\n",
        "        if all(not is_overlapping(rect, existing_rect) for existing_rect in non_overlapping_rectangles):\n",
        "            non_overlapping_rectangles.append(rect)\n",
        "\n",
        "    non_overlapping_rectangles = sorted(non_overlapping_rectangles, key=lambda rect : rect[0])\n",
        "    # Sort the outer rectangles based on their top-left coordinates (y, x)\n",
        "    #outer_rectangles = sorted(outer_rectangles, key=lambda rect: (rect[1], rect[0]))\n",
        "\n",
        "    return non_overlapping_rectangles\n",
        "\n",
        "# take second element for sort\n",
        "def takeFirst(elem):\n",
        "    return elem[0]\n",
        "\n",
        "def is_overlapping_characters(coord1, coord2):\n",
        "    buffer = 2\n",
        "    # Check if two rectangles defined by [x, y, w, h] are overlapping\n",
        "    x11, x12 = coord1\n",
        "    x21, x22 = coord2\n",
        "\n",
        "    return (( x11 - buffer <= x21 <= x11 + buffer and x12 - buffer <= x22 <= x12 + buffer)\n",
        "             or (x21 - buffer <= x11 <= x21 + buffer and x22 - buffer <= x12 <= x22 + buffer))\n",
        "\n",
        "def remove_overlapping_characters(x_coor):\n",
        "  x_coor.sort(key=takeFirst)\n",
        "\n",
        "  # Initialize a list to store non-overlapping rectangles\n",
        "  non_overlapping_characters = []\n",
        "\n",
        "  for char in x_coor:\n",
        "    if all(not is_overlapping_characters(char, existing_char) for existing_char in non_overlapping_characters):\n",
        "            non_overlapping_characters.append(char)\n",
        "\n",
        "\n",
        "  return non_overlapping_characters"
      ],
      "metadata": {
        "id": "vRMS81ASm9cQ"
      },
      "execution_count": 18,
      "outputs": []
    },
    {
      "cell_type": "code",
      "source": [
        "# Model to predict Characters\n",
        "def load_character_prediction_model(model_path):\n",
        "\n",
        "    model = keras.models.load_model(model_path)\n",
        "\n",
        "\n",
        "    # class_names = ['0','1','2','3','4','5','6','7','8','9','A','B','C','D','E','F',\n",
        "    #            'G','H','I','J','K','L','M','N','O','P','Q','R','S','T','U','V',\n",
        "    #            'W','X','Y','Z']\n",
        "\n",
        "    # class_names = ['0','1','2','3','4','5','6','7','8','9','A','B','C','D','E','F',\n",
        "    #            'G','H','I','J','K','L','M','N','O','P','Q','R','S','T','U','V',\n",
        "    #            'W','X','Y','Z','a','b','c','d','e','f','g','h','i','j','k','l',\n",
        "    #            'm','n','o','p','q','r','s','t','u','v','w','x','y','z']\n",
        "\n",
        "    class_names = [  '0','1' , '2' , '3' , '4' , '5' , '6' , '7', '8' , '9' ,\n",
        "    'A_U', 'B_U', 'C_U', 'D_U', 'E_U', 'F_U', 'G_U', 'H_U', 'I_U', 'J_U', 'K_U', 'L_U', 'M_U', 'N_U', 'O_U', 'P_U', 'Q_U', 'R_U', 'S_U', 'T_U', 'U_U', 'V_U', 'W_U', 'X_U', 'Y_U', 'Z_U',\n",
        "    'a_L', 'b_L', 'c_L', 'd_L', 'e_L', 'f_L', 'g_L', 'h_L', 'i_L', 'j_L', 'k_L', 'l_L', 'm_L', 'n_L', 'o_L', 'p_L', 'q_L', 'r_L', 's_L', 't_L', 'u_L', 'v_L', 'w_L', 'x_L', 'y_L', 'z_L']\n",
        "\n",
        "    n_classes = len(class_names)\n",
        "    return model, class_names, n_classes"
      ],
      "metadata": {
        "id": "qYUbzq1tdBHI"
      },
      "execution_count": 19,
      "outputs": []
    },
    {
      "cell_type": "code",
      "source": [
        "# Load Word Prediction Model\n",
        "def load_word_prediction_model(model_path):\n",
        "\n",
        "    model = WM.Image_text_recogniser_model_1('predict')\n",
        "\n",
        "    model.load_weights(model_path)\n",
        "\n",
        "    #Letters present in the Label Text\n",
        "    letters= '0123456789ABCDEFGHIJKLMNOPQRSTUVWXYZ'\n",
        "\n",
        "    n_letters = len(letters)\n",
        "    return model, letters, n_letters"
      ],
      "metadata": {
        "id": "O2ZAFcyrjmj8"
      },
      "execution_count": 20,
      "outputs": []
    },
    {
      "cell_type": "code",
      "source": [
        "def findCharacter(model, class_names, imgChar):\n",
        "\n",
        "  class_mapping = {\n",
        "    '0' : '0','1' : '1', '2' : '2', '3' : '3', '4' : '4', '5' : '5', '6' : '6', '7' : '7', '8' : '8', '9' : '9',\n",
        "    'A_U': 'A', 'B_U': 'B', 'C_U': 'C', 'D_U': 'D', 'E_U': 'E', 'F_U': 'F', 'G_U': 'G', 'H_U': 'H', 'I_U': 'I', 'J_U': 'J', 'K_U': 'K', 'L_U': 'L', 'M_U': 'M', 'N_U': 'N', 'O_U': 'O', 'P_U': 'P', 'Q_U': 'Q', 'R_U': 'R', 'S_U': 'S', 'T_U': 'T', 'U_U': 'U', 'V_U': 'V', 'W_U': 'W', 'X_U': 'X', 'Y_U': 'Y', 'Z_U': 'Z',\n",
        "    'a_L': 'A', 'b_L': 'B', 'c_L': 'C', 'd_L': 'D', 'e_L': 'E', 'f_L': 'F', 'g_L': 'G', 'h_L': 'H', 'i_L': 'I', 'j_L': 'J', 'k_L': 'K', 'l_L': 'L', 'm_L': 'M', 'n_L': 'N', 'o_L': 'O', 'p_L': 'P', 'q_L': 'Q', 'r_L': 'R', 's_L': 'S', 't_L': 'T', 'u_L': 'U', 'v_L': 'V', 'w_L': 'W', 'x_L': 'X', 'y_L': 'Y', 'z_L': 'Z'\n",
        "    # Add more mappings as needed\n",
        "    }\n",
        "  #imgChar = cv2.imread('/content/gdrive/MyDrive/OWR/data/tmpCharacterSegment3/character_5.png')\n",
        "\n",
        "  #  # Resize image\n",
        "  # #img = img.resize((64,64), Image.ANTIALIAS)\n",
        "  #img = cv2.resize(imgChar, (64, 64))\n",
        "  # #img = cv2.resize(imgChar, (32, 32))\n",
        "  img = cv2.resize(imgChar, (40, 60))\n",
        "\n",
        "  # cv2_imshow(img)\n",
        "\n",
        "  #kernel = np.ones((2, 2), np.uint8)\n",
        "\n",
        "  # # Dilate the binary image to increase the black in the middle of characters\n",
        "  #dilated_image = cv2.dilate(img, kernel, iterations=2)\n",
        "\n",
        "  # cv2_imshow(dilated_image)\n",
        "\n",
        "  #image = dilated_image.copy()\n",
        "  img = cv2.cvtColor(img, cv2.COLOR_GRAY2BGR)\n",
        "  #img = np.expand_dims(img, axis=-1)\n",
        "\n",
        "\n",
        "  # cv2_imshow(img)\n",
        "\n",
        "  # # Convert to NumPy array\n",
        "  # img_array = np.array(img)\n",
        "  # #img_array = img\n",
        "  # #print(img)\n",
        "\n",
        "  # # Normalize by dividing by 255\n",
        "  # img_array = img_array / 255\n",
        "  # #img = img / 255\n",
        "  # #print(img_array.shape)\n",
        "  # #plt.imshow(img_array, cmap='gray')\n",
        "  # cv2_imshow(img_array)\n",
        "  # #print(img)\n",
        "\n",
        "  # image = tf.expand_dims((img_array), axis=0)\n",
        "  # #image = img_array\n",
        "\n",
        "  # pred = model.predict(image, verbose=None)[0]\n",
        "  # max_index = tf.argmax(pred)\n",
        "  # score = pred[max_index]\n",
        "  # pred_label = class_names[max_index]\n",
        "  # pred_label = class_mapping[pred_label]\n",
        "\n",
        "\n",
        "\n",
        "  resize = tf.expand_dims((img/255), axis=0)\n",
        "\n",
        "  yhat = model.predict((resize), verbose=None)[0]\n",
        "  max_index = tf.argmax(yhat)\n",
        "  score = yhat[max_index]\n",
        "  pred_label = class_names[max_index]\n",
        "  pred_label = class_mapping[pred_label]\n",
        "\n",
        "\n",
        "  return pred_label"
      ],
      "metadata": {
        "id": "4Sje4plBeUPd"
      },
      "execution_count": 21,
      "outputs": []
    },
    {
      "cell_type": "code",
      "source": [
        "def findWord(model, img):\n",
        "\n",
        "  img = cv2.resize(img,(170,32))\n",
        "  img = cv2.cvtColor(img, cv2.COLOR_GRAY2BGR)\n",
        "  img = img[:,:,1]\n",
        "  img = img.T\n",
        "  img = np.expand_dims(img, axis=-1)\n",
        "  img = np.expand_dims(img, axis=0)\n",
        "  img = img/255\n",
        "\n",
        "  model_output = model.predict(img, verbose=None)\n",
        "  predicted_output = WM.decode_label(model_output)\n",
        "\n",
        "  return predicted_output"
      ],
      "metadata": {
        "id": "xyp2tFUf830b"
      },
      "execution_count": 22,
      "outputs": []
    },
    {
      "cell_type": "code",
      "source": [
        "len(child_contours[1])"
      ],
      "metadata": {
        "id": "GcAfCfJgcoS3",
        "colab": {
          "base_uri": "https://localhost:8080/"
        },
        "outputId": "f97b23a6-a730-4d43-85f6-358f06a5894f"
      },
      "execution_count": null,
      "outputs": [
        {
          "output_type": "execute_result",
          "data": {
            "text/plain": [
              "15"
            ]
          },
          "metadata": {},
          "execution_count": 21
        }
      ]
    },
    {
      "cell_type": "markdown",
      "source": [
        "# Document Processing"
      ],
      "metadata": {
        "id": "wjZKIC_K307w"
      }
    },
    {
      "cell_type": "code",
      "source": [
        "def get_Word_and_Character_Models(img, Model_Word, funWord, WordClasses, Model_Character, funCharacter, CharClasses):\n",
        "  wordList = []\n",
        "  charList = []\n",
        "\n",
        "  Lines = getLines(img)\n",
        "\n",
        "  for i in range(len(Lines)):\n",
        "    words = getWords(img, Lines, i)\n",
        "\n",
        "    result_word = ''\n",
        "    result_char = ''\n",
        "    for word in words:\n",
        "      imgWord = img[word[1]:word[3], word[0]:word[2]]\n",
        "\n",
        "      # Predic Word\n",
        "      word_image = cv2.bitwise_not(imgWord)\n",
        "      predict_word = funWord(Model_Word, word_image)\n",
        "      #wordList.append(predict_word)\n",
        "\n",
        "      # # Get Characters\n",
        "      # non_overlapping_characters = getCharacters(imgWord, True)\n",
        "\n",
        "      # result_string = ''\n",
        "      # for i, x in enumerate(non_overlapping_characters):\n",
        "      #   # Crop the character from the original image\n",
        "      #   x1, x2 = x\n",
        "      #   char_image = imgWord[: ,  x1 - 1:x2 + 1]\n",
        "\n",
        "      #   #cv2_imshow(char_image)\n",
        "\n",
        "\n",
        "      #   #####################################################################\n",
        "\n",
        "      #   # Define a kernel for dilation\n",
        "      #   kernel = np.ones((1, 1), np.uint8)\n",
        "\n",
        "      #   # Dilate the binary image to increase the black in the middle of characters\n",
        "      #   dilated_image = cv2.dilate(char_image, kernel, iterations=2)\n",
        "\n",
        "      #   image = dilated_image.copy()\n",
        "      #   #cv2_imshow(image)\n",
        "\n",
        "      #   # Find contours in the binary image\n",
        "      #   contours, _ = cv2.findContours(image, cv2.RETR_EXTERNAL, cv2.CHAIN_APPROX_SIMPLE)\n",
        "\n",
        "      #   y1 = 0\n",
        "      #   y2 = 0\n",
        "      #   for i in range(len(contours)):\n",
        "      #     x, y, w, h = cv2.boundingRect(contours[i])\n",
        "      #     if i == 0:\n",
        "      #       y1 = y\n",
        "      #       y2 = y + h\n",
        "      #     else:\n",
        "      #       if y < y1:\n",
        "      #         y1 = y\n",
        "      #       if (y + h) > y2:\n",
        "      #         y2 = y + h\n",
        "\n",
        "      #   char_image = char_image[y1 : y2 ,  :]\n",
        "\n",
        "      #   ###############################################################\n",
        "\n",
        "      #   # Create a blank white canvas (32x32)\n",
        "      #   canvas = np.zeros((32, 32), dtype=np.uint8)\n",
        "\n",
        "      #   # Calculate the position to paste the image onto the center of the canvas\n",
        "      #   x_offset = (canvas.shape[1] - char_image.shape[1]) // 2\n",
        "      #   y_offset = (canvas.shape[0] - char_image.shape[0]) // 2\n",
        "\n",
        "      #   # Paste the image onto the canvas\n",
        "      #   canvas[y_offset:y_offset + char_image.shape[0], x_offset:x_offset + char_image.shape[1]] = char_image\n",
        "\n",
        "      #   canvas = cv2.bitwise_not(canvas)\n",
        "      #   predict_char = funCharacter(Model_Character, CharClasses, canvas)\n",
        "      #   result_string += predict_char\n",
        "\n",
        "      # if len(result_char) > 0:\n",
        "      #   result_char = result_char + ' ' + result_string\n",
        "      # else: result_char =  result_string\n",
        "\n",
        "\n",
        "      if len(result_word) > 0:\n",
        "        result_word = result_word + ' ' + predict_word\n",
        "      else: result_word =  predict_word\n",
        "\n",
        "    charList.append(result_char)\n",
        "    wordList.append(result_word)\n",
        "\n",
        "  return wordList, charList"
      ],
      "metadata": {
        "id": "TK0Hu6zRn95G"
      },
      "execution_count": 23,
      "outputs": []
    },
    {
      "cell_type": "code",
      "source": [
        "def get_courseCode(img, outer_rectangles, child_contours, \\\n",
        "                   Model_Word, funWord, WordClasses, Model_Character, funCharacter, CharClasses ):\n",
        "\n",
        "  # Get Course Code\n",
        "  img = imgCourseCode(img, outer_rectangles, child_contours)\n",
        "\n",
        "  wordList, charList = get_Word_and_Character_Models(img, Model_Word, funWord, WordClasses, Model_Character, funCharacter, CharClasses)\n",
        "\n",
        "  for i in range(len(wordList)):\n",
        "    wordList[i] = wordList[i].replace(' ', '')\n",
        "  for i in range(len(charList)):\n",
        "    charList[i] = charList[i].replace(' ', '')\n",
        "\n",
        "  return wordList, charList\n",
        "\n",
        "def get_courseTitle(img, outer_rectangles, child_contours, \\\n",
        "                   Model_Word, funWord, WordClasses, Model_Character, funCharacter, CharClasses ):\n",
        "\n",
        "  # Get Course Title\n",
        "  img = imgCourseTitle(img, outer_rectangles, child_contours)\n",
        "\n",
        "  wordList, charList = get_Word_and_Character_Models(img, Model_Word, funWord, WordClasses, Model_Character, funCharacter, CharClasses)\n",
        "\n",
        "\n",
        "  return wordList, charList\n",
        "\n",
        "\n",
        "def get_courseAssessment(img, outer_rectangles, child_contours, \\\n",
        "                         Model_Word, funWord, WordClasses, Model_Character, funCharacter, CharClasses ):\n",
        "\n",
        "  num_of_rows = len(child_contours[1]) // 3\n",
        "\n",
        "  word_method = []\n",
        "  word_weight = []\n",
        "  word_learning = []\n",
        "\n",
        "  char_method = []\n",
        "  char_weight = []\n",
        "  char_learning = []\n",
        "\n",
        "  # Get Assessment\n",
        "  for row in range(num_of_rows):\n",
        "    imgChild1, imgChild2, imgChild3 = imgAssessments(img, outer_rectangles, child_contours, row)\n",
        "\n",
        "    wordMethod, charMethod = get_Word_and_Character_Models(imgChild1, Model_Word, funWord, WordClasses, Model_Character, funCharacter, CharClasses)\n",
        "    wordWeight, charWeight = get_Word_and_Character_Models(imgChild2, Model_Word, funWord, WordClasses, Model_Character, funCharacter, CharClasses)\n",
        "    wordLearning, charLearning = get_Word_and_Character_Models(imgChild3, Model_Word, funWord, WordClasses, Model_Character, funCharacter, CharClasses)\n",
        "\n",
        "    word_method.append(wordMethod)\n",
        "    word_weight.append(wordWeight)\n",
        "    word_learning.append(wordLearning)\n",
        "\n",
        "    char_method.append(charMethod)\n",
        "    char_weight.append(charWeight)\n",
        "    char_learning.append(charLearning)\n",
        "\n",
        "  return word_method, word_weight, word_learning, char_method, char_weight, char_learning\n",
        "\n",
        "\n",
        "def get_Doc(img, Model_Word, funWord, WordClasses, Model_Character, funCharacter, CharClasses ):\n",
        "\n",
        "  return get_Word_and_Character_Models(img, Model_Word, funWord, WordClasses, Model_Character, funCharacter, CharClasses)\n"
      ],
      "metadata": {
        "id": "czHIQB-plMRP"
      },
      "execution_count": 24,
      "outputs": []
    },
    {
      "cell_type": "code",
      "source": [
        "# Process document\n",
        "def processPage(Img, Model_Word, funWord, WordClasses, Model_Character, funCharacter, CharClasses, indexDB):\n",
        "\n",
        "  # Binarization\n",
        "  binaryImg = getBinarized(Img)\n",
        "\n",
        "  # Initial level segmentation on Tables\n",
        "  outer_rectangles, child_contours = getContours(binaryImg)\n",
        "\n",
        "  # Get Sections splitted\n",
        "  imgCode_Title = getTableImg(binaryImg, outer_rectangles, extract=1)\n",
        "  imgAssessment = getTableImg(binaryImg, outer_rectangles, extract=2)\n",
        "  imgRest = getTableImg(binaryImg, outer_rectangles, extract=-1)\n",
        "\n",
        "\n",
        "  courseCode_Word, courseCode_Char = get_courseCode(imgCode_Title, outer_rectangles, child_contours, \\\n",
        "                                                     Model_Word, funWord, WordClasses, Model_Character, funCharacter, CharClasses )\n",
        "\n",
        "  courseTitle_Word, courseTitle_Char = get_courseTitle(imgCode_Title, outer_rectangles, child_contours, \\\n",
        "                                                     Model_Word, funWord, WordClasses, Model_Character, funCharacter, CharClasses )\n",
        "\n",
        "  word_method, word_weight, word_learning, char_method, char_weight, char_learning = get_courseAssessment(imgAssessment,\\\n",
        "                                                                                                          outer_rectangles, child_contours, \\\n",
        "                                                     Model_Word, funWord, WordClasses, Model_Character, funCharacter, CharClasses )\n",
        "\n",
        "  #convert remaning document to text\n",
        "  docWord,  docChar = get_Doc(imgRest, Model_Word, funWord, WordClasses, Model_Character, funCharacter, CharClasses )\n",
        "\n",
        "\n",
        "\n",
        "  for word in courseCode_Word:\n",
        "    print(word)\n",
        "  for word in courseTitle_Word:\n",
        "    print(word)\n",
        "\n",
        "  print('*'* 50)\n",
        "  for word in docWord:\n",
        "    print(word)\n",
        "\n",
        "  print('*'* 50)\n",
        "  for word in word_method:\n",
        "    print(word)\n",
        "  for word in word_weight:\n",
        "    print(word)\n",
        "  for word in word_learning:\n",
        "    print(word)\n",
        "\n",
        "  # print('-'* 50)\n",
        "\n",
        "  # for char in courseCode_Char:\n",
        "  #   print(char)\n",
        "  # for char in courseTitle_Char:\n",
        "  #   print(char)\n",
        "\n",
        "  # print('*'* 50)\n",
        "  # for word in docChar:\n",
        "  #   print(word)\n",
        "\n",
        "  # print('*'* 50)\n",
        "  # for word in char_method:\n",
        "  #   print(word)\n",
        "  # for word in char_weight:\n",
        "  #   print(word)\n",
        "  # for word in char_learning:\n",
        "  #   print(word)\n",
        "\n",
        "\n",
        "\n",
        "\n",
        "\n",
        "\n",
        "\n",
        "\n",
        "  return courseCode_Word , courseTitle_Word, docWord, word_method, word_weight, word_learning"
      ],
      "metadata": {
        "id": "8Z9_Ah7dgg9J"
      },
      "execution_count": 25,
      "outputs": []
    },
    {
      "cell_type": "markdown",
      "source": [
        "# Test Module"
      ],
      "metadata": {
        "id": "S1VCk-6dnBFV"
      }
    },
    {
      "cell_type": "code",
      "source": [
        "#char_model_path = '/content/gdrive/MyDrive/OWR/dl_models/OCR_Model4/model_ocr_v4_1.h5'\n",
        "#char_model_path = '/content/gdrive/MyDrive/OWR/dl_models/OCR_Model3/model_ocr_v4.h5'\n",
        "#char_model_path = '/content/gdrive/MyDrive/OWR/dl_models/OCR_Model5/model_ocr_v5_1.h5'\n",
        "#char_model_path = '/content/gdrive/MyDrive/OWR/dl_models/OCR_Model5/model_ocr_v5.h5'\n",
        "#char_model_path = '/content/gdrive/MyDrive/OWR/dl_models/OCR_Model5/model_ocr_ResNet_v5.h5'\n",
        "char_model_path = '/content/gdrive/MyDrive/OWR/dl_models/OCR_Model5/model_ocr_ResNet_v5_2.h5'\n",
        "\n",
        "\n",
        "char_model, char_classes, num_char_classes = load_character_prediction_model(char_model_path)\n",
        "\n",
        "word_model_path = '/content/gdrive/MyDrive/OWR/dl_models/OWR_Model/Best_Img_recog_LSTM_Adam_model_run_weights.h5'\n",
        "\n",
        "word_model, word_classes, num_word_classes = load_word_prediction_model(word_model_path)\n"
      ],
      "metadata": {
        "id": "oDN7GOLltc1b"
      },
      "execution_count": 26,
      "outputs": []
    },
    {
      "cell_type": "code",
      "source": [
        "# Temporary Parameters\n",
        "tmpImgPath = '/content/gdrive/MyDrive/OWR/data/tmp_input/page_41.png'\n",
        "\n",
        "# Read the image\n",
        "tmpImg = cv2.imread(tmpImgPath)\n",
        "\n",
        "courseCode_Word , courseTitle_Word, docWord, word_method, word_weight, word_learning = processPage(tmpImg, word_model, findWord, word_classes, char_model, findCharacter, char_classes, '1001')"
      ],
      "metadata": {
        "colab": {
          "base_uri": "https://localhost:8080/"
        },
        "id": "Zmg-vXeH1GW-",
        "outputId": "23d4e2f7-d8c2-4340-b728-541eb700d2be"
      },
      "execution_count": 39,
      "outputs": [
        {
          "output_type": "stream",
          "name": "stdout",
          "text": [
            "IT5116\n",
            "DATA BASE ID MINISTRATION\n",
            "**************************************************\n",
            "LEVEL S CREDITS 1S\n",
            "LEARNING HOURS TUTORDIRECTED 95\n",
            "SELFDIRECTED F5\n",
            "AIM\n",
            "THIS COURSE INTRODUCES STUDENTS TO KEY DATABASE CONCEPTS AS WELL DS DEVELOPING SKILLS TO MANAGE ANTD ADMINISTRATE EL\n",
            "RELATIONAL DATABASE\n",
            "LEARNING OUTCOMES\n",
            "BY THE END DF THIS COURSE THE STUDENT WILL BA ABLE TOS\n",
            "A DESCRIBE AND APPLY DATABASE ADMINISTRATION AND QUERY LANGUAGES ISQLI TO MEET ORGANISATIONAL DATA STORAGE\n",
            "AND RETRIEVAL REQUIREMENTSY INCLUDING DATABASE MANAGEMENT IDBMSI OPTIMISATIONS CLEANSINGG SECURITYS AND\n",
            "BACKUPS\n",
            "F IMPLEMENT THE FUNDAMENTAL KNOWLEDGE OF DATA MODELLING\n",
            "BA APPLY FUNDAMENTAL MATHEMATICAL AND LOGICAL CONCEPTS FOR EL RELATIONAL DATABASE\n",
            "IS APPLY PROBLEMSOLVING TECHNIQUES TO DATABASE RELATED ISSUES\n",
            "CONTENT\n",
            "RELATIONAL DATABASE CONCEPTS\n",
            "DATABASE MANAGEMENT SYSTEM FDBMSI\n",
            "BASIC SOL COMMANDS\n",
            "RELATIONAL DATABASE ADMINISTRATION\n",
            "RELATIONAL ALGEBRA\n",
            "ASSESSMENTS\n",
            "SUCCESSFUL COMPLETION OF COURSE\n",
            "STUDENTS MUST GAIN SCL 95 DE MORE OF THE TOTAL AVAILABLE MARKS FROM THE COURSE WORK AND HAVE MADE I GENUINE\n",
            "ATTEMPT OF AIL ASSESSMENTS\n",
            "RESOURCES\n",
            "S LIST OF RECOMMENDED RESOURCES IS PROVIDED IH THE COURSE OUTLINE\n",
            "NELY ZEALAND CERTIFICATE FN INFORMATION TECHNOLOGY ESSENTIALS FLEVEL TI  PROGRAMME DOCUMENT\n",
            "41\n",
            "**************************************************\n",
            "['ASSESSMENT METHOD']\n",
            "['PRACTICAL ASSESSMENT']\n",
            "['PRACTICAL TEST']\n",
            "['WRITTEN TEST']\n",
            "['WEIGHTING']\n",
            "['AD 95']\n",
            "['10 95']\n",
            "['40 95']\n",
            "['LEARNING OUTCOMELS']\n",
            "['1S LS H']\n",
            "['K']\n",
            "['K 9 TF']\n"
          ]
        }
      ]
    },
    {
      "cell_type": "code",
      "source": [
        "import numpy as np\n",
        "import nltk\n",
        "nltk.download('punkt')\n",
        "from nltk import sent_tokenize\n",
        "from nltk import word_tokenize\n",
        "import re"
      ],
      "metadata": {
        "colab": {
          "base_uri": "https://localhost:8080/"
        },
        "id": "ReQaSaASDPLs",
        "outputId": "ff9a2939-538f-4c8d-a907-0b0e347f1b9b"
      },
      "execution_count": 28,
      "outputs": [
        {
          "output_type": "stream",
          "name": "stderr",
          "text": [
            "[nltk_data] Downloading package punkt to /root/nltk_data...\n",
            "[nltk_data]   Unzipping tokenizers/punkt.zip.\n"
          ]
        }
      ]
    },
    {
      "cell_type": "code",
      "source": [
        "wordList = docWord\n",
        "end_loop = False\n",
        "tutor_hours = 0\n",
        "self_hours = 0\n",
        "for i in range(len(wordList)):\n",
        "  tutor_direct_search = ('LEARNING', 'TUTOR', 'TUTOR-DIRECTED', 'TUTORDIRECTED')\n",
        "  self_direct_search = ('LEARNING', 'SELF', 'SELF-DIRECTED', 'SELFDIRECTED')\n",
        "  end_search = ('AIM', 'AIMS')\n",
        "\n",
        "  pattern = r\"\\b^\\d{1,2}\" # start with 2 numbers\n",
        "\n",
        "  words = word_tokenize(wordList[i])\n",
        "  print(words)\n",
        "\n",
        "  tutor_found = False\n",
        "  self_found = False\n",
        "  for j, item in enumerate(words):\n",
        "    if item.upper() in tutor_direct_search:\n",
        "      tutor_found = True\n",
        "    elif item.upper() in self_direct_search:\n",
        "      self_found = True\n",
        "    if item.upper() in end_search:\n",
        "      end_loop = True\n",
        "      break\n",
        "\n",
        "  print(tutor_found, self_found, end_loop)\n",
        "\n",
        "  if tutor_found:\n",
        "    for pos in range(len(words) -1, -1, -1):\n",
        "      number = words[pos].replace('S','5')\n",
        "      number = number.replace('L','1')\n",
        "      number = number.replace('O','0')\n",
        "      number = number.replace('I','1')\n",
        "\n",
        "      if len(re.findall(pattern, number)) > 0:\n",
        "        try:\n",
        "          tutor_hours = int(number)\n",
        "          break\n",
        "        except:\n",
        "          None\n",
        "  if self_found:\n",
        "    for pos in range(len(words) -1, -1, -1):\n",
        "      number = words[pos].replace('S','5')\n",
        "      number = number.replace('L','1')\n",
        "      number = number.replace('O','0')\n",
        "      number = number.replace('I','1')\n",
        "\n",
        "      if len(re.findall(pattern, number)) > 0:\n",
        "        try:\n",
        "          self_hours = int(number)\n",
        "          break\n",
        "        except:\n",
        "          None\n",
        "\n",
        "  if end_loop :\n",
        "    break\n",
        "\n",
        "\n",
        "print(tutor_hours, self_hours)"
      ],
      "metadata": {
        "colab": {
          "base_uri": "https://localhost:8080/"
        },
        "id": "tbZr1U-lIMvf",
        "outputId": "c55056d2-78d5-41bb-c013-999020d9190b"
      },
      "execution_count": 29,
      "outputs": [
        {
          "output_type": "stream",
          "name": "stdout",
          "text": [
            "['LEVEL', 'S', 'CREDITS', '1S']\n",
            "False False False\n",
            "['LEARNING', 'HOURS', 'TUTORDIRECTED', '95']\n",
            "True False False\n",
            "['SELFDIRECTED', 'F5']\n",
            "False True False\n",
            "['AIM']\n",
            "False False True\n",
            "95 0\n"
          ]
        }
      ]
    },
    {
      "cell_type": "code",
      "source": [
        "wordList = docWord\n",
        "end_loop = False\n",
        "\n",
        "search_start = ('AIM', 'AIMS')\n",
        "search_end = ('LEARNING OUTCOMES', 'LEARNING OUTCO MES', 'LEAR NING OUTCOMES',\n",
        "              'IDENTIFY AND EXPLAIN CONTEMPORARY', 'CRITICALLY ANALYSE ETHICAL ISSUES')\n",
        "start_pos =  -1\n",
        "end_pos = -1\n",
        "for i in range(len(wordList)):\n",
        "  if wordList[i].upper() in search_start:\n",
        "    start_pos =  i\n",
        "  elif wordList[i].upper() in search_end:\n",
        "    end_pos = i\n",
        "\n",
        "  if start_pos != -1 and end_pos != -1:\n",
        "    break\n",
        "\n",
        "aim = ' '.join(wordList[start_pos + 1:end_pos])\n",
        "print(aim)\n",
        "\n",
        "\n"
      ],
      "metadata": {
        "colab": {
          "base_uri": "https://localhost:8080/"
        },
        "id": "ePKloGJj6ZCP",
        "outputId": "72537257-77c2-47b1-bd2d-126b8f0fa335"
      },
      "execution_count": 30,
      "outputs": [
        {
          "output_type": "stream",
          "name": "stdout",
          "text": [
            "THIS COURSE INTRODUCES STUDENTS TO KEY DATABASE CONCEPTS AS WELL DS DEVELOPING SKILLS TO MANAGE ANTD ADMINISTRATE EL RELATIONAL DATABASE\n"
          ]
        }
      ]
    },
    {
      "cell_type": "code",
      "source": [
        "text_array = docWord\n",
        "\n",
        "output = []\n",
        "specialChar = 'IP'\n",
        "\n",
        "# search text\n",
        "#text_array = text.splitlines()\n",
        "\n",
        "search_text = ('ASSESSMENTS' , 'ASSESSMENT',  'METHOD',  'WEIGHTING',  'LEARNING',  'OUTCOME/S')\n",
        "search_text2 = ('SUCCESSFUL', 'COMPLETION', 'OF', 'COURSE')\n",
        "end_text = ('RESOURCES', 'NELY', 'NEW', 'ZEALAND', 'CERTIFICATE', 'INFORMATION', 'TECHNOLOGY', 'ESSENTIALS')\n",
        "\n",
        "start_pos = []\n",
        "mid_pos = []\n",
        "end_pos = []\n",
        "\n",
        "for i, item in enumerate(text_array):\n",
        "\n",
        "\n",
        "\n",
        "  if item.upper() in search_text:\n",
        "    if max(start_pos, default = 0) + 2 > i:\n",
        "      start_pos.append(i)\n",
        "    else:\n",
        "      start_pos.clear()\n",
        "      start_pos.append(i)\n",
        "  words = word_tokenize(item)\n",
        "  for word in words:\n",
        "\n",
        "    if word.upper() in search_text2:\n",
        "      if not(len(mid_pos) > 3):\n",
        "        if max(mid_pos, default = 0) + 2 > i and len(start_pos) > 0:\n",
        "          mid_pos.append(i)\n",
        "        else:\n",
        "          mid_pos.clear()\n",
        "          mid_pos.append(i)\n",
        "\n",
        "    if word.upper() in end_text:\n",
        "      if len(mid_pos) > 2:\n",
        "        end_pos.append(i)\n",
        "\n",
        "\n",
        "    if len(mid_pos) > 3 and len(end_pos) > 0 :\n",
        "      break\n",
        "  if len(mid_pos) > 3 and len(end_pos) > 0:\n",
        "    break\n",
        "\n",
        "if len(end_pos) == 0:\n",
        "  end_pos.append(len(text_array))\n",
        "\n",
        "assess_start = max(mid_pos, default = 0) + 1\n",
        "assess_end = max(end_pos, default = 0)\n",
        "\n",
        "outtext = []\n",
        "for sentance in text_array[assess_start:assess_end]:\n",
        "  words = word_tokenize(sentance)\n",
        "  for i in range(len(words)):\n",
        "    if specialChar in words[i] and  i == 0 and len(outtext) > 0:\n",
        "      output.append(' '.join(outtext))\n",
        "      outtext.clear()\n",
        "    else :\n",
        "      tmpStr = words[i]\n",
        "      tmpStr = tmpStr.strip()\n",
        "      if len(tmpStr) > 0:outtext.append(tmpStr)\n",
        "output.append(' '.join(outtext))\n",
        "\n",
        "print(output)"
      ],
      "metadata": {
        "colab": {
          "base_uri": "https://localhost:8080/"
        },
        "id": "9Y4gf9CVslAh",
        "outputId": "db47ef5d-9cc9-4d37-916f-b5bfb02d8d5b"
      },
      "execution_count": 40,
      "outputs": [
        {
          "output_type": "stream",
          "name": "stdout",
          "text": [
            "22 24\n",
            "['STUDENTS MUST GAIN SCL 95 DE MORE OF THE TOTAL AVAILABLE MARKS FROM THE COURSE WORK AND HAVE MADE I GENUINE ATTEMPT OF AIL ASSESSMENTS']\n"
          ]
        }
      ]
    },
    {
      "cell_type": "code",
      "source": [
        "List = ['Hello',\n",
        "        'This is second line',\n",
        "        'This is second']\n",
        "\n",
        "print(' '.join(List))"
      ],
      "metadata": {
        "colab": {
          "base_uri": "https://localhost:8080/"
        },
        "id": "sXPoCqu5KWBw",
        "outputId": "c7ad1855-f98b-459c-c581-d7873e2ccfd6"
      },
      "execution_count": null,
      "outputs": [
        {
          "output_type": "stream",
          "name": "stdout",
          "text": [
            "Hello This is second line This is second\n"
          ]
        }
      ]
    },
    {
      "cell_type": "code",
      "source": [
        "newStr = '\\n'.join(docWord)"
      ],
      "metadata": {
        "id": "uyIgvIfIFDzK"
      },
      "execution_count": null,
      "outputs": []
    },
    {
      "cell_type": "code",
      "source": [
        "newStr"
      ],
      "metadata": {
        "colab": {
          "base_uri": "https://localhost:8080/",
          "height": 122
        },
        "id": "rb8huVkjF0hz",
        "outputId": "50cfddcb-fb17-471f-b809-768fb8193fbf"
      },
      "execution_count": null,
      "outputs": [
        {
          "output_type": "execute_result",
          "data": {
            "text/plain": [
              "'LEVEL S CREDITS 1S\\nLEARNING HOURS TUTORDIRECTED 95\\nSELFDIRECTED F5\\nAIM\\nTHIS COURSE INTRODUCES STUDENTS TO KEY DATABASE CONCEPTS AS WELL DS DEVELOPING SKILLS TO MANAGE ANTD ADMINISTRATE EL\\nRELATIONAL DATABASE\\nLEARNING OUTCOMES\\nBY THE END DF THIS COURSE THE STUDENT WILL BA ABLE TOS\\nA DESCRIBE AND APPLY DATABASE ADMINISTRATION AND QUERY LANGUAGES ISQLI TO MEET ORGANISATIONAL DATA STORAGE\\nAND RETRIEVAL REQUIREMENTSY INCLUDING DATABASE MANAGEMENT IDBMSI OPTIMISATIONS CLEANSINGG SECURITYS AND\\nBACKUPS\\nF IMPLEMENT THE FUNDAMENTAL KNOWLEDGE OF DATA MODELLING\\nBA APPLY FUNDAMENTAL MATHEMATICAL AND LOGICAL CONCEPTS FOR EL RELATIONAL DATABASE\\nIS APPLY PROBLEMSOLVING TECHNIQUES TO DATABASE RELATED ISSUES\\nCONTENT\\nRELATIONAL DATABASE CONCEPTS\\nDATABASE MANAGEMENT SYSTEM FDBMSI\\nBASIC SOL COMMANDS\\nRELATIONAL DATABASE ADMINISTRATION\\nRELATIONAL ALGEBRA\\nASSESSMENTS\\nSUCCESSFUL COMPLETION OF COURSE\\nSTUDENTS MUST GAIN SCL 95 DE MORE OF THE TOTAL AVAILABLE MARKS FROM THE COURSE WORK AND HAVE MADE I GENUINE\\nATTEMPT OF AIL ASSESSMENTS\\nRESOURCES\\nS LIST OF RECOMMENDED RESOURCES IS PROVIDED IH THE COURSE OUTLINE\\nNELY ZEALAND CERTIFICATE FN INFORMATION TECHNOLOGY ESSENTIALS FLEVEL TI  PROGRAMME DOCUMENT\\n41'"
            ],
            "application/vnd.google.colaboratory.intrinsic+json": {
              "type": "string"
            }
          },
          "metadata": {},
          "execution_count": 37
        }
      ]
    },
    {
      "cell_type": "code",
      "source": [
        "  # extract words\n",
        "  words = word_tokenize(newStr)"
      ],
      "metadata": {
        "id": "ByWdVH9dDR3e"
      },
      "execution_count": null,
      "outputs": []
    },
    {
      "cell_type": "code",
      "source": [
        "# Temporary Parameters\n",
        "tmpImgPath = '/content/gdrive/MyDrive/OWR/data/tmp_input/page_66.png'\n",
        "\n",
        "# Read the image\n",
        "tmpImg = cv2.imread(tmpImgPath)\n",
        "\n",
        "courseCode_Word , courseTitle_Word, docWord, word_method, word_weight, word_learning = processPage(tmpImg, word_model, findWord, word_classes, char_model, findCharacter, char_classes, '1001')"
      ],
      "metadata": {
        "colab": {
          "base_uri": "https://localhost:8080/"
        },
        "id": "wqPooidhJ_VQ",
        "outputId": "c2d3d30c-73e5-4f61-d736-fea007581230"
      },
      "execution_count": 34,
      "outputs": [
        {
          "output_type": "stream",
          "name": "stdout",
          "text": [
            "CS6SO3\n",
            "DIGITAL FORENSICS\n",
            "**************************************************\n",
            "LEVEL B CREDITS 1S\n",
            "PREREQUISITES ITSSOA INFORMATION SECURITY\n",
            "ITSSOS INTRODUCTION TO NETWORKING\n",
            "LEARNING HOURS TUTOR DIRECTED 57 HOURS\n",
            "SELFDIRECTED 8 HOURS\n",
            "AIM\n",
            "TQ PROVIDE LEARNERS WITH I COMPREHENSIVE UNDERSTANDING OF DIGITAL FORENSIC PRINCIPLES AND THE COLLECTION\n",
            "PRESERVATION AND ANALYSIS OF DIGITAL EVIDENCE\n",
            "LEARNING OUTCOMES\n",
            "ON SUCCESSFUL COMPLETION DF THIS COURSES THE LEARNER WILL BE ABLE TOA\n",
            "S IDENTIFY THE ATTRIBUTES AF FILE SYSTEMS AND STORAGE MEDIA AND PERFORM ANALYSIS DL AT LEAST TWO COMMON\n",
            "FILE SYSTEMS\n",
            "E IDENTIFY AND ANALYSE POTENTIAL SOURCES OF ELECTRONIC EVIDENCE\n",
            "EI DESCRIBE THE IMPORTANCE DF MAINTAINING THE INTEGRITY OF DIGITAL EVIDENCE\n",
            "S PERFORM BASIC FORENSIC DATA ACQUISITION AND ANALYSIS USING COMPUTER AND NETWORKBASED APPLICATIONS\n",
            "AND UTILITIES\n",
            "I ACCURATELY DOCUMENT FORENSIC PROCEDURES AND RESULTS AND DEVELOP A CASE SUMMARY\n",
            "INDICATIVE CONTENT\n",
            "IP FORENSIC INVESTIGATION\n",
            "IP OPERATING SYSTEM FUNCTIONALITY\n",
            "IP FILE SYSTEM ANALYSIS\n",
            "IP OPERATING SYSTEM ARTIFACT ANALYSIS\n",
            "IP BROWSER AND EMAIL ANALYSIS\n",
            "IP INVESTIGATIVE METHODOLOGIES\n",
            "IP FORENSIC REPORT WRITING\n",
            "IP OVERVIEW OF MEMORY FORENSICS\n",
            "ASSESSMENTS\n",
            "SUCCESSFUL COMPLETION OF COURSE\n",
            "TO PASS EL COURSE WHERE THERE IS ARI EXAMINATION SETS A LEARNER MUSTS\n",
            "IP ATTEMPT ALL ASSESSMENTS\n",
            "IP ACHIEVE AI AVERAGE MARK OF 5OB R ABOVE OVER ALL ASSESSMENTSS INCLUDING THE EXAMINATION\n",
            "IP ACHIEVE EL MARK AF 4ON DR ABOVE IN THEIR FINAL EXAMINATION\n",
            "NELY ZEALAND CERTIFICATE FN INFORMATION TECHNOLOGY ESSENTIALS FLEVEL TI  PROGRAMME DOCUMENT\n",
            "B\n",
            "**************************************************\n",
            "['ASSESSMENT METHOD']\n",
            "['ASSIGNMENT T']\n",
            "['ASSIGNMENT A']\n",
            "['EXAMINATION']\n",
            "['WEIGHTING']\n",
            "['S0P']\n",
            "['S0P']\n",
            "['400']\n",
            "['LEARNING OUTCOMELS']\n",
            "['1S ZR TF']\n",
            "['P 3I B']\n",
            "['15']\n"
          ]
        }
      ]
    },
    {
      "cell_type": "code",
      "source": [
        "import nltk\n",
        "\n",
        "nltk.download(\"words\")\n",
        "from nltk.corpus import words\n",
        "\n",
        "def is_word_in_dictionary(word):\n",
        "  english_dictionary = set(words.words())\n",
        "  return word.lower() in english_dictionary\n",
        "\n",
        "cls()"
      ],
      "metadata": {
        "id": "SCDTL2uzXn3v"
      },
      "execution_count": null,
      "outputs": []
    },
    {
      "cell_type": "code",
      "source": [
        "print(is_word_in_dictionary('BA'))"
      ],
      "metadata": {
        "colab": {
          "base_uri": "https://localhost:8080/"
        },
        "id": "7oq7qoOOYF5u",
        "outputId": "dc3fe8b8-0851-4d7b-f442-c19cd2d51695"
      },
      "execution_count": null,
      "outputs": [
        {
          "output_type": "stream",
          "name": "stdout",
          "text": [
            "True\n"
          ]
        }
      ]
    },
    {
      "cell_type": "code",
      "source": [
        "wordList = docWord\n",
        "output = []\n",
        "\n",
        "search_text = ('LEARNING OUTCOMES', 'LEARNING OUTCO MES', 'LEAR NING OUTCOMES')\n",
        "stop_text   = ('INDICATIVE', 'CONTENT', 'CONTE', 'NT', '•')\n",
        "\n",
        "for i in range(len(wordList)):\n",
        "  if wordList[i].upper() in search_text:\n",
        "    start_pos =  i + 2\n",
        "\n",
        "  words = word_tokenize(wordList[i])\n",
        "  for j in range(len(words)):\n",
        "    if words[j].upper() in stop_text:\n",
        "      end_pos = i\n",
        "      break\n",
        "\n",
        "index = 0\n",
        "learningOutcome = []\n",
        "for i in range(start_pos, end_pos):\n",
        "  words = word_tokenize(wordList[i])\n",
        "\n",
        "  for j in range(len(words)):\n",
        "    if len(words[j]) <= 2 and j == 0:\n",
        "      index += 1\n",
        "      if index == 1:\n",
        "        continue\n",
        "      else:\n",
        "        output.append([index - 1, ' '.join(learningOutcome)])\n",
        "        learningOutcome = []\n",
        "    else:\n",
        "      learningOutcome.append(words[j])\n",
        "\n",
        "output.append([index, ' '.join(learningOutcome)])\n",
        "\n",
        "\n",
        "for out in output:\n",
        "  print(out)\n"
      ],
      "metadata": {
        "id": "4grPaDXrTcIy",
        "colab": {
          "base_uri": "https://localhost:8080/"
        },
        "outputId": "b948d4b3-06c7-4ee8-8d8e-d1fae9199ae0"
      },
      "execution_count": 41,
      "outputs": [
        {
          "output_type": "stream",
          "name": "stdout",
          "text": [
            "[1, 'IDENTIFY THE ATTRIBUTES AF FILE SYSTEMS AND STORAGE MEDIA AND PERFORM ANALYSIS DL AT LEAST TWO COMMON FILE SYSTEMS']\n",
            "[2, 'IDENTIFY AND ANALYSE POTENTIAL SOURCES OF ELECTRONIC EVIDENCE']\n",
            "[3, 'DESCRIBE THE IMPORTANCE DF MAINTAINING THE INTEGRITY OF DIGITAL EVIDENCE']\n",
            "[4, 'PERFORM BASIC FORENSIC DATA ACQUISITION AND ANALYSIS USING COMPUTER AND NETWORKBASED APPLICATIONS AND UTILITIES']\n",
            "[5, 'ACCURATELY DOCUMENT FORENSIC PROCEDURES AND RESULTS AND DEVELOP A CASE SUMMARY']\n"
          ]
        }
      ]
    },
    {
      "cell_type": "code",
      "source": [
        "index = 0\n",
        "for i in range(10):\n",
        "  index += 1\n",
        "  print(index)"
      ],
      "metadata": {
        "colab": {
          "base_uri": "https://localhost:8080/"
        },
        "id": "AnaMyATgzH1r",
        "outputId": "67b8c2bd-83d7-4a23-feac-7348cd178ba8"
      },
      "execution_count": 38,
      "outputs": [
        {
          "output_type": "stream",
          "name": "stdout",
          "text": [
            "1\n",
            "2\n",
            "3\n",
            "4\n",
            "5\n",
            "6\n",
            "7\n",
            "8\n",
            "9\n",
            "10\n"
          ]
        }
      ]
    },
    {
      "cell_type": "code",
      "source": [
        "wordList = docWord\n",
        "output = []\n",
        "\n",
        "search_start = ('PRE-REQUISITES', '-REQUISITES', 'REQUISITES', 'PREREQUISITES')\n",
        "search_end = ('LEARNING', 'HOURS', 'TUTOR', 'TUTOR-DIRECTED', 'TUTORDIRECTED',\n",
        "              'DIRECTED', '-DIRECTED')\n",
        "\n",
        "start_pos = -1\n",
        "start_sub_pos = -1\n",
        "end_pos = -1\n",
        "for i in range(len(wordList)):\n",
        "  if wordList[i].upper() in search_start:\n",
        "    start_pos =  i + 1\n",
        "    start_sub_pos = 0\n",
        "  elif wordList[i].upper() in search_end:\n",
        "    end_pos = i\n",
        "\n",
        "  if start_pos == -1 or end_pos == -1 :\n",
        "    words = word_tokenize(wordList[i])\n",
        "\n",
        "    for j in range(len(words)):\n",
        "      if words[j].upper() in search_start:\n",
        "        start_pos =  i\n",
        "        start_sub_pos = j + 1\n",
        "      if words[j].upper() in search_end:\n",
        "        end_pos = i\n",
        "      if start_pos != -1 and end_pos != -1:\n",
        "        break\n",
        "\n",
        "  if start_pos != -1 and end_pos != -1:\n",
        "    break\n",
        "\n",
        "print(start_pos, end_loop)\n",
        "\n",
        "for i in range(start_pos, end_pos):\n",
        "  words = word_tokenize(wordList[i])\n",
        "  if i == start_pos:\n",
        "    start = start_sub_pos\n",
        "  else: start = 0\n",
        "\n",
        "  title = []\n",
        "  for j in range(start, len(words)):\n",
        "    if j == start:\n",
        "      courseCode = words[j]\n",
        "      courseCode = courseCode[0:2] + courseCode[2:].replace('S','5')\n",
        "      courseCode = courseCode[0:2] + courseCode[2:].replace('A','4')\n",
        "      courseCode = courseCode[0:2] + courseCode[2:].replace('L','1')\n",
        "      courseCode = courseCode[0:2] + courseCode[2:].replace('O','0')\n",
        "      courseCode = courseCode[0:2] + courseCode[2:].replace('I','1')\n",
        "    else: title.append(words[j])\n",
        "  output.append([courseCode, ' '.join(title)])\n",
        "\n",
        "\n",
        "print(output)"
      ],
      "metadata": {
        "colab": {
          "base_uri": "https://localhost:8080/"
        },
        "id": "SuzcLw6MB_iI",
        "outputId": "0bc27f0d-96c6-4264-eecd-aeeca2cb85a1"
      },
      "execution_count": null,
      "outputs": [
        {
          "output_type": "stream",
          "name": "stdout",
          "text": [
            "1 False\n",
            "[['IT5504', 'INFORMATION SECURITY'], ['IT5505', 'INTRODUCTION TO NETWORKING']]\n"
          ]
        }
      ]
    },
    {
      "cell_type": "code",
      "source": [
        "# Temporary Parameters\n",
        "tmpImgPath = '/content/gdrive/MyDrive/OWR/data/tmp_input/page_40.png'\n",
        "\n",
        "# Read the image\n",
        "tmpImg = cv2.imread(tmpImgPath)\n",
        "\n",
        "courseCode_Word , courseTitle_Word, docWord, word_method, word_weight, word_learning = processPage(tmpImg, word_model, findWord, word_classes, char_model, findCharacter, char_classes, '1001')"
      ],
      "metadata": {
        "colab": {
          "base_uri": "https://localhost:8080/"
        },
        "id": "a9EocaCFEKv7",
        "outputId": "2e965fb5-4cc1-44eb-93ee-9ccacf09e634"
      },
      "execution_count": null,
      "outputs": [
        {
          "output_type": "stream",
          "name": "stdout",
          "text": [
            "IT51IJ\n",
            "IT SYSTEM OVERVIEW\n",
            "**************************************************\n",
            "APPEND IX F TF DIPLOMA I NFORMATION  ECH NOLOGY  ECH I ICAL SU PPORT LEVEL E\n",
            "LEVEL S CREDITS 1S\n",
            "PREREQUISITES NONE\n",
            "LEARNING HOURS TUTORDIRECTED 95\n",
            "SELFDIRECTED F5\n",
            "AIM\n",
            "THIS COURSE INTRODUCES THE SKILLS AND KNOWLEDGE STUDENTS WILL REQUIRE TO ENABLE THEM TO PROVIDE EFFECTIVE LT\n",
            "SOLUTIONS FOR ARI ORGANISATION\n",
            "LEARNING OUTCOMES\n",
            "BY THE END DF THIS COURSE THE STUDENT WILL BA ABLE TOS\n",
            "A EXPLAIN BUSINESS CONCEPTS AND ORGANISATIONAL REQUIREMENTS\n",
            "F APPLY PROFESSIONAL AND ETHICAL PRINCIPLES AND PRACTICES DS AN EMERGING LT PROFESSIONAL\n",
            "BA APPLY USER EXPERIENCE ANTD USABILITY CONCEPTS IH IT\n",
            "IS APPLY BASIC PRINCIPLES OF INTERACTIVE DESIGN TO CREATE INTERACTIVE DIGITAL MEDIA\n",
            "CONTENT\n",
            "BUSINESS CONCEPTS\n",
            "PROFESSIONAL AND ETHICAL PRINCIPLES AND PRACTICE AF AL EMERGING LT PROFESSIONAL\n",
            "DEVELOPMENT APPROACHES AND METHODOLOGIES INCLUDING AGILES DEV DPS AND DESIGN THINKING\n",
            "USER EXPERIENCE  CONSIDERATION OF USER EXPERIENCE ANTD USABILITY CONCEPTS IH ITF INFORMATION MANAGEMENT\n",
            "AND RETRIEVAL\n",
            "INTERACTION DESIGN AND HUMAN COMPUTER INTERACTIONN INCLUDING ACCESSIBILITY\n",
            "WEB DESIGN AND INTERACTIVITY\n",
            "EMERGING TECHNOLOGIES FROM AII INTERACTION PERSPECTIVE\n",
            "ASSESSMENTS\n",
            "SUCCESSFUL COMPLETION OF COURSE\n",
            "S STUDENT MUST GAIN 5OG6 CR MORE DF THE TOTAL AVAILABLE MARKS FROM THE COURSE WORK AND HAVE MADE A GENUINE\n",
            "ATTEMPT OF AIL ASSESSMENTS\n",
            "RESOURCES\n",
            "S LIST OF RECOMMENDED RESOURCES IS PROVIDED IH THE COURSE OUTLINE\n",
            "NELY ZEALAND CERTIFICATE FN INFORMATION TECHNOLOGY ESSENTIALS FLEVEL TI  PROGRAMME DOCUMENT\n",
            "4D\n",
            "**************************************************\n",
            "['ASSESSMENT METHOD']\n",
            "['WRITTEN ASSESSMENT']\n",
            "['PRACTICAL ASSESSMENT']\n",
            "['PRACTICAL TEST']\n",
            "['WEIGHTING']\n",
            "['ZOGO']\n",
            "['507B']\n",
            "['S070']\n",
            "['LEARNING OUTCOMELS']\n",
            "['LP A']\n",
            "['BI H']\n",
            "['F']\n"
          ]
        }
      ]
    },
    {
      "cell_type": "code",
      "source": [
        "words"
      ],
      "metadata": {
        "id": "7aUWtQR6ENXc"
      },
      "execution_count": null,
      "outputs": []
    },
    {
      "cell_type": "code",
      "source": [
        "# Temporary Parameters\n",
        "tmpImgPaath = '/content/gdrive/MyDrive/OWR/data/tmp_input/page_101.png'\n",
        "\n",
        "# Read the image\n",
        "tmpImg = cv2.imread(tmpImgPaath)\n",
        "\n",
        "binaryImg = getBinarized(tmpImg)\n",
        "\n",
        "outer_rectangles, child_contours = getContours(binaryImg)\n",
        "\n",
        "img1 = getTableImg(binaryImg, outer_rectangles, extract=1)\n",
        "img2 = getTableImg(binaryImg, outer_rectangles, extract=2)\n",
        "img3 = getTableImg(binaryImg, outer_rectangles, extract=-1)\n",
        "\n",
        "cv2_imshow(img1)\n",
        "cv2_imshow(img2)\n",
        "cv2_imshow(img3)\n"
      ],
      "metadata": {
        "colab": {
          "base_uri": "https://localhost:8080/",
          "height": 1000
        },
        "id": "fCGzJWyNnEFm",
        "outputId": "322ac7d4-cddc-4380-8af1-5f3270e77e48"
      },
      "execution_count": null,
      "outputs": [
        {
          "output_type": "display_data",
          "data": {
            "text/plain": [
              "<PIL.Image.Image image mode=L size=1042x56>"
            ],
            "image/png": "[encoded data removed]"
          },
          "metadata": {}
        },
        {
          "output_type": "display_data",
          "data": {
            "text/plain": [
              "<PIL.Image.Image image mode=L size=720x144>"
            ],
            "image/png": "[encoded data removed]"
          },
          "metadata": {}
        },
        {
          "output_type": "display_data",
          "data": {
            "text/plain": [
              "<PIL.Image.Image image mode=L size=1191x1684>"
            ],
            "image/png": "[encoded data removed]"
          },
          "metadata": {}
        }
      ]
    },
    {
      "cell_type": "code",
      "source": [
        "img = imgCourseCode(img1, outer_rectangles, child_contours)\n",
        "cv2_imshow(img)"
      ],
      "metadata": {
        "colab": {
          "base_uri": "https://localhost:8080/",
          "height": 57
        },
        "id": "DUiqn-IN3Lec",
        "outputId": "41d8e08e-a2ae-4947-f34c-1faaf7aba240"
      },
      "execution_count": null,
      "outputs": [
        {
          "output_type": "display_data",
          "data": {
            "text/plain": [
              "<PIL.Image.Image image mode=L size=219x40>"
            ],
            "image/png": "[encoded data removed]"
          },
          "metadata": {}
        }
      ]
    },
    {
      "cell_type": "code",
      "source": [
        "img = imgCourseTitle(img1, outer_rectangles, child_contours)\n",
        "cv2_imshow(img)\n"
      ],
      "metadata": {
        "colab": {
          "base_uri": "https://localhost:8080/",
          "height": 57
        },
        "id": "JXZqfMQdUBAw",
        "outputId": "b1e3acca-03f9-494b-e02c-feeae3a2de25"
      },
      "execution_count": null,
      "outputs": [
        {
          "output_type": "display_data",
          "data": {
            "text/plain": [
              "<PIL.Image.Image image mode=L size=802x40>"
            ],
            "image/png": "[encoded data removed]"
          },
          "metadata": {}
        }
      ]
    },
    {
      "cell_type": "code",
      "source": [
        "imgChild1, imgChild2, imgChild3 = imgAssessments(img2, outer_rectangles, child_contours, 5)\n",
        "cv2_imshow(imgChild1)\n",
        "cv2_imshow(imgChild2)\n",
        "cv2_imshow(imgChild3)\n"
      ],
      "metadata": {
        "colab": {
          "base_uri": "https://localhost:8080/",
          "height": 80
        },
        "id": "nYH3j7c1aRIU",
        "outputId": "4c794ef4-e5d6-4f3d-f281-e45de9307263"
      },
      "execution_count": null,
      "outputs": [
        {
          "output_type": "display_data",
          "data": {
            "text/plain": [
              "<PIL.Image.Image image mode=L size=292x21>"
            ],
            "image/png": "[encoded data removed]"
          },
          "metadata": {}
        },
        {
          "output_type": "display_data",
          "data": {
            "text/plain": [
              "<PIL.Image.Image image mode=L size=151x21>"
            ],
            "image/png": "[encoded data removed]"
          },
          "metadata": {}
        },
        {
          "output_type": "display_data",
          "data": {
            "text/plain": [
              "<PIL.Image.Image image mode=L size=250x21>"
            ],
            "image/png": "[encoded data removed]"
          },
          "metadata": {}
        }
      ]
    },
    {
      "cell_type": "code",
      "source": [
        "Lines = getLines(img)"
      ],
      "metadata": {
        "id": "ifASGq77nKHp",
        "colab": {
          "base_uri": "https://localhost:8080/",
          "height": 57
        },
        "outputId": "8ba42703-6622-4273-81dd-8a9c59774fde"
      },
      "execution_count": null,
      "outputs": [
        {
          "output_type": "display_data",
          "data": {
            "text/plain": [
              "<PIL.Image.Image image mode=L size=219x40>"
            ],
            "image/png": "[encoded data removed]"
          },
          "metadata": {}
        }
      ]
    },
    {
      "cell_type": "code",
      "source": [
        "Lines"
      ],
      "metadata": {
        "colab": {
          "base_uri": "https://localhost:8080/"
        },
        "id": "W3GwbN2ibbBT",
        "outputId": "32bdb241-ed55-4e65-826a-e88a4aa2df30"
      },
      "execution_count": null,
      "outputs": [
        {
          "output_type": "execute_result",
          "data": {
            "text/plain": [
              "[(0, 10, 130, 33)]"
            ]
          },
          "metadata": {},
          "execution_count": 123
        }
      ]
    },
    {
      "cell_type": "code",
      "source": [
        "img = img[Lines[0][1]:Lines[0][3], Lines[0][0]:Lines[0][2]]\n",
        "cv2_imshow(img)"
      ],
      "metadata": {
        "colab": {
          "base_uri": "https://localhost:8080/",
          "height": 46
        },
        "id": "Jo4fRg1XdsuV",
        "outputId": "84e319a9-45e1-4e46-e03c-44ca2b9a01ac"
      },
      "execution_count": null,
      "outputs": [
        {
          "output_type": "display_data",
          "data": {
            "text/plain": [
              "<PIL.Image.Image image mode=L size=486x29>"
            ],
            "image/png": "[encoded data removed]"
          },
          "metadata": {}
        }
      ]
    },
    {
      "cell_type": "code",
      "source": [
        "words = getWords(img, Lines, 1)"
      ],
      "metadata": {
        "id": "07NmSM9df3_T"
      },
      "execution_count": null,
      "outputs": []
    },
    {
      "cell_type": "code",
      "source": [
        "words"
      ],
      "metadata": {
        "colab": {
          "base_uri": "https://localhost:8080/"
        },
        "id": "qya5CXbVgsY4",
        "outputId": "9c6313ed-7f33-467f-d55e-7de12a9b2006"
      },
      "execution_count": null,
      "outputs": [
        {
          "output_type": "execute_result",
          "data": {
            "text/plain": [
              "[[8, 10, 91, 33]]"
            ]
          },
          "metadata": {},
          "execution_count": 125
        }
      ]
    },
    {
      "cell_type": "code",
      "source": [
        "# Remove overlapping rectangles\n",
        "non_overlapping_coordinates = remove_overlapping(words)"
      ],
      "metadata": {
        "id": "GmqVfljWnURT"
      },
      "execution_count": null,
      "outputs": []
    },
    {
      "cell_type": "code",
      "source": [
        "non_overlapping_coordinates"
      ],
      "metadata": {
        "colab": {
          "base_uri": "https://localhost:8080/"
        },
        "id": "ZT0hFmTmndkj",
        "outputId": "b18fe784-12bf-4436-8da1-0f2160f5b7b7"
      },
      "execution_count": null,
      "outputs": [
        {
          "output_type": "execute_result",
          "data": {
            "text/plain": [
              "[[8, 10, 91, 33]]"
            ]
          },
          "metadata": {},
          "execution_count": 127
        }
      ]
    },
    {
      "cell_type": "code",
      "source": [
        "for word in non_overlapping_coordinates:\n",
        "  img_word = img[word[1]:word[3], word[0]:word[2]]\n",
        "  #print(img_word)\n",
        "  result_image = cv2.bitwise_not(img_word)\n",
        "  cv2_imshow(result_image)\n"
      ],
      "metadata": {
        "colab": {
          "base_uri": "https://localhost:8080/",
          "height": 40
        },
        "id": "zJ5BaytAgG4_",
        "outputId": "d19b2d46-4a1c-4f46-fa78-c1455be67a6c"
      },
      "execution_count": null,
      "outputs": [
        {
          "output_type": "display_data",
          "data": {
            "text/plain": [
              "<PIL.Image.Image image mode=L size=83x23>"
            ],
            "image/png": "[encoded data removed]"
          },
          "metadata": {}
        }
      ]
    },
    {
      "cell_type": "code",
      "source": [
        "word = non_overlapping_coordinates[0]\n",
        "imgWord = img[word[1]:word[3], word[0]:word[2]]\n",
        "cv2_imshow(imgWord)\n",
        "\n",
        "non_overlapping_characters = getCharacters(imgWord, True)\n",
        "\n",
        "print(non_overlapping_characters)"
      ],
      "metadata": {
        "colab": {
          "base_uri": "https://localhost:8080/",
          "height": 80
        },
        "id": "2fKiqMI2gd5d",
        "outputId": "e3baf737-0e36-4d28-8ef8-bcdefd2440d2"
      },
      "execution_count": null,
      "outputs": [
        {
          "output_type": "display_data",
          "data": {
            "text/plain": [
              "<PIL.Image.Image image mode=L size=83x23>"
            ],
            "image/png": "[encoded data removed]"
          },
          "metadata": {}
        },
        {
          "output_type": "display_data",
          "data": {
            "text/plain": [
              "<PIL.Image.Image image mode=L size=83x23>"
            ],
            "image/png": "[encoded data removed]"
          },
          "metadata": {}
        },
        {
          "output_type": "stream",
          "name": "stdout",
          "text": [
            "[[2, 6], [8, 24], [25, 38], [40, 52], [54, 66], [68, 80]]\n"
          ]
        }
      ]
    },
    {
      "cell_type": "code",
      "source": [
        "model_path = '/content/gdrive/MyDrive/OWR/dl_models/OCR_Model4/model_ocr_v4_1.h5'\n",
        "\n",
        "model, class_names, num_classes = load_character_prediction_model(model_path)\n",
        "\n",
        "model.summary()"
      ],
      "metadata": {
        "colab": {
          "base_uri": "https://localhost:8080/"
        },
        "id": "cdIrTPiUd2yT",
        "outputId": "1a501eb6-560f-4204-de03-36a498a6b789"
      },
      "execution_count": null,
      "outputs": [
        {
          "output_type": "stream",
          "name": "stdout",
          "text": [
            "Model: \"sequential_5\"\n",
            "_________________________________________________________________\n",
            " Layer (type)                Output Shape              Param #   \n",
            "=================================================================\n",
            " conv2d_16 (Conv2D)          (None, 62, 62, 128)       3584      \n",
            "                                                                 \n",
            " max_pooling2d_15 (MaxPooli  (None, 31, 31, 128)       0         \n",
            " ng2D)                                                           \n",
            "                                                                 \n",
            " conv2d_17 (Conv2D)          (None, 27, 27, 64)        204864    \n",
            "                                                                 \n",
            " max_pooling2d_16 (MaxPooli  (None, 9, 13, 64)         0         \n",
            " ng2D)                                                           \n",
            "                                                                 \n",
            " conv2d_18 (Conv2D)          (None, 7, 11, 64)         36928     \n",
            "                                                                 \n",
            " max_pooling2d_17 (MaxPooli  (None, 2, 3, 64)          0         \n",
            " ng2D)                                                           \n",
            "                                                                 \n",
            " global_average_pooling2d_3  (None, 64)                0         \n",
            "  (GlobalAveragePooling2D)                                       \n",
            "                                                                 \n",
            " dense_9 (Dense)             (None, 128)               8320      \n",
            "                                                                 \n",
            " dropout_6 (Dropout)         (None, 128)               0         \n",
            "                                                                 \n",
            " dense_10 (Dense)            (None, 36)                4644      \n",
            "                                                                 \n",
            "=================================================================\n",
            "Total params: 258340 (1009.14 KB)\n",
            "Trainable params: 258340 (1009.14 KB)\n",
            "Non-trainable params: 0 (0.00 Byte)\n",
            "_________________________________________________________________\n"
          ]
        }
      ]
    },
    {
      "cell_type": "code",
      "source": [
        "# Draw the vertical lines\n",
        "for i, x in enumerate(non_overlapping_characters):\n",
        "    # Crop the character from the original image\n",
        "    x1, x2 = x\n",
        "    char_image = imgWord[: ,  x1 - 1:x2 + 1]\n",
        "\n",
        "    # Create a blank white canvas (32x32)\n",
        "    canvas = np.zeros((32, 32), dtype=np.uint8)\n",
        "\n",
        "    # Calculate the position to paste the image onto the center of the canvas\n",
        "    x_offset = (canvas.shape[1] - char_image.shape[1]) // 2\n",
        "    y_offset = (canvas.shape[0] - char_image.shape[0]) // 2\n",
        "\n",
        "    # Paste the image onto the canvas\n",
        "    canvas[y_offset:y_offset + char_image.shape[0], x_offset:x_offset + char_image.shape[1]] = char_image\n",
        "\n",
        "    canvas = cv2.bitwise_not(canvas)\n",
        "\n",
        "\n",
        "    char = findCharacter(model, class_names, canvas)\n",
        "    print(char)\n",
        "\n",
        "    cv2_imshow(canvas)"
      ],
      "metadata": {
        "colab": {
          "base_uri": "https://localhost:8080/",
          "height": 313
        },
        "id": "XtVk6gdYgWpY",
        "outputId": "bf9cfb52-d67d-41db-9220-92dcbecb9782"
      },
      "execution_count": null,
      "outputs": [
        {
          "output_type": "stream",
          "name": "stdout",
          "text": [
            "I\n"
          ]
        },
        {
          "output_type": "display_data",
          "data": {
            "text/plain": [
              "<PIL.Image.Image image mode=L size=32x32>"
            ],
            "image/png": "[encoded data removed]"
          },
          "metadata": {}
        },
        {
          "output_type": "stream",
          "name": "stdout",
          "text": [
            "A\n"
          ]
        },
        {
          "output_type": "display_data",
          "data": {
            "text/plain": [
              "<PIL.Image.Image image mode=L size=32x32>"
            ],
            "image/png": "[encoded data removed]"
          },
          "metadata": {}
        },
        {
          "output_type": "stream",
          "name": "stdout",
          "text": [
            "7\n"
          ]
        },
        {
          "output_type": "display_data",
          "data": {
            "text/plain": [
              "<PIL.Image.Image image mode=L size=32x32>"
            ],
            "image/png": "[encoded data removed]"
          },
          "metadata": {}
        },
        {
          "output_type": "stream",
          "name": "stdout",
          "text": [
            "3\n"
          ]
        },
        {
          "output_type": "display_data",
          "data": {
            "text/plain": [
              "<PIL.Image.Image image mode=L size=32x32>"
            ],
            "image/png": "[encoded data removed]"
          },
          "metadata": {}
        },
        {
          "output_type": "stream",
          "name": "stdout",
          "text": [
            "Q\n"
          ]
        },
        {
          "output_type": "display_data",
          "data": {
            "text/plain": [
              "<PIL.Image.Image image mode=L size=32x32>"
            ],
            "image/png": "[encoded data removed]"
          },
          "metadata": {}
        },
        {
          "output_type": "stream",
          "name": "stdout",
          "text": [
            "7\n"
          ]
        },
        {
          "output_type": "display_data",
          "data": {
            "text/plain": [
              "<PIL.Image.Image image mode=L size=32x32>"
            ],
            "image/png": "[encoded data removed]"
          },
          "metadata": {}
        }
      ]
    },
    {
      "cell_type": "code",
      "source": [
        "word_model_path = '/content/gdrive/MyDrive/OWR/dl_models/OWR_Model/Best_Img_recog_LSTM_Adam_model_run_weights.h5'\n",
        "\n",
        "word_model = WM.Image_text_recogniser_model_1('predict')\n",
        "\n",
        "word_model.load_weights(word_model_path)\n",
        "\n",
        "word_model.summary()"
      ],
      "metadata": {
        "colab": {
          "base_uri": "https://localhost:8080/"
        },
        "id": "DZY9R5nyk3Tv",
        "outputId": "b90de440-1c33-4a4a-a725-4777f07ed073"
      },
      "execution_count": null,
      "outputs": [
        {
          "output_type": "stream",
          "name": "stdout",
          "text": [
            "Model: \"model_2\"\n",
            "_________________________________________________________________\n",
            " Layer (type)                Output Shape              Param #   \n",
            "=================================================================\n",
            " img_input (InputLayer)      [(None, 170, 32, 1)]      0         \n",
            "                                                                 \n",
            " conv1 (Conv2D)              (None, 170, 32, 64)       640       \n",
            "                                                                 \n",
            " batch_normalization_14 (Ba  (None, 170, 32, 64)       256       \n",
            " tchNormalization)                                               \n",
            "                                                                 \n",
            " activation_14 (Activation)  (None, 170, 32, 64)       0         \n",
            "                                                                 \n",
            " max1 (MaxPooling2D)         (None, 85, 16, 64)        0         \n",
            "                                                                 \n",
            " conv2 (Conv2D)              (None, 85, 16, 128)       73856     \n",
            "                                                                 \n",
            " batch_normalization_15 (Ba  (None, 85, 16, 128)       512       \n",
            " tchNormalization)                                               \n",
            "                                                                 \n",
            " activation_15 (Activation)  (None, 85, 16, 128)       0         \n",
            "                                                                 \n",
            " max2 (MaxPooling2D)         (None, 42, 8, 128)        0         \n",
            "                                                                 \n",
            " conv3 (Conv2D)              (None, 42, 8, 256)        295168    \n",
            "                                                                 \n",
            " batch_normalization_16 (Ba  (None, 42, 8, 256)        1024      \n",
            " tchNormalization)                                               \n",
            "                                                                 \n",
            " activation_16 (Activation)  (None, 42, 8, 256)        0         \n",
            "                                                                 \n",
            " conv4 (Conv2D)              (None, 42, 8, 256)        590080    \n",
            "                                                                 \n",
            " dropout_6 (Dropout)         (None, 42, 8, 256)        0         \n",
            "                                                                 \n",
            " batch_normalization_17 (Ba  (None, 42, 8, 256)        1024      \n",
            " tchNormalization)                                               \n",
            "                                                                 \n",
            " activation_17 (Activation)  (None, 42, 8, 256)        0         \n",
            "                                                                 \n",
            " max3 (MaxPooling2D)         (None, 42, 4, 256)        0         \n",
            "                                                                 \n",
            " conv5 (Conv2D)              (None, 42, 4, 512)        1180160   \n",
            "                                                                 \n",
            " batch_normalization_18 (Ba  (None, 42, 4, 512)        2048      \n",
            " tchNormalization)                                               \n",
            "                                                                 \n",
            " activation_18 (Activation)  (None, 42, 4, 512)        0         \n",
            "                                                                 \n",
            " conv6 (Conv2D)              (None, 42, 4, 512)        2359808   \n",
            "                                                                 \n",
            " dropout_7 (Dropout)         (None, 42, 4, 512)        0         \n",
            "                                                                 \n",
            " batch_normalization_19 (Ba  (None, 42, 4, 512)        2048      \n",
            " tchNormalization)                                               \n",
            "                                                                 \n",
            " activation_19 (Activation)  (None, 42, 4, 512)        0         \n",
            "                                                                 \n",
            " max4 (MaxPooling2D)         (None, 42, 2, 512)        0         \n",
            "                                                                 \n",
            " con7 (Conv2D)               (None, 42, 2, 512)        1049088   \n",
            "                                                                 \n",
            " dropout_8 (Dropout)         (None, 42, 2, 512)        0         \n",
            "                                                                 \n",
            " batch_normalization_20 (Ba  (None, 42, 2, 512)        2048      \n",
            " tchNormalization)                                               \n",
            "                                                                 \n",
            " activation_20 (Activation)  (None, 42, 2, 512)        0         \n",
            "                                                                 \n",
            " reshape (Reshape)           (None, 42, 1024)          0         \n",
            "                                                                 \n",
            " dense1 (Dense)              (None, 42, 64)            65600     \n",
            "                                                                 \n",
            " bidirectional_4 (Bidirecti  (None, 42, 256)           657408    \n",
            " onal)                                                           \n",
            "                                                                 \n",
            " bidirectional_5 (Bidirecti  (None, 42, 512)           1050624   \n",
            " onal)                                                           \n",
            "                                                                 \n",
            " dense2 (Dense)              (None, 42, 37)            18981     \n",
            "                                                                 \n",
            " softmax (Activation)        (None, 42, 37)            0         \n",
            "                                                                 \n",
            "=================================================================\n",
            "Total params: 7350373 (28.04 MB)\n",
            "Trainable params: 7345893 (28.02 MB)\n",
            "Non-trainable params: 4480 (17.50 KB)\n",
            "_________________________________________________________________\n"
          ]
        }
      ]
    },
    {
      "cell_type": "code",
      "source": [
        "for word in non_overlapping_coordinates:\n",
        "  img_word = img[word[1]:word[3], word[0]:word[2]]\n",
        "  #print(img_word)\n",
        "  result_image = cv2.bitwise_not(img_word)\n",
        "  predict_word = findWord(word_model, result_image)\n",
        "  print(predict_word)\n",
        "  cv2_imshow(result_image)"
      ],
      "metadata": {
        "colab": {
          "base_uri": "https://localhost:8080/",
          "height": 75
        },
        "id": "6XUqEpMJDr8d",
        "outputId": "a547df25-47b5-4b54-d941-e962000b9d0c"
      },
      "execution_count": null,
      "outputs": [
        {
          "output_type": "stream",
          "name": "stdout",
          "text": [
            "1/1 [==============================] - 0s 151ms/step\n",
            "IA7BO7\n"
          ]
        },
        {
          "output_type": "display_data",
          "data": {
            "text/plain": [
              "<PIL.Image.Image image mode=L size=83x23>"
            ],
            "image/png": "[encoded data removed]"
          },
          "metadata": {}
        }
      ]
    },
    {
      "cell_type": "code",
      "source": [],
      "metadata": {
        "id": "83FPcfq23rbD"
      },
      "execution_count": null,
      "outputs": []
    }
  ]
}