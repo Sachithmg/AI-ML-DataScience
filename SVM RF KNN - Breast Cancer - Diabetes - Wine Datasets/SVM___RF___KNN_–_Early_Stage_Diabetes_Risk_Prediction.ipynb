{
  "nbformat": 4,
  "nbformat_minor": 0,
  "metadata": {
    "colab": {
      "provenance": []
    },
    "kernelspec": {
      "name": "python3",
      "display_name": "Python 3"
    },
    "language_info": {
      "name": "python"
    }
  },
  "cells": [
    {
      "cell_type": "markdown",
      "source": [
        "# **SVM | RF | KNN – Early Stage Diabetes Risk Prediction**\n"
      ],
      "metadata": {
        "id": "1I39CMJeaD8m"
      }
    },
    {
      "cell_type": "markdown",
      "source": [
        "## Early stage diabetes risk prediction dataset\n",
        "\n",
        ""
      ],
      "metadata": {
        "id": "XPgU9MKXaR6x"
      }
    },
    {
      "cell_type": "code",
      "execution_count": null,
      "metadata": {
        "id": "spgCLKY6Z1NU"
      },
      "outputs": [],
      "source": [
        "import pandas as pd\n",
        "import numpy as np\n",
        "from sklearn.model_selection import train_test_split, GridSearchCV\n",
        "from sklearn.svm import SVC\n",
        "from sklearn.metrics import accuracy_score, precision_score, recall_score, f1_score, confusion_matrix, classification_report\n",
        "from sklearn.metrics import roc_auc_score, roc_curve\n",
        "import matplotlib.pyplot as plt\n",
        "import seaborn as sns\n",
        "from sklearn.feature_selection import SelectFromModel\n",
        "from sklearn.neighbors import KNeighborsClassifier\n",
        "from sklearn.ensemble import RandomForestClassifier"
      ]
    },
    {
      "cell_type": "markdown",
      "source": [
        "### Loading data from CSV"
      ],
      "metadata": {
        "id": "4ZzvcNqrhNty"
      }
    },
    {
      "cell_type": "code",
      "source": [
        "# Load dataset\n",
        "url = 'https://archive.ics.uci.edu/ml/machine-learning-databases/00529/diabetes_data_upload.csv'\n",
        "names = ['Age', 'Sex', 'Polyuria', 'Polydipsia', 'SuddenWeightLoss', 'Weakness', 'Polyphagia', 'GenitalThrush', 'VisualBlurring', 'Itching', 'Irritability', 'DelayedHealing', 'PartialParesis', 'MuscleStiffness', 'Alopecia', 'Obesity', 'Class']\n",
        "dataframe = pd.read_csv(url, names=names, skiprows=1)"
      ],
      "metadata": {
        "id": "Qe3cx7Xx4nat"
      },
      "execution_count": null,
      "outputs": []
    },
    {
      "cell_type": "code",
      "source": [
        "dataframe.head()"
      ],
      "metadata": {
        "colab": {
          "base_uri": "https://localhost:8080/",
          "height": 250
        },
        "id": "rJTrpKSW4_EI",
        "outputId": "180419e3-a48e-451f-e297-55948bf031bf"
      },
      "execution_count": null,
      "outputs": [
        {
          "output_type": "execute_result",
          "data": {
            "text/plain": [
              "   Age   Sex Polyuria Polydipsia SuddenWeightLoss Weakness Polyphagia  \\\n",
              "0   40  Male       No        Yes               No      Yes         No   \n",
              "1   58  Male       No         No               No      Yes         No   \n",
              "2   41  Male      Yes         No               No      Yes        Yes   \n",
              "3   45  Male       No         No              Yes      Yes        Yes   \n",
              "4   60  Male      Yes        Yes              Yes      Yes        Yes   \n",
              "\n",
              "  GenitalThrush VisualBlurring Itching Irritability DelayedHealing  \\\n",
              "0            No             No     Yes           No            Yes   \n",
              "1            No            Yes      No           No             No   \n",
              "2            No             No     Yes           No            Yes   \n",
              "3           Yes             No     Yes           No            Yes   \n",
              "4            No            Yes     Yes          Yes            Yes   \n",
              "\n",
              "  PartialParesis MuscleStiffness Alopecia Obesity     Class  \n",
              "0             No             Yes      Yes     Yes  Positive  \n",
              "1            Yes              No      Yes      No  Positive  \n",
              "2             No             Yes      Yes      No  Positive  \n",
              "3             No              No       No      No  Positive  \n",
              "4            Yes             Yes      Yes     Yes  Positive  "
            ],
            "text/html": [
              "\n",
              "  <div id=\"df-4a44b1a8-d268-4aac-a21f-2992ae2afaa2\">\n",
              "    <div class=\"colab-df-container\">\n",
              "      <div>\n",
              "<style scoped>\n",
              "    .dataframe tbody tr th:only-of-type {\n",
              "        vertical-align: middle;\n",
              "    }\n",
              "\n",
              "    .dataframe tbody tr th {\n",
              "        vertical-align: top;\n",
              "    }\n",
              "\n",
              "    .dataframe thead th {\n",
              "        text-align: right;\n",
              "    }\n",
              "</style>\n",
              "<table border=\"1\" class=\"dataframe\">\n",
              "  <thead>\n",
              "    <tr style=\"text-align: right;\">\n",
              "      <th></th>\n",
              "      <th>Age</th>\n",
              "      <th>Sex</th>\n",
              "      <th>Polyuria</th>\n",
              "      <th>Polydipsia</th>\n",
              "      <th>SuddenWeightLoss</th>\n",
              "      <th>Weakness</th>\n",
              "      <th>Polyphagia</th>\n",
              "      <th>GenitalThrush</th>\n",
              "      <th>VisualBlurring</th>\n",
              "      <th>Itching</th>\n",
              "      <th>Irritability</th>\n",
              "      <th>DelayedHealing</th>\n",
              "      <th>PartialParesis</th>\n",
              "      <th>MuscleStiffness</th>\n",
              "      <th>Alopecia</th>\n",
              "      <th>Obesity</th>\n",
              "      <th>Class</th>\n",
              "    </tr>\n",
              "  </thead>\n",
              "  <tbody>\n",
              "    <tr>\n",
              "      <th>0</th>\n",
              "      <td>40</td>\n",
              "      <td>Male</td>\n",
              "      <td>No</td>\n",
              "      <td>Yes</td>\n",
              "      <td>No</td>\n",
              "      <td>Yes</td>\n",
              "      <td>No</td>\n",
              "      <td>No</td>\n",
              "      <td>No</td>\n",
              "      <td>Yes</td>\n",
              "      <td>No</td>\n",
              "      <td>Yes</td>\n",
              "      <td>No</td>\n",
              "      <td>Yes</td>\n",
              "      <td>Yes</td>\n",
              "      <td>Yes</td>\n",
              "      <td>Positive</td>\n",
              "    </tr>\n",
              "    <tr>\n",
              "      <th>1</th>\n",
              "      <td>58</td>\n",
              "      <td>Male</td>\n",
              "      <td>No</td>\n",
              "      <td>No</td>\n",
              "      <td>No</td>\n",
              "      <td>Yes</td>\n",
              "      <td>No</td>\n",
              "      <td>No</td>\n",
              "      <td>Yes</td>\n",
              "      <td>No</td>\n",
              "      <td>No</td>\n",
              "      <td>No</td>\n",
              "      <td>Yes</td>\n",
              "      <td>No</td>\n",
              "      <td>Yes</td>\n",
              "      <td>No</td>\n",
              "      <td>Positive</td>\n",
              "    </tr>\n",
              "    <tr>\n",
              "      <th>2</th>\n",
              "      <td>41</td>\n",
              "      <td>Male</td>\n",
              "      <td>Yes</td>\n",
              "      <td>No</td>\n",
              "      <td>No</td>\n",
              "      <td>Yes</td>\n",
              "      <td>Yes</td>\n",
              "      <td>No</td>\n",
              "      <td>No</td>\n",
              "      <td>Yes</td>\n",
              "      <td>No</td>\n",
              "      <td>Yes</td>\n",
              "      <td>No</td>\n",
              "      <td>Yes</td>\n",
              "      <td>Yes</td>\n",
              "      <td>No</td>\n",
              "      <td>Positive</td>\n",
              "    </tr>\n",
              "    <tr>\n",
              "      <th>3</th>\n",
              "      <td>45</td>\n",
              "      <td>Male</td>\n",
              "      <td>No</td>\n",
              "      <td>No</td>\n",
              "      <td>Yes</td>\n",
              "      <td>Yes</td>\n",
              "      <td>Yes</td>\n",
              "      <td>Yes</td>\n",
              "      <td>No</td>\n",
              "      <td>Yes</td>\n",
              "      <td>No</td>\n",
              "      <td>Yes</td>\n",
              "      <td>No</td>\n",
              "      <td>No</td>\n",
              "      <td>No</td>\n",
              "      <td>No</td>\n",
              "      <td>Positive</td>\n",
              "    </tr>\n",
              "    <tr>\n",
              "      <th>4</th>\n",
              "      <td>60</td>\n",
              "      <td>Male</td>\n",
              "      <td>Yes</td>\n",
              "      <td>Yes</td>\n",
              "      <td>Yes</td>\n",
              "      <td>Yes</td>\n",
              "      <td>Yes</td>\n",
              "      <td>No</td>\n",
              "      <td>Yes</td>\n",
              "      <td>Yes</td>\n",
              "      <td>Yes</td>\n",
              "      <td>Yes</td>\n",
              "      <td>Yes</td>\n",
              "      <td>Yes</td>\n",
              "      <td>Yes</td>\n",
              "      <td>Yes</td>\n",
              "      <td>Positive</td>\n",
              "    </tr>\n",
              "  </tbody>\n",
              "</table>\n",
              "</div>\n",
              "      <button class=\"colab-df-convert\" onclick=\"convertToInteractive('df-4a44b1a8-d268-4aac-a21f-2992ae2afaa2')\"\n",
              "              title=\"Convert this dataframe to an interactive table.\"\n",
              "              style=\"display:none;\">\n",
              "        \n",
              "  <svg xmlns=\"http://www.w3.org/2000/svg\" height=\"24px\"viewBox=\"0 0 24 24\"\n",
              "       width=\"24px\">\n",
              "    <path d=\"M0 0h24v24H0V0z\" fill=\"none\"/>\n",
              "    <path d=\"M18.56 5.44l.94 2.06.94-2.06 2.06-.94-2.06-.94-.94-2.06-.94 2.06-2.06.94zm-11 1L8.5 8.5l.94-2.06 2.06-.94-2.06-.94L8.5 2.5l-.94 2.06-2.06.94zm10 10l.94 2.06.94-2.06 2.06-.94-2.06-.94-.94-2.06-.94 2.06-2.06.94z\"/><path d=\"M17.41 7.96l-1.37-1.37c-.4-.4-.92-.59-1.43-.59-.52 0-1.04.2-1.43.59L10.3 9.45l-7.72 7.72c-.78.78-.78 2.05 0 2.83L4 21.41c.39.39.9.59 1.41.59.51 0 1.02-.2 1.41-.59l7.78-7.78 2.81-2.81c.8-.78.8-2.07 0-2.86zM5.41 20L4 18.59l7.72-7.72 1.47 1.35L5.41 20z\"/>\n",
              "  </svg>\n",
              "      </button>\n",
              "      \n",
              "  <style>\n",
              "    .colab-df-container {\n",
              "      display:flex;\n",
              "      flex-wrap:wrap;\n",
              "      gap: 12px;\n",
              "    }\n",
              "\n",
              "    .colab-df-convert {\n",
              "      background-color: #E8F0FE;\n",
              "      border: none;\n",
              "      border-radius: 50%;\n",
              "      cursor: pointer;\n",
              "      display: none;\n",
              "      fill: #1967D2;\n",
              "      height: 32px;\n",
              "      padding: 0 0 0 0;\n",
              "      width: 32px;\n",
              "    }\n",
              "\n",
              "    .colab-df-convert:hover {\n",
              "      background-color: #E2EBFA;\n",
              "      box-shadow: 0px 1px 2px rgba(60, 64, 67, 0.3), 0px 1px 3px 1px rgba(60, 64, 67, 0.15);\n",
              "      fill: #174EA6;\n",
              "    }\n",
              "\n",
              "    [theme=dark] .colab-df-convert {\n",
              "      background-color: #3B4455;\n",
              "      fill: #D2E3FC;\n",
              "    }\n",
              "\n",
              "    [theme=dark] .colab-df-convert:hover {\n",
              "      background-color: #434B5C;\n",
              "      box-shadow: 0px 1px 3px 1px rgba(0, 0, 0, 0.15);\n",
              "      filter: drop-shadow(0px 1px 2px rgba(0, 0, 0, 0.3));\n",
              "      fill: #FFFFFF;\n",
              "    }\n",
              "  </style>\n",
              "\n",
              "      <script>\n",
              "        const buttonEl =\n",
              "          document.querySelector('#df-4a44b1a8-d268-4aac-a21f-2992ae2afaa2 button.colab-df-convert');\n",
              "        buttonEl.style.display =\n",
              "          google.colab.kernel.accessAllowed ? 'block' : 'none';\n",
              "\n",
              "        async function convertToInteractive(key) {\n",
              "          const element = document.querySelector('#df-4a44b1a8-d268-4aac-a21f-2992ae2afaa2');\n",
              "          const dataTable =\n",
              "            await google.colab.kernel.invokeFunction('convertToInteractive',\n",
              "                                                     [key], {});\n",
              "          if (!dataTable) return;\n",
              "\n",
              "          const docLinkHtml = 'Like what you see? Visit the ' +\n",
              "            '<a target=\"_blank\" href=https://colab.research.google.com/notebooks/data_table.ipynb>data table notebook</a>'\n",
              "            + ' to learn more about interactive tables.';\n",
              "          element.innerHTML = '';\n",
              "          dataTable['output_type'] = 'display_data';\n",
              "          await google.colab.output.renderOutput(dataTable, element);\n",
              "          const docLink = document.createElement('div');\n",
              "          docLink.innerHTML = docLinkHtml;\n",
              "          element.appendChild(docLink);\n",
              "        }\n",
              "      </script>\n",
              "    </div>\n",
              "  </div>\n",
              "  "
            ]
          },
          "metadata": {},
          "execution_count": 3
        }
      ]
    },
    {
      "cell_type": "markdown",
      "source": [
        "### Pre-Processing"
      ],
      "metadata": {
        "id": "3P6oLw63iNCM"
      }
    },
    {
      "cell_type": "code",
      "source": [
        "# Handle missing values\n",
        "dataframe.isna().sum()\n"
      ],
      "metadata": {
        "colab": {
          "base_uri": "https://localhost:8080/"
        },
        "id": "bm4gMwZ2klHB",
        "outputId": "5704aac0-881a-400e-fc9e-63284d38f5c4"
      },
      "execution_count": null,
      "outputs": [
        {
          "output_type": "execute_result",
          "data": {
            "text/plain": [
              "Age                 0\n",
              "Sex                 0\n",
              "Polyuria            0\n",
              "Polydipsia          0\n",
              "SuddenWeightLoss    0\n",
              "Weakness            0\n",
              "Polyphagia          0\n",
              "GenitalThrush       0\n",
              "VisualBlurring      0\n",
              "Itching             0\n",
              "Irritability        0\n",
              "DelayedHealing      0\n",
              "PartialParesis      0\n",
              "MuscleStiffness     0\n",
              "Alopecia            0\n",
              "Obesity             0\n",
              "Class               0\n",
              "dtype: int64"
            ]
          },
          "metadata": {},
          "execution_count": 4
        }
      ]
    },
    {
      "cell_type": "markdown",
      "source": [
        "Dataset is clean. There is no missing values therefore, no further processing required to remove or imputate missing data"
      ],
      "metadata": {
        "id": "8gBmDN7xk5Ef"
      }
    },
    {
      "cell_type": "code",
      "source": [
        "for column  in dataframe.iloc[:, 1:].columns:\n",
        "  print(dataframe[column].unique())"
      ],
      "metadata": {
        "colab": {
          "base_uri": "https://localhost:8080/"
        },
        "id": "N2y2O9lGqZU0",
        "outputId": "60a072e4-0db6-4b98-fc88-6bce3768a6f4"
      },
      "execution_count": null,
      "outputs": [
        {
          "output_type": "stream",
          "name": "stdout",
          "text": [
            "['Male' 'Female']\n",
            "['No' 'Yes']\n",
            "['Yes' 'No']\n",
            "['No' 'Yes']\n",
            "['Yes' 'No']\n",
            "['No' 'Yes']\n",
            "['No' 'Yes']\n",
            "['No' 'Yes']\n",
            "['Yes' 'No']\n",
            "['No' 'Yes']\n",
            "['Yes' 'No']\n",
            "['No' 'Yes']\n",
            "['Yes' 'No']\n",
            "['Yes' 'No']\n",
            "['Yes' 'No']\n",
            "['Positive' 'Negative']\n"
          ]
        }
      ]
    },
    {
      "cell_type": "code",
      "source": [
        "# Handle data types\n",
        "dataframe.dtypes"
      ],
      "metadata": {
        "colab": {
          "base_uri": "https://localhost:8080/"
        },
        "id": "sZC4bXRihWMj",
        "outputId": "44409120-9aad-4a6a-a71e-a85d5426b388"
      },
      "execution_count": null,
      "outputs": [
        {
          "output_type": "execute_result",
          "data": {
            "text/plain": [
              "Age                  int64\n",
              "Sex                 object\n",
              "Polyuria            object\n",
              "Polydipsia          object\n",
              "SuddenWeightLoss    object\n",
              "Weakness            object\n",
              "Polyphagia          object\n",
              "GenitalThrush       object\n",
              "VisualBlurring      object\n",
              "Itching             object\n",
              "Irritability        object\n",
              "DelayedHealing      object\n",
              "PartialParesis      object\n",
              "MuscleStiffness     object\n",
              "Alopecia            object\n",
              "Obesity             object\n",
              "Class               object\n",
              "dtype: object"
            ]
          },
          "metadata": {},
          "execution_count": 6
        }
      ]
    },
    {
      "cell_type": "code",
      "source": [
        "# Convert Boolean columns (e.g.: Yes/No) from Object type to Boolean\n",
        "for columnName  in dataframe.iloc[:,2:16].columns:\n",
        "  dataframe[columnName] = dataframe[columnName].map({'Yes': True, 'No': False})\n",
        "  dataframe[columnName] = dataframe[columnName].astype(bool)\n",
        "dataframe['Sex'] = dataframe['Sex'].map({'Male': True, 'Female': False})\n",
        "dataframe['Sex'] = dataframe['Sex'].astype(bool)\n",
        "dataframe['Class'] = dataframe['Class'].map({'Positive': True, 'Negative': False})\n",
        "dataframe['Class'] = dataframe['Class'].astype(bool)\n",
        "dataframe.head()"
      ],
      "metadata": {
        "colab": {
          "base_uri": "https://localhost:8080/",
          "height": 250
        },
        "id": "rfh2a6pPjIsI",
        "outputId": "e622178e-4bc5-4123-dd00-960d14e065e0"
      },
      "execution_count": null,
      "outputs": [
        {
          "output_type": "execute_result",
          "data": {
            "text/plain": [
              "   Age   Sex  Polyuria  Polydipsia  SuddenWeightLoss  Weakness  Polyphagia  \\\n",
              "0   40  True     False        True             False      True       False   \n",
              "1   58  True     False       False             False      True       False   \n",
              "2   41  True      True       False             False      True        True   \n",
              "3   45  True     False       False              True      True        True   \n",
              "4   60  True      True        True              True      True        True   \n",
              "\n",
              "   GenitalThrush  VisualBlurring  Itching  Irritability  DelayedHealing  \\\n",
              "0          False           False     True         False            True   \n",
              "1          False            True    False         False           False   \n",
              "2          False           False     True         False            True   \n",
              "3           True           False     True         False            True   \n",
              "4          False            True     True          True            True   \n",
              "\n",
              "   PartialParesis  MuscleStiffness  Alopecia  Obesity  Class  \n",
              "0           False             True      True     True   True  \n",
              "1            True            False      True    False   True  \n",
              "2           False             True      True    False   True  \n",
              "3           False            False     False    False   True  \n",
              "4            True             True      True     True   True  "
            ],
            "text/html": [
              "\n",
              "  <div id=\"df-7c9e4800-0523-4523-b20f-0712d1234791\">\n",
              "    <div class=\"colab-df-container\">\n",
              "      <div>\n",
              "<style scoped>\n",
              "    .dataframe tbody tr th:only-of-type {\n",
              "        vertical-align: middle;\n",
              "    }\n",
              "\n",
              "    .dataframe tbody tr th {\n",
              "        vertical-align: top;\n",
              "    }\n",
              "\n",
              "    .dataframe thead th {\n",
              "        text-align: right;\n",
              "    }\n",
              "</style>\n",
              "<table border=\"1\" class=\"dataframe\">\n",
              "  <thead>\n",
              "    <tr style=\"text-align: right;\">\n",
              "      <th></th>\n",
              "      <th>Age</th>\n",
              "      <th>Sex</th>\n",
              "      <th>Polyuria</th>\n",
              "      <th>Polydipsia</th>\n",
              "      <th>SuddenWeightLoss</th>\n",
              "      <th>Weakness</th>\n",
              "      <th>Polyphagia</th>\n",
              "      <th>GenitalThrush</th>\n",
              "      <th>VisualBlurring</th>\n",
              "      <th>Itching</th>\n",
              "      <th>Irritability</th>\n",
              "      <th>DelayedHealing</th>\n",
              "      <th>PartialParesis</th>\n",
              "      <th>MuscleStiffness</th>\n",
              "      <th>Alopecia</th>\n",
              "      <th>Obesity</th>\n",
              "      <th>Class</th>\n",
              "    </tr>\n",
              "  </thead>\n",
              "  <tbody>\n",
              "    <tr>\n",
              "      <th>0</th>\n",
              "      <td>40</td>\n",
              "      <td>True</td>\n",
              "      <td>False</td>\n",
              "      <td>True</td>\n",
              "      <td>False</td>\n",
              "      <td>True</td>\n",
              "      <td>False</td>\n",
              "      <td>False</td>\n",
              "      <td>False</td>\n",
              "      <td>True</td>\n",
              "      <td>False</td>\n",
              "      <td>True</td>\n",
              "      <td>False</td>\n",
              "      <td>True</td>\n",
              "      <td>True</td>\n",
              "      <td>True</td>\n",
              "      <td>True</td>\n",
              "    </tr>\n",
              "    <tr>\n",
              "      <th>1</th>\n",
              "      <td>58</td>\n",
              "      <td>True</td>\n",
              "      <td>False</td>\n",
              "      <td>False</td>\n",
              "      <td>False</td>\n",
              "      <td>True</td>\n",
              "      <td>False</td>\n",
              "      <td>False</td>\n",
              "      <td>True</td>\n",
              "      <td>False</td>\n",
              "      <td>False</td>\n",
              "      <td>False</td>\n",
              "      <td>True</td>\n",
              "      <td>False</td>\n",
              "      <td>True</td>\n",
              "      <td>False</td>\n",
              "      <td>True</td>\n",
              "    </tr>\n",
              "    <tr>\n",
              "      <th>2</th>\n",
              "      <td>41</td>\n",
              "      <td>True</td>\n",
              "      <td>True</td>\n",
              "      <td>False</td>\n",
              "      <td>False</td>\n",
              "      <td>True</td>\n",
              "      <td>True</td>\n",
              "      <td>False</td>\n",
              "      <td>False</td>\n",
              "      <td>True</td>\n",
              "      <td>False</td>\n",
              "      <td>True</td>\n",
              "      <td>False</td>\n",
              "      <td>True</td>\n",
              "      <td>True</td>\n",
              "      <td>False</td>\n",
              "      <td>True</td>\n",
              "    </tr>\n",
              "    <tr>\n",
              "      <th>3</th>\n",
              "      <td>45</td>\n",
              "      <td>True</td>\n",
              "      <td>False</td>\n",
              "      <td>False</td>\n",
              "      <td>True</td>\n",
              "      <td>True</td>\n",
              "      <td>True</td>\n",
              "      <td>True</td>\n",
              "      <td>False</td>\n",
              "      <td>True</td>\n",
              "      <td>False</td>\n",
              "      <td>True</td>\n",
              "      <td>False</td>\n",
              "      <td>False</td>\n",
              "      <td>False</td>\n",
              "      <td>False</td>\n",
              "      <td>True</td>\n",
              "    </tr>\n",
              "    <tr>\n",
              "      <th>4</th>\n",
              "      <td>60</td>\n",
              "      <td>True</td>\n",
              "      <td>True</td>\n",
              "      <td>True</td>\n",
              "      <td>True</td>\n",
              "      <td>True</td>\n",
              "      <td>True</td>\n",
              "      <td>False</td>\n",
              "      <td>True</td>\n",
              "      <td>True</td>\n",
              "      <td>True</td>\n",
              "      <td>True</td>\n",
              "      <td>True</td>\n",
              "      <td>True</td>\n",
              "      <td>True</td>\n",
              "      <td>True</td>\n",
              "      <td>True</td>\n",
              "    </tr>\n",
              "  </tbody>\n",
              "</table>\n",
              "</div>\n",
              "      <button class=\"colab-df-convert\" onclick=\"convertToInteractive('df-7c9e4800-0523-4523-b20f-0712d1234791')\"\n",
              "              title=\"Convert this dataframe to an interactive table.\"\n",
              "              style=\"display:none;\">\n",
              "        \n",
              "  <svg xmlns=\"http://www.w3.org/2000/svg\" height=\"24px\"viewBox=\"0 0 24 24\"\n",
              "       width=\"24px\">\n",
              "    <path d=\"M0 0h24v24H0V0z\" fill=\"none\"/>\n",
              "    <path d=\"M18.56 5.44l.94 2.06.94-2.06 2.06-.94-2.06-.94-.94-2.06-.94 2.06-2.06.94zm-11 1L8.5 8.5l.94-2.06 2.06-.94-2.06-.94L8.5 2.5l-.94 2.06-2.06.94zm10 10l.94 2.06.94-2.06 2.06-.94-2.06-.94-.94-2.06-.94 2.06-2.06.94z\"/><path d=\"M17.41 7.96l-1.37-1.37c-.4-.4-.92-.59-1.43-.59-.52 0-1.04.2-1.43.59L10.3 9.45l-7.72 7.72c-.78.78-.78 2.05 0 2.83L4 21.41c.39.39.9.59 1.41.59.51 0 1.02-.2 1.41-.59l7.78-7.78 2.81-2.81c.8-.78.8-2.07 0-2.86zM5.41 20L4 18.59l7.72-7.72 1.47 1.35L5.41 20z\"/>\n",
              "  </svg>\n",
              "      </button>\n",
              "      \n",
              "  <style>\n",
              "    .colab-df-container {\n",
              "      display:flex;\n",
              "      flex-wrap:wrap;\n",
              "      gap: 12px;\n",
              "    }\n",
              "\n",
              "    .colab-df-convert {\n",
              "      background-color: #E8F0FE;\n",
              "      border: none;\n",
              "      border-radius: 50%;\n",
              "      cursor: pointer;\n",
              "      display: none;\n",
              "      fill: #1967D2;\n",
              "      height: 32px;\n",
              "      padding: 0 0 0 0;\n",
              "      width: 32px;\n",
              "    }\n",
              "\n",
              "    .colab-df-convert:hover {\n",
              "      background-color: #E2EBFA;\n",
              "      box-shadow: 0px 1px 2px rgba(60, 64, 67, 0.3), 0px 1px 3px 1px rgba(60, 64, 67, 0.15);\n",
              "      fill: #174EA6;\n",
              "    }\n",
              "\n",
              "    [theme=dark] .colab-df-convert {\n",
              "      background-color: #3B4455;\n",
              "      fill: #D2E3FC;\n",
              "    }\n",
              "\n",
              "    [theme=dark] .colab-df-convert:hover {\n",
              "      background-color: #434B5C;\n",
              "      box-shadow: 0px 1px 3px 1px rgba(0, 0, 0, 0.15);\n",
              "      filter: drop-shadow(0px 1px 2px rgba(0, 0, 0, 0.3));\n",
              "      fill: #FFFFFF;\n",
              "    }\n",
              "  </style>\n",
              "\n",
              "      <script>\n",
              "        const buttonEl =\n",
              "          document.querySelector('#df-7c9e4800-0523-4523-b20f-0712d1234791 button.colab-df-convert');\n",
              "        buttonEl.style.display =\n",
              "          google.colab.kernel.accessAllowed ? 'block' : 'none';\n",
              "\n",
              "        async function convertToInteractive(key) {\n",
              "          const element = document.querySelector('#df-7c9e4800-0523-4523-b20f-0712d1234791');\n",
              "          const dataTable =\n",
              "            await google.colab.kernel.invokeFunction('convertToInteractive',\n",
              "                                                     [key], {});\n",
              "          if (!dataTable) return;\n",
              "\n",
              "          const docLinkHtml = 'Like what you see? Visit the ' +\n",
              "            '<a target=\"_blank\" href=https://colab.research.google.com/notebooks/data_table.ipynb>data table notebook</a>'\n",
              "            + ' to learn more about interactive tables.';\n",
              "          element.innerHTML = '';\n",
              "          dataTable['output_type'] = 'display_data';\n",
              "          await google.colab.output.renderOutput(dataTable, element);\n",
              "          const docLink = document.createElement('div');\n",
              "          docLink.innerHTML = docLinkHtml;\n",
              "          element.appendChild(docLink);\n",
              "        }\n",
              "      </script>\n",
              "    </div>\n",
              "  </div>\n",
              "  "
            ]
          },
          "metadata": {},
          "execution_count": 7
        }
      ]
    },
    {
      "cell_type": "code",
      "source": [
        "for column  in dataframe.iloc[:, 1:].columns:\n",
        "  print(dataframe[column].unique())\n",
        "dataframe.dtypes"
      ],
      "metadata": {
        "colab": {
          "base_uri": "https://localhost:8080/"
        },
        "id": "-YRDSIvtpMMF",
        "outputId": "c36fbf49-90c3-453f-8c03-ed9577f9ccfd"
      },
      "execution_count": null,
      "outputs": [
        {
          "output_type": "stream",
          "name": "stdout",
          "text": [
            "[ True False]\n",
            "[False  True]\n",
            "[ True False]\n",
            "[False  True]\n",
            "[ True False]\n",
            "[False  True]\n",
            "[False  True]\n",
            "[False  True]\n",
            "[ True False]\n",
            "[False  True]\n",
            "[ True False]\n",
            "[False  True]\n",
            "[ True False]\n",
            "[ True False]\n",
            "[ True False]\n",
            "[ True False]\n"
          ]
        },
        {
          "output_type": "execute_result",
          "data": {
            "text/plain": [
              "Age                 int64\n",
              "Sex                  bool\n",
              "Polyuria             bool\n",
              "Polydipsia           bool\n",
              "SuddenWeightLoss     bool\n",
              "Weakness             bool\n",
              "Polyphagia           bool\n",
              "GenitalThrush        bool\n",
              "VisualBlurring       bool\n",
              "Itching              bool\n",
              "Irritability         bool\n",
              "DelayedHealing       bool\n",
              "PartialParesis       bool\n",
              "MuscleStiffness      bool\n",
              "Alopecia             bool\n",
              "Obesity              bool\n",
              "Class                bool\n",
              "dtype: object"
            ]
          },
          "metadata": {},
          "execution_count": 8
        }
      ]
    },
    {
      "cell_type": "markdown",
      "source": [
        "### Split Train and Test set\n"
      ],
      "metadata": {
        "id": "-uRy_M2l8VuJ"
      }
    },
    {
      "cell_type": "code",
      "source": [
        "# Split the data into features and target\n",
        "X = dataframe.drop('Class', axis=1)\n",
        "y = dataframe['Class']\n",
        "\n",
        "# Split the data into training and testing sets\n",
        "X_train, X_test, y_train, y_test = train_test_split(X, y, test_size=0.2, random_state=0)"
      ],
      "metadata": {
        "id": "gMulGPWN8bO1"
      },
      "execution_count": null,
      "outputs": []
    },
    {
      "cell_type": "markdown",
      "source": [
        "## Applying Support Vector Machine (SVM)\n",
        "\n",
        "First step is to determine best Kernel fuction for given dataset"
      ],
      "metadata": {
        "id": "45DaBlvF9FN1"
      }
    },
    {
      "cell_type": "code",
      "source": [
        "# List of kernel functions to try\n",
        "kernels = [\"linear\", \"poly\", \"rbf\", \"sigmoid\"]\n",
        "class_names = [\"Positive\",\"Negative\"]\n",
        "\n",
        "# Dictionary to store the performance of each SVM classifier\n",
        "performance = {}\n",
        "\n",
        "for kernel in kernels:\n",
        "    # Train an SVM classifier using the current kernel function\n",
        "    clf = SVC(kernel=kernel)\n",
        "    clf.fit(X_train, y_train)\n",
        "\n",
        "    # Predict the target values for the testing data\n",
        "    y_pred = clf.predict(X_test)\n",
        "\n",
        "    # Compute the performance metrics\n",
        "    accuracy = accuracy_score(y_test, y_pred)\n",
        "    precision = precision_score(y_test, y_pred)\n",
        "    recall = recall_score(y_test, y_pred)\n",
        "    f1 = f1_score(y_test, y_pred)\n",
        "\n",
        "    cm = confusion_matrix(y_test, y_pred)\n",
        "\n",
        "    plt.figure(figsize=(9,9))\n",
        "    sns.heatmap(cm, annot=True, fmt=\".3f\", linewidths=.5, square = True, cmap = 'Blues_r', yticklabels=class_names, xticklabels=class_names)\n",
        "    plt.ylabel('Actual label')\n",
        "    plt.xlabel('Predicted label')\n",
        "    all_sample_title = f'SVC - {kernel} Model Accuracy Score: {accuracy:.2%}'\n",
        "    plt.title(all_sample_title, size = 15)\n",
        "\n",
        "    print(classification_report(y_test, y_pred,labels = [0, 1], target_names=class_names))\n",
        "\n",
        "    # Store the performance metrics for the current SVM classifier\n",
        "    performance[kernel] = {\"accuracy\": accuracy, \"precision\": precision, \"recall\": recall, \"f1\": f1}\n",
        "\n",
        "# Find the kernel with the best performance\n",
        "best_kernel = max(performance, key=lambda x: performance[x][\"f1\"])\n",
        "\n",
        "# Print the best kernel and its performance metrics\n",
        "print(\"Best kernel: {}\".format(best_kernel))\n",
        "print(\"Accuracy: {:.2f}\".format(performance[best_kernel][\"accuracy\"]))\n",
        "print(\"Precision: {:.2f}\".format(performance[best_kernel][\"precision\"]))\n",
        "print(\"Recall: {:.2f}\".format(performance[best_kernel][\"recall\"]))\n",
        "print(\"F1-score:{:.2f}\".format(performance[best_kernel][\"f1\"]))\n",
        "\n",
        "\n",
        "\n"
      ],
      "metadata": {
        "colab": {
          "base_uri": "https://localhost:8080/",
          "height": 1000
        },
        "id": "8Yy1rFg29j2-",
        "outputId": "b84599fa-0ff3-4d97-de6b-30fc56b633d3"
      },
      "execution_count": null,
      "outputs": [
        {
          "output_type": "stream",
          "name": "stdout",
          "text": [
            "              precision    recall  f1-score   support\n",
            "\n",
            "    Positive       0.95      0.93      0.94        40\n",
            "    Negative       0.95      0.97      0.96        64\n",
            "\n",
            "    accuracy                           0.95       104\n",
            "   macro avg       0.95      0.95      0.95       104\n",
            "weighted avg       0.95      0.95      0.95       104\n",
            "\n"
          ]
        },
        {
          "output_type": "stream",
          "name": "stderr",
          "text": [
            "/usr/local/lib/python3.8/dist-packages/sklearn/metrics/_classification.py:1318: UndefinedMetricWarning: Precision and F-score are ill-defined and being set to 0.0 in labels with no predicted samples. Use `zero_division` parameter to control this behavior.\n",
            "  _warn_prf(average, modifier, msg_start, len(result))\n",
            "/usr/local/lib/python3.8/dist-packages/sklearn/metrics/_classification.py:1318: UndefinedMetricWarning: Precision and F-score are ill-defined and being set to 0.0 in labels with no predicted samples. Use `zero_division` parameter to control this behavior.\n",
            "  _warn_prf(average, modifier, msg_start, len(result))\n",
            "/usr/local/lib/python3.8/dist-packages/sklearn/metrics/_classification.py:1318: UndefinedMetricWarning: Precision and F-score are ill-defined and being set to 0.0 in labels with no predicted samples. Use `zero_division` parameter to control this behavior.\n",
            "  _warn_prf(average, modifier, msg_start, len(result))\n",
            "/usr/local/lib/python3.8/dist-packages/sklearn/metrics/_classification.py:1318: UndefinedMetricWarning: Precision and F-score are ill-defined and being set to 0.0 in labels with no predicted samples. Use `zero_division` parameter to control this behavior.\n",
            "  _warn_prf(average, modifier, msg_start, len(result))\n",
            "/usr/local/lib/python3.8/dist-packages/sklearn/metrics/_classification.py:1318: UndefinedMetricWarning: Precision and F-score are ill-defined and being set to 0.0 in labels with no predicted samples. Use `zero_division` parameter to control this behavior.\n",
            "  _warn_prf(average, modifier, msg_start, len(result))\n",
            "/usr/local/lib/python3.8/dist-packages/sklearn/metrics/_classification.py:1318: UndefinedMetricWarning: Precision and F-score are ill-defined and being set to 0.0 in labels with no predicted samples. Use `zero_division` parameter to control this behavior.\n",
            "  _warn_prf(average, modifier, msg_start, len(result))\n"
          ]
        },
        {
          "output_type": "stream",
          "name": "stdout",
          "text": [
            "              precision    recall  f1-score   support\n",
            "\n",
            "    Positive       0.00      0.00      0.00        40\n",
            "    Negative       0.62      1.00      0.76        64\n",
            "\n",
            "    accuracy                           0.62       104\n",
            "   macro avg       0.31      0.50      0.38       104\n",
            "weighted avg       0.38      0.62      0.47       104\n",
            "\n",
            "              precision    recall  f1-score   support\n",
            "\n",
            "    Positive       0.00      0.00      0.00        40\n",
            "    Negative       0.62      1.00      0.76        64\n",
            "\n",
            "    accuracy                           0.62       104\n",
            "   macro avg       0.31      0.50      0.38       104\n",
            "weighted avg       0.38      0.62      0.47       104\n",
            "\n",
            "              precision    recall  f1-score   support\n",
            "\n",
            "    Positive       0.41      0.40      0.41        40\n",
            "    Negative       0.63      0.64      0.64        64\n",
            "\n",
            "    accuracy                           0.55       104\n",
            "   macro avg       0.52      0.52      0.52       104\n",
            "weighted avg       0.55      0.55      0.55       104\n",
            "\n",
            "Best kernel: linear\n",
            "Accuracy: 0.95\n",
            "Precision: 0.95\n",
            "Recall: 0.97\n",
            "F1-score:0.96\n"
          ]
        },
        {
          "output_type": "display_data",
          "data": {
            "text/plain": [
              "<Figure size 648x648 with 2 Axes>"
            ],
            "image/png": "[encoded data removed]"
          },
          "metadata": {
            "needs_background": "light"
          }
        },
        {
          "output_type": "display_data",
          "data": {
            "text/plain": [
              "<Figure size 648x648 with 2 Axes>"
            ],
            "image/png": "[encoded data removed]"
          },
          "metadata": {
            "needs_background": "light"
          }
        },
        {
          "output_type": "display_data",
          "data": {
            "text/plain": [
              "<Figure size 648x648 with 2 Axes>"
            ],
            "image/png": "[encoded data removed]"
          },
          "metadata": {
            "needs_background": "light"
          }
        },
        {
          "output_type": "display_data",
          "data": {
            "text/plain": [
              "<Figure size 648x648 with 2 Axes>"
            ],
            "image/png": "[encoded data removed]"
          },
          "metadata": {
            "needs_background": "light"
          }
        }
      ]
    },
    {
      "cell_type": "code",
      "source": [
        "# Best SVC Kernel is linear with Accuracy: 0.95 Precision: 0.95 Recall: 0.97 F1-score:0.96\n",
        "# We will use this model for feature selection\n",
        "\n",
        "clf = SVC(kernel=\"linear\")\n",
        "clf.fit(X_train, y_train)\n",
        "\n",
        "# Use SelectFromModel to select the most important features\n",
        "sfm = SelectFromModel(clf, prefit=True)\n",
        "new_X_train = sfm.transform(X_train)\n",
        "selected_features = X_train.columns[sfm.get_support()]\n",
        "new_X_test = sfm.transform(X_test)\n",
        "\n",
        "# Print the shape of the new feature matrix to see how many features were retained\n",
        "print(\"Number of retained features: {}\".format(new_X_train.shape[1]))\n",
        "\n",
        "\n",
        "# Get the names of the selected features\n",
        "\n",
        "\n",
        "# Print the names of the selected features\n",
        "print(\"Selected features:\")\n",
        "print(selected_features)\n",
        "\n"
      ],
      "metadata": {
        "colab": {
          "base_uri": "https://localhost:8080/"
        },
        "id": "SrxyWNU1LcRy",
        "outputId": "06179711-1739-492d-e6c8-789b4866c11f"
      },
      "execution_count": null,
      "outputs": [
        {
          "output_type": "stream",
          "name": "stdout",
          "text": [
            "Number of retained features: 6\n",
            "Selected features:\n",
            "Index(['Sex', 'Polyuria', 'Polydipsia', 'GenitalThrush', 'Itching',\n",
            "       'Irritability'],\n",
            "      dtype='object')\n"
          ]
        },
        {
          "output_type": "stream",
          "name": "stderr",
          "text": [
            "/usr/local/lib/python3.8/dist-packages/sklearn/base.py:443: UserWarning: X has feature names, but SelectFromModel was fitted without feature names\n",
            "  warnings.warn(\n",
            "/usr/local/lib/python3.8/dist-packages/sklearn/base.py:443: UserWarning: X has feature names, but SelectFromModel was fitted without feature names\n",
            "  warnings.warn(\n"
          ]
        }
      ]
    },
    {
      "cell_type": "code",
      "source": [
        "# Re-run the model with new feature set\n",
        "\n",
        "clf = SVC(kernel=\"linear\")\n",
        "clf.fit(new_X_train, y_train)\n",
        "\n",
        "# Predict the target values for the testing data\n",
        "y_pred = clf.predict(new_X_test)\n",
        "\n",
        "# Compute the performance metrics\n",
        "accuracy = accuracy_score(y_test, y_pred)\n",
        "precision = precision_score(y_test, y_pred)\n",
        "recall = recall_score(y_test, y_pred)\n",
        "f1 = f1_score(y_test, y_pred)\n",
        "\n",
        "cm = confusion_matrix(y_test, y_pred)\n",
        "\n",
        "plt.figure(figsize=(9,9))\n",
        "sns.heatmap(cm, annot=True, fmt=\".3f\", linewidths=.5, square = True, cmap = 'Blues_r', yticklabels=class_names, xticklabels=class_names)\n",
        "plt.ylabel('Actual label')\n",
        "plt.xlabel('Predicted label')\n",
        "all_sample_title = f'SVC - linear Model Accuracy Score: {accuracy:.2%}'\n",
        "plt.title(all_sample_title, size = 15)\n",
        "\n",
        "print(classification_report(y_test, y_pred,labels = [0, 1], target_names=class_names))\n",
        "\n",
        "print(\"Accuracy: {:.2%}\".format(accuracy))\n",
        "print(\"Precision: {:.2%}\".format(precision))\n",
        "print(\"Recall: {:.2%}\".format(recall))\n",
        "print(\"F1-score:{:.2%}\".format(f1))\n"
      ],
      "metadata": {
        "colab": {
          "base_uri": "https://localhost:8080/",
          "height": 761
        },
        "id": "qAUJxwXbO90d",
        "outputId": "c3b1da34-cdae-40f5-bc9b-ef575dcc6caa"
      },
      "execution_count": null,
      "outputs": [
        {
          "output_type": "stream",
          "name": "stdout",
          "text": [
            "              precision    recall  f1-score   support\n",
            "\n",
            "    Positive       0.90      0.95      0.93        40\n",
            "    Negative       0.97      0.94      0.95        64\n",
            "\n",
            "    accuracy                           0.94       104\n",
            "   macro avg       0.94      0.94      0.94       104\n",
            "weighted avg       0.94      0.94      0.94       104\n",
            "\n",
            "Accuracy: 94.23%\n",
            "Precision: 96.77%\n",
            "Recall: 93.75%\n",
            "F1-score:95.24%\n"
          ]
        },
        {
          "output_type": "display_data",
          "data": {
            "text/plain": [
              "<Figure size 648x648 with 2 Axes>"
            ],
            "image/png": "[encoded data removed]"
          },
          "metadata": {
            "needs_background": "light"
          }
        }
      ]
    },
    {
      "cell_type": "code",
      "source": [
        "# Calculate the ROC AUC score\n",
        "roc_auc = roc_auc_score(y_test, y_pred)\n",
        "\n",
        "# Calculate the false positive rate and true positive rate for different thresholds\n",
        "fpr, tpr, thresholds = roc_curve(y_test, y_pred)\n",
        "\n",
        "# Plot the ROC curve\n",
        "plt.plot(fpr, tpr, label='ROC curve (AUC = {:.2f})'.format(roc_auc))\n",
        "plt.xlabel('False Positive Rate')\n",
        "plt.ylabel('True Positive Rate')\n",
        "plt.title('Receiver Operating Characteristic (ROC) curve')\n",
        "plt.legend(loc='best')\n",
        "plt.show()"
      ],
      "metadata": {
        "colab": {
          "base_uri": "https://localhost:8080/",
          "height": 295
        },
        "id": "t_lKw7PojzA_",
        "outputId": "f3c24d5a-582e-46b1-9b26-d647c02b18f1"
      },
      "execution_count": null,
      "outputs": [
        {
          "output_type": "display_data",
          "data": {
            "text/plain": [
              "<Figure size 432x288 with 1 Axes>"
            ],
            "image/png": "[encoded data removed]"
          },
          "metadata": {
            "needs_background": "light"
          }
        }
      ]
    },
    {
      "cell_type": "markdown",
      "source": [
        "## K-Nearest Neighbor (KNN) Implementation\n",
        "\n",
        "we define a range of hyperparameters to search over, including the number of neighbors (n_neighbors), the weighting scheme (weights), and the value of p for the Minkowski distance metric (p). We use GridSearchCV to search over this range of hyperparameters and find the best hyperparameters that give the highest accuracy on the validation set."
      ],
      "metadata": {
        "id": "2a6IUM7lQuog"
      }
    },
    {
      "cell_type": "code",
      "source": [
        "# Define the range of hyperparameters to search over\n",
        "param_grid = {\n",
        "    'n_neighbors': [3, 5, 7, 9, 11],\n",
        "    'weights': ['uniform', 'distance'],\n",
        "    'p': [1, 2, 3, 4, 5]\n",
        "}\n",
        "\n",
        "# Train a KNeighborsClassifier with GridSearchCV\n",
        "knn = KNeighborsClassifier()\n",
        "grid_search = GridSearchCV(knn, param_grid, cv=5, scoring='accuracy')\n",
        "grid_search.fit(X_train, y_train)\n",
        "\n",
        "# Get the results of the GridSearchCV\n",
        "results = grid_search.cv_results_\n",
        "\n",
        "# Print the mean test scores for each hyperparameter combination\n",
        "for mean_test_score, params in zip(results['mean_test_score'], results['params']):\n",
        "    print(\"Mean test score: {:.2f}% for hyperparameters: {}\".format(mean_test_score * 100, params))\n",
        "\n",
        "# Get the best hyperparameters\n",
        "best_params = grid_search.best_params_\n",
        "\n",
        "# Train a KNeighborsClassifier using the best hyperparameters\n",
        "knn = KNeighborsClassifier(**best_params)\n",
        "knn.fit(X_train, y_train)\n",
        "\n",
        "# Make predictions on the testing data\n",
        "y_pred = knn.predict(X_test)\n",
        "\n",
        "# Calculate the accuracy of the model\n",
        "accuracy = accuracy_score(y_test, y_pred)\n",
        "precision = precision_score(y_test, y_pred)\n",
        "recall = recall_score(y_test, y_pred)\n",
        "f1 = f1_score(y_test, y_pred)\n",
        "\n",
        "cm = confusion_matrix(y_test, y_pred)\n",
        "\n",
        "plt.figure(figsize=(9,9))\n",
        "sns.heatmap(cm, annot=True, fmt=\".3f\", linewidths=.5, square = True, cmap = 'Blues_r', yticklabels=class_names, xticklabels=class_names)\n",
        "plt.ylabel('Actual label')\n",
        "plt.xlabel('Predicted label')\n",
        "all_sample_title = f'KNN - Model Accuracy Score: {accuracy:.2%}'\n",
        "plt.title(all_sample_title, size = 15)\n",
        "\n",
        "print(classification_report(y_test, y_pred,labels = [0, 1], target_names=class_names))\n",
        "\n",
        "print(\"Best hyperparameters\", best_params)\n",
        "print(\"Accuracy: {:.2%}\".format(accuracy))\n",
        "print(\"Precision: {:.2%}\".format(precision))\n",
        "print(\"Recall: {:.2%}\".format(recall))\n",
        "print(\"F1-score:{:.2%}\".format(f1))\n"
      ],
      "metadata": {
        "colab": {
          "base_uri": "https://localhost:8080/",
          "height": 1000
        },
        "id": "jP3F5HPBU31X",
        "outputId": "1c7890a2-0e93-47cd-c2ea-ff4cf0fd15f4"
      },
      "execution_count": null,
      "outputs": [
        {
          "output_type": "stream",
          "name": "stdout",
          "text": [
            "Mean test score: 88.71% for hyperparameters: {'n_neighbors': 3, 'p': 1, 'weights': 'uniform'}\n",
            "Mean test score: 90.39% for hyperparameters: {'n_neighbors': 3, 'p': 1, 'weights': 'distance'}\n",
            "Mean test score: 88.47% for hyperparameters: {'n_neighbors': 3, 'p': 2, 'weights': 'uniform'}\n",
            "Mean test score: 90.87% for hyperparameters: {'n_neighbors': 3, 'p': 2, 'weights': 'distance'}\n",
            "Mean test score: 87.98% for hyperparameters: {'n_neighbors': 3, 'p': 3, 'weights': 'uniform'}\n",
            "Mean test score: 90.87% for hyperparameters: {'n_neighbors': 3, 'p': 3, 'weights': 'distance'}\n",
            "Mean test score: 87.98% for hyperparameters: {'n_neighbors': 3, 'p': 4, 'weights': 'uniform'}\n",
            "Mean test score: 90.87% for hyperparameters: {'n_neighbors': 3, 'p': 4, 'weights': 'distance'}\n",
            "Mean test score: 87.98% for hyperparameters: {'n_neighbors': 3, 'p': 5, 'weights': 'uniform'}\n",
            "Mean test score: 90.87% for hyperparameters: {'n_neighbors': 3, 'p': 5, 'weights': 'distance'}\n",
            "Mean test score: 85.35% for hyperparameters: {'n_neighbors': 5, 'p': 1, 'weights': 'uniform'}\n",
            "Mean test score: 88.70% for hyperparameters: {'n_neighbors': 5, 'p': 1, 'weights': 'distance'}\n",
            "Mean test score: 84.62% for hyperparameters: {'n_neighbors': 5, 'p': 2, 'weights': 'uniform'}\n",
            "Mean test score: 88.22% for hyperparameters: {'n_neighbors': 5, 'p': 2, 'weights': 'distance'}\n",
            "Mean test score: 84.14% for hyperparameters: {'n_neighbors': 5, 'p': 3, 'weights': 'uniform'}\n",
            "Mean test score: 87.74% for hyperparameters: {'n_neighbors': 5, 'p': 3, 'weights': 'distance'}\n",
            "Mean test score: 83.66% for hyperparameters: {'n_neighbors': 5, 'p': 4, 'weights': 'uniform'}\n",
            "Mean test score: 87.74% for hyperparameters: {'n_neighbors': 5, 'p': 4, 'weights': 'distance'}\n",
            "Mean test score: 83.66% for hyperparameters: {'n_neighbors': 5, 'p': 5, 'weights': 'uniform'}\n",
            "Mean test score: 87.50% for hyperparameters: {'n_neighbors': 5, 'p': 5, 'weights': 'distance'}\n",
            "Mean test score: 84.62% for hyperparameters: {'n_neighbors': 7, 'p': 1, 'weights': 'uniform'}\n",
            "Mean test score: 89.90% for hyperparameters: {'n_neighbors': 7, 'p': 1, 'weights': 'distance'}\n",
            "Mean test score: 82.93% for hyperparameters: {'n_neighbors': 7, 'p': 2, 'weights': 'uniform'}\n",
            "Mean test score: 89.42% for hyperparameters: {'n_neighbors': 7, 'p': 2, 'weights': 'distance'}\n",
            "Mean test score: 81.50% for hyperparameters: {'n_neighbors': 7, 'p': 3, 'weights': 'uniform'}\n",
            "Mean test score: 87.75% for hyperparameters: {'n_neighbors': 7, 'p': 3, 'weights': 'distance'}\n",
            "Mean test score: 82.22% for hyperparameters: {'n_neighbors': 7, 'p': 4, 'weights': 'uniform'}\n",
            "Mean test score: 87.75% for hyperparameters: {'n_neighbors': 7, 'p': 4, 'weights': 'distance'}\n",
            "Mean test score: 82.22% for hyperparameters: {'n_neighbors': 7, 'p': 5, 'weights': 'uniform'}\n",
            "Mean test score: 87.75% for hyperparameters: {'n_neighbors': 7, 'p': 5, 'weights': 'distance'}\n",
            "Mean test score: 85.34% for hyperparameters: {'n_neighbors': 9, 'p': 1, 'weights': 'uniform'}\n",
            "Mean test score: 90.63% for hyperparameters: {'n_neighbors': 9, 'p': 1, 'weights': 'distance'}\n",
            "Mean test score: 80.05% for hyperparameters: {'n_neighbors': 9, 'p': 2, 'weights': 'uniform'}\n",
            "Mean test score: 88.94% for hyperparameters: {'n_neighbors': 9, 'p': 2, 'weights': 'distance'}\n",
            "Mean test score: 78.61% for hyperparameters: {'n_neighbors': 9, 'p': 3, 'weights': 'uniform'}\n",
            "Mean test score: 88.70% for hyperparameters: {'n_neighbors': 9, 'p': 3, 'weights': 'distance'}\n",
            "Mean test score: 78.61% for hyperparameters: {'n_neighbors': 9, 'p': 4, 'weights': 'uniform'}\n",
            "Mean test score: 88.70% for hyperparameters: {'n_neighbors': 9, 'p': 4, 'weights': 'distance'}\n",
            "Mean test score: 78.61% for hyperparameters: {'n_neighbors': 9, 'p': 5, 'weights': 'uniform'}\n",
            "Mean test score: 88.70% for hyperparameters: {'n_neighbors': 9, 'p': 5, 'weights': 'distance'}\n",
            "Mean test score: 84.62% for hyperparameters: {'n_neighbors': 11, 'p': 1, 'weights': 'uniform'}\n",
            "Mean test score: 90.63% for hyperparameters: {'n_neighbors': 11, 'p': 1, 'weights': 'distance'}\n",
            "Mean test score: 78.13% for hyperparameters: {'n_neighbors': 11, 'p': 2, 'weights': 'uniform'}\n",
            "Mean test score: 88.47% for hyperparameters: {'n_neighbors': 11, 'p': 2, 'weights': 'distance'}\n",
            "Mean test score: 76.93% for hyperparameters: {'n_neighbors': 11, 'p': 3, 'weights': 'uniform'}\n",
            "Mean test score: 87.51% for hyperparameters: {'n_neighbors': 11, 'p': 3, 'weights': 'distance'}\n",
            "Mean test score: 76.93% for hyperparameters: {'n_neighbors': 11, 'p': 4, 'weights': 'uniform'}\n",
            "Mean test score: 87.51% for hyperparameters: {'n_neighbors': 11, 'p': 4, 'weights': 'distance'}\n",
            "Mean test score: 76.93% for hyperparameters: {'n_neighbors': 11, 'p': 5, 'weights': 'uniform'}\n",
            "Mean test score: 87.51% for hyperparameters: {'n_neighbors': 11, 'p': 5, 'weights': 'distance'}\n",
            "              precision    recall  f1-score   support\n",
            "\n",
            "    Positive       0.89      0.97      0.93        40\n",
            "    Negative       0.98      0.92      0.95        64\n",
            "\n",
            "    accuracy                           0.94       104\n",
            "   macro avg       0.93      0.95      0.94       104\n",
            "weighted avg       0.95      0.94      0.94       104\n",
            "\n",
            "Best hyperparameters {'n_neighbors': 3, 'p': 2, 'weights': 'distance'}\n",
            "Accuracy: 94.23%\n",
            "Precision: 98.33%\n",
            "Recall: 92.19%\n",
            "F1-score:95.16%\n"
          ]
        },
        {
          "output_type": "display_data",
          "data": {
            "text/plain": [
              "<Figure size 648x648 with 2 Axes>"
            ],
            "image/png": "[encoded data removed]"
          },
          "metadata": {
            "needs_background": "light"
          }
        }
      ]
    },
    {
      "cell_type": "code",
      "source": [
        "# Calculate the ROC AUC score\n",
        "roc_auc = roc_auc_score(y_test, y_pred)\n",
        "\n",
        "# Calculate the false positive rate and true positive rate for different thresholds\n",
        "fpr, tpr, thresholds = roc_curve(y_test, y_pred)\n",
        "\n",
        "# Plot the ROC curve\n",
        "plt.plot(fpr, tpr, label='ROC curve (AUC = {:.2f})'.format(roc_auc))\n",
        "plt.xlabel('False Positive Rate')\n",
        "plt.ylabel('True Positive Rate')\n",
        "plt.title('Receiver Operating Characteristic (ROC) curve')\n",
        "plt.legend(loc='best')\n",
        "plt.show()"
      ],
      "metadata": {
        "colab": {
          "base_uri": "https://localhost:8080/",
          "height": 295
        },
        "id": "cvXr3FoBkSZn",
        "outputId": "11fbc6a3-a94f-4407-963c-82ba472f679c"
      },
      "execution_count": null,
      "outputs": [
        {
          "output_type": "display_data",
          "data": {
            "text/plain": [
              "<Figure size 432x288 with 1 Axes>"
            ],
            "image/png": "[encoded data removed]"
          },
          "metadata": {
            "needs_background": "light"
          }
        }
      ]
    },
    {
      "cell_type": "code",
      "source": [
        "# Re run the best Hyperparameter model with reduced features\n",
        "\n",
        "clf = KNeighborsClassifier(**best_params)\n",
        "clf.fit(new_X_train, y_train)\n",
        "\n",
        "# Predict the target values for the testing data\n",
        "y_pred = clf.predict(new_X_test)\n",
        "\n",
        "# Compute the performance metrics\n",
        "accuracy = accuracy_score(y_test, y_pred)\n",
        "precision = precision_score(y_test, y_pred)\n",
        "recall = recall_score(y_test, y_pred)\n",
        "f1 = f1_score(y_test, y_pred)\n",
        "\n",
        "cm = confusion_matrix(y_test, y_pred)\n",
        "\n",
        "plt.figure(figsize=(9,9))\n",
        "sns.heatmap(cm, annot=True, fmt=\".3f\", linewidths=.5, square = True, cmap = 'Blues_r', yticklabels=class_names, xticklabels=class_names)\n",
        "plt.ylabel('Actual label')\n",
        "plt.xlabel('Predicted label')\n",
        "all_sample_title = f'KNN - Model Accuracy Score: {accuracy:.2%}'\n",
        "plt.title(all_sample_title, size = 15)\n",
        "\n",
        "print(classification_report(y_test, y_pred,labels = [0, 1], target_names=class_names))\n",
        "\n",
        "print(\"Accuracy: {:.2%}\".format(accuracy))\n",
        "print(\"Precision: {:.2%}\".format(precision))\n",
        "print(\"Recall: {:.2%}\".format(recall))\n",
        "print(\"F1-score:{:.2%}\".format(f1))"
      ],
      "metadata": {
        "colab": {
          "base_uri": "https://localhost:8080/",
          "height": 757
        },
        "id": "9FJgGWORNDvY",
        "outputId": "02509951-164c-48e2-8b45-c59ae19c2ccd"
      },
      "execution_count": null,
      "outputs": [
        {
          "output_type": "stream",
          "name": "stdout",
          "text": [
            "              precision    recall  f1-score   support\n",
            "\n",
            "    Positive       0.95      0.97      0.96        40\n",
            "    Negative       0.98      0.97      0.98        64\n",
            "\n",
            "    accuracy                           0.97       104\n",
            "   macro avg       0.97      0.97      0.97       104\n",
            "weighted avg       0.97      0.97      0.97       104\n",
            "\n",
            "Accuracy: 97.12%\n",
            "Precision: 98.41%\n",
            "Recall: 96.88%\n",
            "F1-score:97.64%\n"
          ]
        },
        {
          "output_type": "display_data",
          "data": {
            "text/plain": [
              "<Figure size 648x648 with 2 Axes>"
            ],
            "image/png": "[encoded data removed]"
          },
          "metadata": {
            "needs_background": "light"
          }
        }
      ]
    },
    {
      "cell_type": "code",
      "source": [
        "# Calculate the ROC AUC score\n",
        "roc_auc = roc_auc_score(y_test, y_pred)\n",
        "\n",
        "# Calculate the false positive rate and true positive rate for different thresholds\n",
        "fpr, tpr, thresholds = roc_curve(y_test, y_pred)\n",
        "\n",
        "# Plot the ROC curve\n",
        "plt.plot(fpr, tpr, label='ROC curve (AUC = {:.2f})'.format(roc_auc))\n",
        "plt.xlabel('False Positive Rate')\n",
        "plt.ylabel('True Positive Rate')\n",
        "plt.title('Receiver Operating Characteristic (ROC) curve')\n",
        "plt.legend(loc='best')\n",
        "plt.show()"
      ],
      "metadata": {
        "colab": {
          "base_uri": "https://localhost:8080/",
          "height": 295
        },
        "id": "lC7gHxgRkb7t",
        "outputId": "5829c890-b728-4489-c164-b49efff34d47"
      },
      "execution_count": null,
      "outputs": [
        {
          "output_type": "display_data",
          "data": {
            "text/plain": [
              "<Figure size 432x288 with 1 Axes>"
            ],
            "image/png": "[encoded data removed]"
          },
          "metadata": {
            "needs_background": "light"
          }
        }
      ]
    },
    {
      "cell_type": "markdown",
      "source": [
        "## Random Forest classifier Implementation\n",
        "\n",
        "Following parameters will be used to select optimal configuration for Random forest.\n",
        "\n",
        "**n_estimators:** This parameter defines the number of trees in the forest. A larger number of trees can result in a more accurate model, but also increases the computational time.\n",
        "\n",
        "**max_depth**: This parameter sets the maximum depth of each tree in the forest. A deeper tree can capture more complex relationships in the data, but also increases the risk of overfitting.\n",
        "\n",
        "**min_samples_split**: This parameter sets the minimum number of samples required to split an internal node in a tree. A higher value for this parameter results in more conservative trees, which can help to reduce overfitting.\n",
        "\n"
      ],
      "metadata": {
        "id": "oYROWm1DbO4c"
      }
    },
    {
      "cell_type": "code",
      "source": [
        "# Define the hyperparameters to be tuned\n",
        "param_grid = {'n_estimators': [100, 200, 300],\n",
        "              'max_depth': [3, 4, 5],\n",
        "              'min_samples_split': [2, 4, 6]}\n",
        "\n",
        "# Train a Random Forest classifier with GridSearchCV\n",
        "rfc = RandomForestClassifier()\n",
        "grid_search = GridSearchCV(rfc, param_grid, cv=5, scoring='accuracy')\n",
        "grid_search.fit(X_train, y_train)\n",
        "\n",
        "# Get the results of the GridSearchCV\n",
        "results = grid_search.cv_results_\n",
        "\n",
        "# Print the mean test scores for each hyperparameter combination\n",
        "for mean_test_score, params in zip(results['mean_test_score'], results['params']):\n",
        "    print(\"Mean test score: {:.2f}% for hyperparameters: {}\".format(mean_test_score * 100, params))\n",
        "\n",
        "\n",
        "# Print the best parameters and the best score\n",
        "print(\"Best parameters:\", grid_search.best_params_)\n",
        "print(\"Best score:\", grid_search.best_score_)\n",
        "\n",
        "# Get the best hyperparameters\n",
        "best_params = grid_search.best_params_\n",
        "\n",
        "# Predict the target values for the test data\n",
        "rfc = RandomForestClassifier(**best_params)\n",
        "rfc.fit(X_train, y_train)\n",
        "\n",
        "# Make predictions on the testing data\n",
        "y_pred = rfc.predict(X_test)\n",
        "\n",
        "# Calculate the accuracy of the model\n",
        "accuracy = accuracy_score(y_test, y_pred)\n",
        "precision = precision_score(y_test, y_pred)\n",
        "recall = recall_score(y_test, y_pred)\n",
        "f1 = f1_score(y_test, y_pred)\n",
        "\n",
        "cm = confusion_matrix(y_test, y_pred)\n",
        "\n",
        "plt.figure(figsize=(9,9))\n",
        "sns.heatmap(cm, annot=True, fmt=\".3f\", linewidths=.5, square = True, cmap = 'Blues_r', yticklabels=class_names, xticklabels=class_names)\n",
        "plt.ylabel('Actual label')\n",
        "plt.xlabel('Predicted label')\n",
        "all_sample_title = f'Random Forest classifier - Model Accuracy Score: {accuracy:.2%}'\n",
        "plt.title(all_sample_title, size = 15)\n",
        "\n",
        "print(classification_report(y_test, y_pred,labels = [0, 1], target_names=class_names))\n",
        "\n",
        "print(\"Best hyperparameters\", best_params)\n",
        "print(\"Accuracy: {:.2%}\".format(accuracy))\n",
        "print(\"Precision: {:.2%}\".format(precision))\n",
        "print(\"Recall: {:.2%}\".format(recall))\n",
        "print(\"F1-score:{:.2%}\".format(f1))"
      ],
      "metadata": {
        "colab": {
          "base_uri": "https://localhost:8080/",
          "height": 1000
        },
        "id": "1vD8vCI6j1qs",
        "outputId": "db40c489-cfa7-49da-cdba-30d10d238cb4"
      },
      "execution_count": null,
      "outputs": [
        {
          "output_type": "stream",
          "name": "stdout",
          "text": [
            "Mean test score: 89.91% for hyperparameters: {'max_depth': 3, 'min_samples_split': 2, 'n_estimators': 100}\n",
            "Mean test score: 90.39% for hyperparameters: {'max_depth': 3, 'min_samples_split': 2, 'n_estimators': 200}\n",
            "Mean test score: 89.19% for hyperparameters: {'max_depth': 3, 'min_samples_split': 2, 'n_estimators': 300}\n",
            "Mean test score: 89.91% for hyperparameters: {'max_depth': 3, 'min_samples_split': 4, 'n_estimators': 100}\n",
            "Mean test score: 88.95% for hyperparameters: {'max_depth': 3, 'min_samples_split': 4, 'n_estimators': 200}\n",
            "Mean test score: 89.67% for hyperparameters: {'max_depth': 3, 'min_samples_split': 4, 'n_estimators': 300}\n",
            "Mean test score: 89.91% for hyperparameters: {'max_depth': 3, 'min_samples_split': 6, 'n_estimators': 100}\n",
            "Mean test score: 89.91% for hyperparameters: {'max_depth': 3, 'min_samples_split': 6, 'n_estimators': 200}\n",
            "Mean test score: 89.43% for hyperparameters: {'max_depth': 3, 'min_samples_split': 6, 'n_estimators': 300}\n",
            "Mean test score: 92.80% for hyperparameters: {'max_depth': 4, 'min_samples_split': 2, 'n_estimators': 100}\n",
            "Mean test score: 92.80% for hyperparameters: {'max_depth': 4, 'min_samples_split': 2, 'n_estimators': 200}\n",
            "Mean test score: 92.31% for hyperparameters: {'max_depth': 4, 'min_samples_split': 2, 'n_estimators': 300}\n",
            "Mean test score: 92.07% for hyperparameters: {'max_depth': 4, 'min_samples_split': 4, 'n_estimators': 100}\n",
            "Mean test score: 91.83% for hyperparameters: {'max_depth': 4, 'min_samples_split': 4, 'n_estimators': 200}\n",
            "Mean test score: 92.32% for hyperparameters: {'max_depth': 4, 'min_samples_split': 4, 'n_estimators': 300}\n",
            "Mean test score: 92.07% for hyperparameters: {'max_depth': 4, 'min_samples_split': 6, 'n_estimators': 100}\n",
            "Mean test score: 91.59% for hyperparameters: {'max_depth': 4, 'min_samples_split': 6, 'n_estimators': 200}\n",
            "Mean test score: 92.32% for hyperparameters: {'max_depth': 4, 'min_samples_split': 6, 'n_estimators': 300}\n",
            "Mean test score: 94.96% for hyperparameters: {'max_depth': 5, 'min_samples_split': 2, 'n_estimators': 100}\n",
            "Mean test score: 94.48% for hyperparameters: {'max_depth': 5, 'min_samples_split': 2, 'n_estimators': 200}\n",
            "Mean test score: 93.51% for hyperparameters: {'max_depth': 5, 'min_samples_split': 2, 'n_estimators': 300}\n",
            "Mean test score: 94.00% for hyperparameters: {'max_depth': 5, 'min_samples_split': 4, 'n_estimators': 100}\n",
            "Mean test score: 94.48% for hyperparameters: {'max_depth': 5, 'min_samples_split': 4, 'n_estimators': 200}\n",
            "Mean test score: 93.76% for hyperparameters: {'max_depth': 5, 'min_samples_split': 4, 'n_estimators': 300}\n",
            "Mean test score: 93.03% for hyperparameters: {'max_depth': 5, 'min_samples_split': 6, 'n_estimators': 100}\n",
            "Mean test score: 92.79% for hyperparameters: {'max_depth': 5, 'min_samples_split': 6, 'n_estimators': 200}\n",
            "Mean test score: 93.76% for hyperparameters: {'max_depth': 5, 'min_samples_split': 6, 'n_estimators': 300}\n",
            "Best parameters: {'max_depth': 5, 'min_samples_split': 2, 'n_estimators': 100}\n",
            "Best score: 0.9495697074010326\n",
            "              precision    recall  f1-score   support\n",
            "\n",
            "    Positive       0.98      1.00      0.99        40\n",
            "    Negative       1.00      0.98      0.99        64\n",
            "\n",
            "    accuracy                           0.99       104\n",
            "   macro avg       0.99      0.99      0.99       104\n",
            "weighted avg       0.99      0.99      0.99       104\n",
            "\n",
            "Best hyperparameters {'max_depth': 5, 'min_samples_split': 2, 'n_estimators': 100}\n",
            "Accuracy: 99.04%\n",
            "Precision: 100.00%\n",
            "Recall: 98.44%\n",
            "F1-score:99.21%\n"
          ]
        },
        {
          "output_type": "display_data",
          "data": {
            "text/plain": [
              "<Figure size 648x648 with 2 Axes>"
            ],
            "image/png": "[encoded data removed]"
          },
          "metadata": {
            "needs_background": "light"
          }
        }
      ]
    },
    {
      "cell_type": "code",
      "source": [
        "# Calculate the ROC AUC score\n",
        "roc_auc = roc_auc_score(y_test, y_pred)\n",
        "\n",
        "# Calculate the false positive rate and true positive rate for different thresholds\n",
        "fpr, tpr, thresholds = roc_curve(y_test, y_pred)\n",
        "\n",
        "# Plot the ROC curve\n",
        "plt.plot(fpr, tpr, label='ROC curve (AUC = {:.2f})'.format(roc_auc))\n",
        "plt.xlabel('False Positive Rate')\n",
        "plt.ylabel('True Positive Rate')\n",
        "plt.title('Receiver Operating Characteristic (ROC) curve')\n",
        "plt.legend(loc='best')\n",
        "plt.show()"
      ],
      "metadata": {
        "colab": {
          "base_uri": "https://localhost:8080/",
          "height": 295
        },
        "id": "tJAiUkAVkqqr",
        "outputId": "72b715a7-4755-41a8-97be-ee3a611d5a18"
      },
      "execution_count": null,
      "outputs": [
        {
          "output_type": "display_data",
          "data": {
            "text/plain": [
              "<Figure size 432x288 with 1 Axes>"
            ],
            "image/png": "[encoded data removed]"
          },
          "metadata": {
            "needs_background": "light"
          }
        }
      ]
    },
    {
      "cell_type": "code",
      "source": [
        "# Re run the best Hyperparameter model with reduced features\n",
        "\n",
        "clf = RandomForestClassifier(**best_params)\n",
        "clf.fit(new_X_train, y_train)\n",
        "\n",
        "# Predict the target values for the testing data\n",
        "y_pred = clf.predict(new_X_test)\n",
        "\n",
        "# Compute the performance metrics\n",
        "accuracy = accuracy_score(y_test, y_pred)\n",
        "precision = precision_score(y_test, y_pred)\n",
        "recall = recall_score(y_test, y_pred)\n",
        "f1 = f1_score(y_test, y_pred)\n",
        "\n",
        "cm = confusion_matrix(y_test, y_pred)\n",
        "\n",
        "plt.figure(figsize=(9,9))\n",
        "sns.heatmap(cm, annot=True, fmt=\".3f\", linewidths=.5, square = True, cmap = 'Blues_r', yticklabels=class_names, xticklabels=class_names)\n",
        "plt.ylabel('Actual label')\n",
        "plt.xlabel('Predicted label')\n",
        "all_sample_title = f'KNN - Model Accuracy Score: {accuracy:.2%}'\n",
        "plt.title(all_sample_title, size = 15)\n",
        "\n",
        "print(classification_report(y_test, y_pred,labels = [0, 1], target_names=class_names))\n",
        "\n",
        "print(\"Accuracy: {:.2%}\".format(accuracy))\n",
        "print(\"Precision: {:.2%}\".format(precision))\n",
        "print(\"Recall: {:.2%}\".format(recall))\n",
        "print(\"F1-score:{:.2%}\".format(f1))"
      ],
      "metadata": {
        "colab": {
          "base_uri": "https://localhost:8080/",
          "height": 757
        },
        "id": "zkOzpBgFhFPc",
        "outputId": "7fb33711-c60b-4f1f-ddaf-e51802c1981f"
      },
      "execution_count": null,
      "outputs": [
        {
          "output_type": "stream",
          "name": "stdout",
          "text": [
            "              precision    recall  f1-score   support\n",
            "\n",
            "    Positive       0.93      0.97      0.95        40\n",
            "    Negative       0.98      0.95      0.97        64\n",
            "\n",
            "    accuracy                           0.96       104\n",
            "   macro avg       0.96      0.96      0.96       104\n",
            "weighted avg       0.96      0.96      0.96       104\n",
            "\n",
            "Accuracy: 96.15%\n",
            "Precision: 98.39%\n",
            "Recall: 95.31%\n",
            "F1-score:96.83%\n"
          ]
        },
        {
          "output_type": "display_data",
          "data": {
            "text/plain": [
              "<Figure size 648x648 with 2 Axes>"
            ],
            "image/png": "[encoded data removed]"
          },
          "metadata": {
            "needs_background": "light"
          }
        }
      ]
    },
    {
      "cell_type": "code",
      "source": [
        "# Calculate the ROC AUC score\n",
        "roc_auc = roc_auc_score(y_test, y_pred)\n",
        "\n",
        "# Calculate the false positive rate and true positive rate for different thresholds\n",
        "fpr, tpr, thresholds = roc_curve(y_test, y_pred)\n",
        "\n",
        "# Plot the ROC curve\n",
        "plt.plot(fpr, tpr, label='ROC curve (AUC = {:.2f})'.format(roc_auc))\n",
        "plt.xlabel('False Positive Rate')\n",
        "plt.ylabel('True Positive Rate')\n",
        "plt.title('Receiver Operating Characteristic (ROC) curve')\n",
        "plt.legend(loc='best')\n",
        "plt.show()"
      ],
      "metadata": {
        "colab": {
          "base_uri": "https://localhost:8080/",
          "height": 295
        },
        "id": "FBAxQrp2kxYf",
        "outputId": "dbf82d40-3938-4961-c655-5d61416fc805"
      },
      "execution_count": null,
      "outputs": [
        {
          "output_type": "display_data",
          "data": {
            "text/plain": [
              "<Figure size 432x288 with 1 Axes>"
            ],
            "image/png": "[encoded data removed]"
          },
          "metadata": {
            "needs_background": "light"
          }
        }
      ]
    }
  ]
}