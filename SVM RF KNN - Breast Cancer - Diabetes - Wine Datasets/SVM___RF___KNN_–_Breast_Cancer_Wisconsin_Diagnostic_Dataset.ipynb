{
  "nbformat": 4,
  "nbformat_minor": 0,
  "metadata": {
    "colab": {
      "provenance": []
    },
    "kernelspec": {
      "name": "python3",
      "display_name": "Python 3"
    },
    "language_info": {
      "name": "python"
    }
  },
  "cells": [
    {
      "cell_type": "markdown",
      "source": [
        "# **SVM | RF | KNN – Breast Cancer Wisconsin Diagnostic Dataset**\n",
        "\n"
      ],
      "metadata": {
        "id": "1I39CMJeaD8m"
      }
    },
    {
      "cell_type": "markdown",
      "source": [
        "## Breast Cancer Wisconsin (Diagnostic) Dataset\n",
        "\n",
        ""
      ],
      "metadata": {
        "id": "XPgU9MKXaR6x"
      }
    },
    {
      "cell_type": "code",
      "execution_count": null,
      "metadata": {
        "id": "spgCLKY6Z1NU"
      },
      "outputs": [],
      "source": [
        "import pandas as pd\n",
        "import numpy as np\n",
        "from sklearn.model_selection import train_test_split, GridSearchCV\n",
        "from sklearn.svm import SVC\n",
        "from sklearn.metrics import accuracy_score, precision_score, recall_score, f1_score, confusion_matrix, classification_report\n",
        "from sklearn.metrics import roc_auc_score, roc_curve\n",
        "import matplotlib.pyplot as plt\n",
        "import seaborn as sns\n",
        "from sklearn.feature_selection import SelectFromModel\n",
        "from sklearn.neighbors import KNeighborsClassifier\n",
        "from sklearn.ensemble import RandomForestClassifier\n",
        "from sklearn.preprocessing import StandardScaler"
      ]
    },
    {
      "cell_type": "markdown",
      "source": [
        "### Loading data from CSV"
      ],
      "metadata": {
        "id": "4ZzvcNqrhNty"
      }
    },
    {
      "cell_type": "code",
      "source": [
        "# Load dataset\n",
        "url = 'https://archive.ics.uci.edu/ml/machine-learning-databases/breast-cancer-wisconsin/wdbc.data'\n",
        "names = ['id', 'diagnosis', 'radius_mean', 'texture_mean', 'perimeter_mean', 'area_mean', 'smoothness_mean', 'compactness_mean', 'concavity_mean', 'concave_points_mean', 'symmetry_mean', 'fractal_dimension_mean', 'radius_se', 'texture_se', 'perimeter_se', 'area_se', 'smoothness_se', 'compactness_se', 'concavity_se', 'concave_points_se', 'symmetry_se', 'fractal_dimension_se', 'radius_worst', 'texture_worst', 'perimeter_worst', 'area_worst', 'smoothness_worst', 'compactness_worst', 'concavity_worst', 'concave_points_worst', 'symmetry_worst', 'fractal_dimension_worst']\n",
        "dataframe = pd.read_csv(url, names=names)"
      ],
      "metadata": {
        "id": "Qe3cx7Xx4nat"
      },
      "execution_count": null,
      "outputs": []
    },
    {
      "cell_type": "code",
      "source": [
        "dataframe.head()"
      ],
      "metadata": {
        "colab": {
          "base_uri": "https://localhost:8080/",
          "height": 299
        },
        "id": "rJTrpKSW4_EI",
        "outputId": "9f248c17-2de9-443d-ca87-d5c22bd0a71d"
      },
      "execution_count": null,
      "outputs": [
        {
          "output_type": "execute_result",
          "data": {
            "text/plain": [
              "         id diagnosis  radius_mean  texture_mean  perimeter_mean  area_mean  \\\n",
              "0    842302         M        17.99         10.38          122.80     1001.0   \n",
              "1    842517         M        20.57         17.77          132.90     1326.0   \n",
              "2  84300903         M        19.69         21.25          130.00     1203.0   \n",
              "3  84348301         M        11.42         20.38           77.58      386.1   \n",
              "4  84358402         M        20.29         14.34          135.10     1297.0   \n",
              "\n",
              "   smoothness_mean  compactness_mean  concavity_mean  concave_points_mean  \\\n",
              "0          0.11840           0.27760          0.3001              0.14710   \n",
              "1          0.08474           0.07864          0.0869              0.07017   \n",
              "2          0.10960           0.15990          0.1974              0.12790   \n",
              "3          0.14250           0.28390          0.2414              0.10520   \n",
              "4          0.10030           0.13280          0.1980              0.10430   \n",
              "\n",
              "   ...  radius_worst  texture_worst  perimeter_worst  area_worst  \\\n",
              "0  ...         25.38          17.33           184.60      2019.0   \n",
              "1  ...         24.99          23.41           158.80      1956.0   \n",
              "2  ...         23.57          25.53           152.50      1709.0   \n",
              "3  ...         14.91          26.50            98.87       567.7   \n",
              "4  ...         22.54          16.67           152.20      1575.0   \n",
              "\n",
              "   smoothness_worst  compactness_worst  concavity_worst  concave_points_worst  \\\n",
              "0            0.1622             0.6656           0.7119                0.2654   \n",
              "1            0.1238             0.1866           0.2416                0.1860   \n",
              "2            0.1444             0.4245           0.4504                0.2430   \n",
              "3            0.2098             0.8663           0.6869                0.2575   \n",
              "4            0.1374             0.2050           0.4000                0.1625   \n",
              "\n",
              "   symmetry_worst  fractal_dimension_worst  \n",
              "0          0.4601                  0.11890  \n",
              "1          0.2750                  0.08902  \n",
              "2          0.3613                  0.08758  \n",
              "3          0.6638                  0.17300  \n",
              "4          0.2364                  0.07678  \n",
              "\n",
              "[5 rows x 32 columns]"
            ],
            "text/html": [
              "\n",
              "  <div id=\"df-118dcc8b-6260-4fc1-8092-a8fcb799d7fb\">\n",
              "    <div class=\"colab-df-container\">\n",
              "      <div>\n",
              "<style scoped>\n",
              "    .dataframe tbody tr th:only-of-type {\n",
              "        vertical-align: middle;\n",
              "    }\n",
              "\n",
              "    .dataframe tbody tr th {\n",
              "        vertical-align: top;\n",
              "    }\n",
              "\n",
              "    .dataframe thead th {\n",
              "        text-align: right;\n",
              "    }\n",
              "</style>\n",
              "<table border=\"1\" class=\"dataframe\">\n",
              "  <thead>\n",
              "    <tr style=\"text-align: right;\">\n",
              "      <th></th>\n",
              "      <th>id</th>\n",
              "      <th>diagnosis</th>\n",
              "      <th>radius_mean</th>\n",
              "      <th>texture_mean</th>\n",
              "      <th>perimeter_mean</th>\n",
              "      <th>area_mean</th>\n",
              "      <th>smoothness_mean</th>\n",
              "      <th>compactness_mean</th>\n",
              "      <th>concavity_mean</th>\n",
              "      <th>concave_points_mean</th>\n",
              "      <th>...</th>\n",
              "      <th>radius_worst</th>\n",
              "      <th>texture_worst</th>\n",
              "      <th>perimeter_worst</th>\n",
              "      <th>area_worst</th>\n",
              "      <th>smoothness_worst</th>\n",
              "      <th>compactness_worst</th>\n",
              "      <th>concavity_worst</th>\n",
              "      <th>concave_points_worst</th>\n",
              "      <th>symmetry_worst</th>\n",
              "      <th>fractal_dimension_worst</th>\n",
              "    </tr>\n",
              "  </thead>\n",
              "  <tbody>\n",
              "    <tr>\n",
              "      <th>0</th>\n",
              "      <td>842302</td>\n",
              "      <td>M</td>\n",
              "      <td>17.99</td>\n",
              "      <td>10.38</td>\n",
              "      <td>122.80</td>\n",
              "      <td>1001.0</td>\n",
              "      <td>0.11840</td>\n",
              "      <td>0.27760</td>\n",
              "      <td>0.3001</td>\n",
              "      <td>0.14710</td>\n",
              "      <td>...</td>\n",
              "      <td>25.38</td>\n",
              "      <td>17.33</td>\n",
              "      <td>184.60</td>\n",
              "      <td>2019.0</td>\n",
              "      <td>0.1622</td>\n",
              "      <td>0.6656</td>\n",
              "      <td>0.7119</td>\n",
              "      <td>0.2654</td>\n",
              "      <td>0.4601</td>\n",
              "      <td>0.11890</td>\n",
              "    </tr>\n",
              "    <tr>\n",
              "      <th>1</th>\n",
              "      <td>842517</td>\n",
              "      <td>M</td>\n",
              "      <td>20.57</td>\n",
              "      <td>17.77</td>\n",
              "      <td>132.90</td>\n",
              "      <td>1326.0</td>\n",
              "      <td>0.08474</td>\n",
              "      <td>0.07864</td>\n",
              "      <td>0.0869</td>\n",
              "      <td>0.07017</td>\n",
              "      <td>...</td>\n",
              "      <td>24.99</td>\n",
              "      <td>23.41</td>\n",
              "      <td>158.80</td>\n",
              "      <td>1956.0</td>\n",
              "      <td>0.1238</td>\n",
              "      <td>0.1866</td>\n",
              "      <td>0.2416</td>\n",
              "      <td>0.1860</td>\n",
              "      <td>0.2750</td>\n",
              "      <td>0.08902</td>\n",
              "    </tr>\n",
              "    <tr>\n",
              "      <th>2</th>\n",
              "      <td>84300903</td>\n",
              "      <td>M</td>\n",
              "      <td>19.69</td>\n",
              "      <td>21.25</td>\n",
              "      <td>130.00</td>\n",
              "      <td>1203.0</td>\n",
              "      <td>0.10960</td>\n",
              "      <td>0.15990</td>\n",
              "      <td>0.1974</td>\n",
              "      <td>0.12790</td>\n",
              "      <td>...</td>\n",
              "      <td>23.57</td>\n",
              "      <td>25.53</td>\n",
              "      <td>152.50</td>\n",
              "      <td>1709.0</td>\n",
              "      <td>0.1444</td>\n",
              "      <td>0.4245</td>\n",
              "      <td>0.4504</td>\n",
              "      <td>0.2430</td>\n",
              "      <td>0.3613</td>\n",
              "      <td>0.08758</td>\n",
              "    </tr>\n",
              "    <tr>\n",
              "      <th>3</th>\n",
              "      <td>84348301</td>\n",
              "      <td>M</td>\n",
              "      <td>11.42</td>\n",
              "      <td>20.38</td>\n",
              "      <td>77.58</td>\n",
              "      <td>386.1</td>\n",
              "      <td>0.14250</td>\n",
              "      <td>0.28390</td>\n",
              "      <td>0.2414</td>\n",
              "      <td>0.10520</td>\n",
              "      <td>...</td>\n",
              "      <td>14.91</td>\n",
              "      <td>26.50</td>\n",
              "      <td>98.87</td>\n",
              "      <td>567.7</td>\n",
              "      <td>0.2098</td>\n",
              "      <td>0.8663</td>\n",
              "      <td>0.6869</td>\n",
              "      <td>0.2575</td>\n",
              "      <td>0.6638</td>\n",
              "      <td>0.17300</td>\n",
              "    </tr>\n",
              "    <tr>\n",
              "      <th>4</th>\n",
              "      <td>84358402</td>\n",
              "      <td>M</td>\n",
              "      <td>20.29</td>\n",
              "      <td>14.34</td>\n",
              "      <td>135.10</td>\n",
              "      <td>1297.0</td>\n",
              "      <td>0.10030</td>\n",
              "      <td>0.13280</td>\n",
              "      <td>0.1980</td>\n",
              "      <td>0.10430</td>\n",
              "      <td>...</td>\n",
              "      <td>22.54</td>\n",
              "      <td>16.67</td>\n",
              "      <td>152.20</td>\n",
              "      <td>1575.0</td>\n",
              "      <td>0.1374</td>\n",
              "      <td>0.2050</td>\n",
              "      <td>0.4000</td>\n",
              "      <td>0.1625</td>\n",
              "      <td>0.2364</td>\n",
              "      <td>0.07678</td>\n",
              "    </tr>\n",
              "  </tbody>\n",
              "</table>\n",
              "<p>5 rows × 32 columns</p>\n",
              "</div>\n",
              "      <button class=\"colab-df-convert\" onclick=\"convertToInteractive('df-118dcc8b-6260-4fc1-8092-a8fcb799d7fb')\"\n",
              "              title=\"Convert this dataframe to an interactive table.\"\n",
              "              style=\"display:none;\">\n",
              "        \n",
              "  <svg xmlns=\"http://www.w3.org/2000/svg\" height=\"24px\"viewBox=\"0 0 24 24\"\n",
              "       width=\"24px\">\n",
              "    <path d=\"M0 0h24v24H0V0z\" fill=\"none\"/>\n",
              "    <path d=\"M18.56 5.44l.94 2.06.94-2.06 2.06-.94-2.06-.94-.94-2.06-.94 2.06-2.06.94zm-11 1L8.5 8.5l.94-2.06 2.06-.94-2.06-.94L8.5 2.5l-.94 2.06-2.06.94zm10 10l.94 2.06.94-2.06 2.06-.94-2.06-.94-.94-2.06-.94 2.06-2.06.94z\"/><path d=\"M17.41 7.96l-1.37-1.37c-.4-.4-.92-.59-1.43-.59-.52 0-1.04.2-1.43.59L10.3 9.45l-7.72 7.72c-.78.78-.78 2.05 0 2.83L4 21.41c.39.39.9.59 1.41.59.51 0 1.02-.2 1.41-.59l7.78-7.78 2.81-2.81c.8-.78.8-2.07 0-2.86zM5.41 20L4 18.59l7.72-7.72 1.47 1.35L5.41 20z\"/>\n",
              "  </svg>\n",
              "      </button>\n",
              "      \n",
              "  <style>\n",
              "    .colab-df-container {\n",
              "      display:flex;\n",
              "      flex-wrap:wrap;\n",
              "      gap: 12px;\n",
              "    }\n",
              "\n",
              "    .colab-df-convert {\n",
              "      background-color: #E8F0FE;\n",
              "      border: none;\n",
              "      border-radius: 50%;\n",
              "      cursor: pointer;\n",
              "      display: none;\n",
              "      fill: #1967D2;\n",
              "      height: 32px;\n",
              "      padding: 0 0 0 0;\n",
              "      width: 32px;\n",
              "    }\n",
              "\n",
              "    .colab-df-convert:hover {\n",
              "      background-color: #E2EBFA;\n",
              "      box-shadow: 0px 1px 2px rgba(60, 64, 67, 0.3), 0px 1px 3px 1px rgba(60, 64, 67, 0.15);\n",
              "      fill: #174EA6;\n",
              "    }\n",
              "\n",
              "    [theme=dark] .colab-df-convert {\n",
              "      background-color: #3B4455;\n",
              "      fill: #D2E3FC;\n",
              "    }\n",
              "\n",
              "    [theme=dark] .colab-df-convert:hover {\n",
              "      background-color: #434B5C;\n",
              "      box-shadow: 0px 1px 3px 1px rgba(0, 0, 0, 0.15);\n",
              "      filter: drop-shadow(0px 1px 2px rgba(0, 0, 0, 0.3));\n",
              "      fill: #FFFFFF;\n",
              "    }\n",
              "  </style>\n",
              "\n",
              "      <script>\n",
              "        const buttonEl =\n",
              "          document.querySelector('#df-118dcc8b-6260-4fc1-8092-a8fcb799d7fb button.colab-df-convert');\n",
              "        buttonEl.style.display =\n",
              "          google.colab.kernel.accessAllowed ? 'block' : 'none';\n",
              "\n",
              "        async function convertToInteractive(key) {\n",
              "          const element = document.querySelector('#df-118dcc8b-6260-4fc1-8092-a8fcb799d7fb');\n",
              "          const dataTable =\n",
              "            await google.colab.kernel.invokeFunction('convertToInteractive',\n",
              "                                                     [key], {});\n",
              "          if (!dataTable) return;\n",
              "\n",
              "          const docLinkHtml = 'Like what you see? Visit the ' +\n",
              "            '<a target=\"_blank\" href=https://colab.research.google.com/notebooks/data_table.ipynb>data table notebook</a>'\n",
              "            + ' to learn more about interactive tables.';\n",
              "          element.innerHTML = '';\n",
              "          dataTable['output_type'] = 'display_data';\n",
              "          await google.colab.output.renderOutput(dataTable, element);\n",
              "          const docLink = document.createElement('div');\n",
              "          docLink.innerHTML = docLinkHtml;\n",
              "          element.appendChild(docLink);\n",
              "        }\n",
              "      </script>\n",
              "    </div>\n",
              "  </div>\n",
              "  "
            ]
          },
          "metadata": {},
          "execution_count": 3
        }
      ]
    },
    {
      "cell_type": "markdown",
      "source": [
        "### Pre-Processing"
      ],
      "metadata": {
        "id": "3P6oLw63iNCM"
      }
    },
    {
      "cell_type": "code",
      "source": [
        "# Handle missing values\n",
        "dataframe.isna().sum()\n"
      ],
      "metadata": {
        "colab": {
          "base_uri": "https://localhost:8080/"
        },
        "id": "bm4gMwZ2klHB",
        "outputId": "591699b6-ea68-4875-8dd7-86374c56f4ef"
      },
      "execution_count": null,
      "outputs": [
        {
          "output_type": "execute_result",
          "data": {
            "text/plain": [
              "id                         0\n",
              "diagnosis                  0\n",
              "radius_mean                0\n",
              "texture_mean               0\n",
              "perimeter_mean             0\n",
              "area_mean                  0\n",
              "smoothness_mean            0\n",
              "compactness_mean           0\n",
              "concavity_mean             0\n",
              "concave_points_mean        0\n",
              "symmetry_mean              0\n",
              "fractal_dimension_mean     0\n",
              "radius_se                  0\n",
              "texture_se                 0\n",
              "perimeter_se               0\n",
              "area_se                    0\n",
              "smoothness_se              0\n",
              "compactness_se             0\n",
              "concavity_se               0\n",
              "concave_points_se          0\n",
              "symmetry_se                0\n",
              "fractal_dimension_se       0\n",
              "radius_worst               0\n",
              "texture_worst              0\n",
              "perimeter_worst            0\n",
              "area_worst                 0\n",
              "smoothness_worst           0\n",
              "compactness_worst          0\n",
              "concavity_worst            0\n",
              "concave_points_worst       0\n",
              "symmetry_worst             0\n",
              "fractal_dimension_worst    0\n",
              "dtype: int64"
            ]
          },
          "metadata": {},
          "execution_count": 4
        }
      ]
    },
    {
      "cell_type": "markdown",
      "source": [
        "Dataset is clean. There is no missing values therefore, no further processing required to remove or imputate missing data"
      ],
      "metadata": {
        "id": "8gBmDN7xk5Ef"
      }
    },
    {
      "cell_type": "code",
      "source": [
        "#for column  in dataframe.iloc[:, 1:].columns:\n",
        "  #print(dataframe[column].unique())"
      ],
      "metadata": {
        "id": "N2y2O9lGqZU0"
      },
      "execution_count": null,
      "outputs": []
    },
    {
      "cell_type": "code",
      "source": [
        "# Handle data types\n",
        "dataframe.dtypes"
      ],
      "metadata": {
        "colab": {
          "base_uri": "https://localhost:8080/"
        },
        "id": "sZC4bXRihWMj",
        "outputId": "7628cc34-5748-4172-a06d-4e6d74c318c2"
      },
      "execution_count": null,
      "outputs": [
        {
          "output_type": "execute_result",
          "data": {
            "text/plain": [
              "id                           int64\n",
              "diagnosis                   object\n",
              "radius_mean                float64\n",
              "texture_mean               float64\n",
              "perimeter_mean             float64\n",
              "area_mean                  float64\n",
              "smoothness_mean            float64\n",
              "compactness_mean           float64\n",
              "concavity_mean             float64\n",
              "concave_points_mean        float64\n",
              "symmetry_mean              float64\n",
              "fractal_dimension_mean     float64\n",
              "radius_se                  float64\n",
              "texture_se                 float64\n",
              "perimeter_se               float64\n",
              "area_se                    float64\n",
              "smoothness_se              float64\n",
              "compactness_se             float64\n",
              "concavity_se               float64\n",
              "concave_points_se          float64\n",
              "symmetry_se                float64\n",
              "fractal_dimension_se       float64\n",
              "radius_worst               float64\n",
              "texture_worst              float64\n",
              "perimeter_worst            float64\n",
              "area_worst                 float64\n",
              "smoothness_worst           float64\n",
              "compactness_worst          float64\n",
              "concavity_worst            float64\n",
              "concave_points_worst       float64\n",
              "symmetry_worst             float64\n",
              "fractal_dimension_worst    float64\n",
              "dtype: object"
            ]
          },
          "metadata": {},
          "execution_count": 6
        }
      ]
    },
    {
      "cell_type": "code",
      "source": [
        "# Convert Boolean columns (e.g.: Yes/No) from Object type to Boolean\n",
        "\n",
        "dataframe['diagnosis'] = dataframe['diagnosis'].map({'M':1, 'B':0})\n",
        "dataframe = dataframe.drop('id', axis=1)\n",
        "dataframe.head()"
      ],
      "metadata": {
        "colab": {
          "base_uri": "https://localhost:8080/",
          "height": 299
        },
        "id": "rfh2a6pPjIsI",
        "outputId": "c0e4872d-d054-444d-dd1b-252864c2e5e5"
      },
      "execution_count": null,
      "outputs": [
        {
          "output_type": "execute_result",
          "data": {
            "text/plain": [
              "   diagnosis  radius_mean  texture_mean  perimeter_mean  area_mean  \\\n",
              "0          1        17.99         10.38          122.80     1001.0   \n",
              "1          1        20.57         17.77          132.90     1326.0   \n",
              "2          1        19.69         21.25          130.00     1203.0   \n",
              "3          1        11.42         20.38           77.58      386.1   \n",
              "4          1        20.29         14.34          135.10     1297.0   \n",
              "\n",
              "   smoothness_mean  compactness_mean  concavity_mean  concave_points_mean  \\\n",
              "0          0.11840           0.27760          0.3001              0.14710   \n",
              "1          0.08474           0.07864          0.0869              0.07017   \n",
              "2          0.10960           0.15990          0.1974              0.12790   \n",
              "3          0.14250           0.28390          0.2414              0.10520   \n",
              "4          0.10030           0.13280          0.1980              0.10430   \n",
              "\n",
              "   symmetry_mean  ...  radius_worst  texture_worst  perimeter_worst  \\\n",
              "0         0.2419  ...         25.38          17.33           184.60   \n",
              "1         0.1812  ...         24.99          23.41           158.80   \n",
              "2         0.2069  ...         23.57          25.53           152.50   \n",
              "3         0.2597  ...         14.91          26.50            98.87   \n",
              "4         0.1809  ...         22.54          16.67           152.20   \n",
              "\n",
              "   area_worst  smoothness_worst  compactness_worst  concavity_worst  \\\n",
              "0      2019.0            0.1622             0.6656           0.7119   \n",
              "1      1956.0            0.1238             0.1866           0.2416   \n",
              "2      1709.0            0.1444             0.4245           0.4504   \n",
              "3       567.7            0.2098             0.8663           0.6869   \n",
              "4      1575.0            0.1374             0.2050           0.4000   \n",
              "\n",
              "   concave_points_worst  symmetry_worst  fractal_dimension_worst  \n",
              "0                0.2654          0.4601                  0.11890  \n",
              "1                0.1860          0.2750                  0.08902  \n",
              "2                0.2430          0.3613                  0.08758  \n",
              "3                0.2575          0.6638                  0.17300  \n",
              "4                0.1625          0.2364                  0.07678  \n",
              "\n",
              "[5 rows x 31 columns]"
            ],
            "text/html": [
              "\n",
              "  <div id=\"df-d07ec3dc-d425-4f18-bc05-af6ea16056c4\">\n",
              "    <div class=\"colab-df-container\">\n",
              "      <div>\n",
              "<style scoped>\n",
              "    .dataframe tbody tr th:only-of-type {\n",
              "        vertical-align: middle;\n",
              "    }\n",
              "\n",
              "    .dataframe tbody tr th {\n",
              "        vertical-align: top;\n",
              "    }\n",
              "\n",
              "    .dataframe thead th {\n",
              "        text-align: right;\n",
              "    }\n",
              "</style>\n",
              "<table border=\"1\" class=\"dataframe\">\n",
              "  <thead>\n",
              "    <tr style=\"text-align: right;\">\n",
              "      <th></th>\n",
              "      <th>diagnosis</th>\n",
              "      <th>radius_mean</th>\n",
              "      <th>texture_mean</th>\n",
              "      <th>perimeter_mean</th>\n",
              "      <th>area_mean</th>\n",
              "      <th>smoothness_mean</th>\n",
              "      <th>compactness_mean</th>\n",
              "      <th>concavity_mean</th>\n",
              "      <th>concave_points_mean</th>\n",
              "      <th>symmetry_mean</th>\n",
              "      <th>...</th>\n",
              "      <th>radius_worst</th>\n",
              "      <th>texture_worst</th>\n",
              "      <th>perimeter_worst</th>\n",
              "      <th>area_worst</th>\n",
              "      <th>smoothness_worst</th>\n",
              "      <th>compactness_worst</th>\n",
              "      <th>concavity_worst</th>\n",
              "      <th>concave_points_worst</th>\n",
              "      <th>symmetry_worst</th>\n",
              "      <th>fractal_dimension_worst</th>\n",
              "    </tr>\n",
              "  </thead>\n",
              "  <tbody>\n",
              "    <tr>\n",
              "      <th>0</th>\n",
              "      <td>1</td>\n",
              "      <td>17.99</td>\n",
              "      <td>10.38</td>\n",
              "      <td>122.80</td>\n",
              "      <td>1001.0</td>\n",
              "      <td>0.11840</td>\n",
              "      <td>0.27760</td>\n",
              "      <td>0.3001</td>\n",
              "      <td>0.14710</td>\n",
              "      <td>0.2419</td>\n",
              "      <td>...</td>\n",
              "      <td>25.38</td>\n",
              "      <td>17.33</td>\n",
              "      <td>184.60</td>\n",
              "      <td>2019.0</td>\n",
              "      <td>0.1622</td>\n",
              "      <td>0.6656</td>\n",
              "      <td>0.7119</td>\n",
              "      <td>0.2654</td>\n",
              "      <td>0.4601</td>\n",
              "      <td>0.11890</td>\n",
              "    </tr>\n",
              "    <tr>\n",
              "      <th>1</th>\n",
              "      <td>1</td>\n",
              "      <td>20.57</td>\n",
              "      <td>17.77</td>\n",
              "      <td>132.90</td>\n",
              "      <td>1326.0</td>\n",
              "      <td>0.08474</td>\n",
              "      <td>0.07864</td>\n",
              "      <td>0.0869</td>\n",
              "      <td>0.07017</td>\n",
              "      <td>0.1812</td>\n",
              "      <td>...</td>\n",
              "      <td>24.99</td>\n",
              "      <td>23.41</td>\n",
              "      <td>158.80</td>\n",
              "      <td>1956.0</td>\n",
              "      <td>0.1238</td>\n",
              "      <td>0.1866</td>\n",
              "      <td>0.2416</td>\n",
              "      <td>0.1860</td>\n",
              "      <td>0.2750</td>\n",
              "      <td>0.08902</td>\n",
              "    </tr>\n",
              "    <tr>\n",
              "      <th>2</th>\n",
              "      <td>1</td>\n",
              "      <td>19.69</td>\n",
              "      <td>21.25</td>\n",
              "      <td>130.00</td>\n",
              "      <td>1203.0</td>\n",
              "      <td>0.10960</td>\n",
              "      <td>0.15990</td>\n",
              "      <td>0.1974</td>\n",
              "      <td>0.12790</td>\n",
              "      <td>0.2069</td>\n",
              "      <td>...</td>\n",
              "      <td>23.57</td>\n",
              "      <td>25.53</td>\n",
              "      <td>152.50</td>\n",
              "      <td>1709.0</td>\n",
              "      <td>0.1444</td>\n",
              "      <td>0.4245</td>\n",
              "      <td>0.4504</td>\n",
              "      <td>0.2430</td>\n",
              "      <td>0.3613</td>\n",
              "      <td>0.08758</td>\n",
              "    </tr>\n",
              "    <tr>\n",
              "      <th>3</th>\n",
              "      <td>1</td>\n",
              "      <td>11.42</td>\n",
              "      <td>20.38</td>\n",
              "      <td>77.58</td>\n",
              "      <td>386.1</td>\n",
              "      <td>0.14250</td>\n",
              "      <td>0.28390</td>\n",
              "      <td>0.2414</td>\n",
              "      <td>0.10520</td>\n",
              "      <td>0.2597</td>\n",
              "      <td>...</td>\n",
              "      <td>14.91</td>\n",
              "      <td>26.50</td>\n",
              "      <td>98.87</td>\n",
              "      <td>567.7</td>\n",
              "      <td>0.2098</td>\n",
              "      <td>0.8663</td>\n",
              "      <td>0.6869</td>\n",
              "      <td>0.2575</td>\n",
              "      <td>0.6638</td>\n",
              "      <td>0.17300</td>\n",
              "    </tr>\n",
              "    <tr>\n",
              "      <th>4</th>\n",
              "      <td>1</td>\n",
              "      <td>20.29</td>\n",
              "      <td>14.34</td>\n",
              "      <td>135.10</td>\n",
              "      <td>1297.0</td>\n",
              "      <td>0.10030</td>\n",
              "      <td>0.13280</td>\n",
              "      <td>0.1980</td>\n",
              "      <td>0.10430</td>\n",
              "      <td>0.1809</td>\n",
              "      <td>...</td>\n",
              "      <td>22.54</td>\n",
              "      <td>16.67</td>\n",
              "      <td>152.20</td>\n",
              "      <td>1575.0</td>\n",
              "      <td>0.1374</td>\n",
              "      <td>0.2050</td>\n",
              "      <td>0.4000</td>\n",
              "      <td>0.1625</td>\n",
              "      <td>0.2364</td>\n",
              "      <td>0.07678</td>\n",
              "    </tr>\n",
              "  </tbody>\n",
              "</table>\n",
              "<p>5 rows × 31 columns</p>\n",
              "</div>\n",
              "      <button class=\"colab-df-convert\" onclick=\"convertToInteractive('df-d07ec3dc-d425-4f18-bc05-af6ea16056c4')\"\n",
              "              title=\"Convert this dataframe to an interactive table.\"\n",
              "              style=\"display:none;\">\n",
              "        \n",
              "  <svg xmlns=\"http://www.w3.org/2000/svg\" height=\"24px\"viewBox=\"0 0 24 24\"\n",
              "       width=\"24px\">\n",
              "    <path d=\"M0 0h24v24H0V0z\" fill=\"none\"/>\n",
              "    <path d=\"M18.56 5.44l.94 2.06.94-2.06 2.06-.94-2.06-.94-.94-2.06-.94 2.06-2.06.94zm-11 1L8.5 8.5l.94-2.06 2.06-.94-2.06-.94L8.5 2.5l-.94 2.06-2.06.94zm10 10l.94 2.06.94-2.06 2.06-.94-2.06-.94-.94-2.06-.94 2.06-2.06.94z\"/><path d=\"M17.41 7.96l-1.37-1.37c-.4-.4-.92-.59-1.43-.59-.52 0-1.04.2-1.43.59L10.3 9.45l-7.72 7.72c-.78.78-.78 2.05 0 2.83L4 21.41c.39.39.9.59 1.41.59.51 0 1.02-.2 1.41-.59l7.78-7.78 2.81-2.81c.8-.78.8-2.07 0-2.86zM5.41 20L4 18.59l7.72-7.72 1.47 1.35L5.41 20z\"/>\n",
              "  </svg>\n",
              "      </button>\n",
              "      \n",
              "  <style>\n",
              "    .colab-df-container {\n",
              "      display:flex;\n",
              "      flex-wrap:wrap;\n",
              "      gap: 12px;\n",
              "    }\n",
              "\n",
              "    .colab-df-convert {\n",
              "      background-color: #E8F0FE;\n",
              "      border: none;\n",
              "      border-radius: 50%;\n",
              "      cursor: pointer;\n",
              "      display: none;\n",
              "      fill: #1967D2;\n",
              "      height: 32px;\n",
              "      padding: 0 0 0 0;\n",
              "      width: 32px;\n",
              "    }\n",
              "\n",
              "    .colab-df-convert:hover {\n",
              "      background-color: #E2EBFA;\n",
              "      box-shadow: 0px 1px 2px rgba(60, 64, 67, 0.3), 0px 1px 3px 1px rgba(60, 64, 67, 0.15);\n",
              "      fill: #174EA6;\n",
              "    }\n",
              "\n",
              "    [theme=dark] .colab-df-convert {\n",
              "      background-color: #3B4455;\n",
              "      fill: #D2E3FC;\n",
              "    }\n",
              "\n",
              "    [theme=dark] .colab-df-convert:hover {\n",
              "      background-color: #434B5C;\n",
              "      box-shadow: 0px 1px 3px 1px rgba(0, 0, 0, 0.15);\n",
              "      filter: drop-shadow(0px 1px 2px rgba(0, 0, 0, 0.3));\n",
              "      fill: #FFFFFF;\n",
              "    }\n",
              "  </style>\n",
              "\n",
              "      <script>\n",
              "        const buttonEl =\n",
              "          document.querySelector('#df-d07ec3dc-d425-4f18-bc05-af6ea16056c4 button.colab-df-convert');\n",
              "        buttonEl.style.display =\n",
              "          google.colab.kernel.accessAllowed ? 'block' : 'none';\n",
              "\n",
              "        async function convertToInteractive(key) {\n",
              "          const element = document.querySelector('#df-d07ec3dc-d425-4f18-bc05-af6ea16056c4');\n",
              "          const dataTable =\n",
              "            await google.colab.kernel.invokeFunction('convertToInteractive',\n",
              "                                                     [key], {});\n",
              "          if (!dataTable) return;\n",
              "\n",
              "          const docLinkHtml = 'Like what you see? Visit the ' +\n",
              "            '<a target=\"_blank\" href=https://colab.research.google.com/notebooks/data_table.ipynb>data table notebook</a>'\n",
              "            + ' to learn more about interactive tables.';\n",
              "          element.innerHTML = '';\n",
              "          dataTable['output_type'] = 'display_data';\n",
              "          await google.colab.output.renderOutput(dataTable, element);\n",
              "          const docLink = document.createElement('div');\n",
              "          docLink.innerHTML = docLinkHtml;\n",
              "          element.appendChild(docLink);\n",
              "        }\n",
              "      </script>\n",
              "    </div>\n",
              "  </div>\n",
              "  "
            ]
          },
          "metadata": {},
          "execution_count": 7
        }
      ]
    },
    {
      "cell_type": "code",
      "source": [
        "scaler = StandardScaler()\n",
        "df_scaled = scaler.fit_transform(dataframe.drop('diagnosis', axis=1))\n",
        "#dataframe = scaler.fit_transform(dataframe)"
      ],
      "metadata": {
        "id": "-YRDSIvtpMMF"
      },
      "execution_count": null,
      "outputs": []
    },
    {
      "cell_type": "markdown",
      "source": [
        "### Split Train and Test set\n"
      ],
      "metadata": {
        "id": "-uRy_M2l8VuJ"
      }
    },
    {
      "cell_type": "code",
      "source": [
        "# Split the data into features and target\n",
        "X = df_scaled\n",
        "y = dataframe['diagnosis']\n",
        "\n",
        "# Split the data into training and testing sets\n",
        "X_train, X_test, y_train, y_test = train_test_split(X, y, test_size=0.2, random_state=0)"
      ],
      "metadata": {
        "id": "gMulGPWN8bO1"
      },
      "execution_count": null,
      "outputs": []
    },
    {
      "cell_type": "markdown",
      "source": [
        "## Applying Support Vector Machine (SVM)\n",
        "\n",
        "First step is to determine best Kernel fuction for given dataset"
      ],
      "metadata": {
        "id": "45DaBlvF9FN1"
      }
    },
    {
      "cell_type": "code",
      "source": [
        "# List of kernel functions to try\n",
        "kernels = [\"linear\", \"poly\", \"rbf\", \"sigmoid\"]\n",
        "class_names = ['B','M']\n",
        "\n",
        "# Dictionary to store the performance of each SVM classifier\n",
        "performance = {}\n",
        "\n",
        "for kernel in kernels:\n",
        "    # Train an SVM classifier using the current kernel function\n",
        "    clf = SVC(kernel=kernel)\n",
        "    clf.fit(X_train, y_train)\n",
        "\n",
        "    # Predict the target values for the testing data\n",
        "    y_pred = clf.predict(X_test)\n",
        "\n",
        "    # Compute the performance metrics\n",
        "    accuracy = accuracy_score(y_test, y_pred)\n",
        "    precision = precision_score(y_test, y_pred)\n",
        "    recall = recall_score(y_test, y_pred)\n",
        "    f1 = f1_score(y_test, y_pred)\n",
        "\n",
        "    cm = confusion_matrix(y_test, y_pred)\n",
        "\n",
        "    plt.figure(figsize=(9,9))\n",
        "    sns.heatmap(cm, annot=True, fmt=\".3f\", linewidths=.5, square = True, cmap = 'Blues_r', yticklabels=class_names, xticklabels=class_names)\n",
        "    plt.ylabel('Actual label')\n",
        "    plt.xlabel('Predicted label')\n",
        "    all_sample_title = f'SVC - {kernel} Model Accuracy Score: {accuracy:.2%}'\n",
        "    plt.title(all_sample_title, size = 15)\n",
        "\n",
        "    print(classification_report(y_test, y_pred,labels = [0, 1], target_names=class_names))\n",
        "\n",
        "    # Store the performance metrics for the current SVM classifier\n",
        "    performance[kernel] = {\"accuracy\": accuracy, \"precision\": precision, \"recall\": recall, \"f1\": f1}\n",
        "\n",
        "# Find the kernel with the best performance\n",
        "best_kernel = max(performance, key=lambda x: performance[x][\"f1\"])\n",
        "\n",
        "# Print the best kernel and its performance metrics\n",
        "print(\"Best kernel: {}\".format(best_kernel))\n",
        "print(\"Accuracy: {:.2f}\".format(performance[best_kernel][\"accuracy\"]))\n",
        "print(\"Precision: {:.2f}\".format(performance[best_kernel][\"precision\"]))\n",
        "print(\"Recall: {:.2f}\".format(performance[best_kernel][\"recall\"]))\n",
        "print(\"F1-score:{:.2f}\".format(performance[best_kernel][\"f1\"]))\n",
        "\n",
        "\n",
        "\n"
      ],
      "metadata": {
        "colab": {
          "base_uri": "https://localhost:8080/",
          "height": 1000
        },
        "id": "8Yy1rFg29j2-",
        "outputId": "f0c4aa04-8857-43cb-ff26-e365e920ec1f"
      },
      "execution_count": null,
      "outputs": [
        {
          "output_type": "stream",
          "name": "stdout",
          "text": [
            "              precision    recall  f1-score   support\n",
            "\n",
            "           B       0.97      0.99      0.98        67\n",
            "           M       0.98      0.96      0.97        47\n",
            "\n",
            "    accuracy                           0.97       114\n",
            "   macro avg       0.97      0.97      0.97       114\n",
            "weighted avg       0.97      0.97      0.97       114\n",
            "\n",
            "              precision    recall  f1-score   support\n",
            "\n",
            "           B       0.86      1.00      0.92        67\n",
            "           M       1.00      0.77      0.87        47\n",
            "\n",
            "    accuracy                           0.90       114\n",
            "   macro avg       0.93      0.88      0.90       114\n",
            "weighted avg       0.92      0.90      0.90       114\n",
            "\n",
            "              precision    recall  f1-score   support\n",
            "\n",
            "           B       0.97      0.99      0.98        67\n",
            "           M       0.98      0.96      0.97        47\n",
            "\n",
            "    accuracy                           0.97       114\n",
            "   macro avg       0.97      0.97      0.97       114\n",
            "weighted avg       0.97      0.97      0.97       114\n",
            "\n",
            "              precision    recall  f1-score   support\n",
            "\n",
            "           B       0.95      0.93      0.94        67\n",
            "           M       0.90      0.94      0.92        47\n",
            "\n",
            "    accuracy                           0.93       114\n",
            "   macro avg       0.93      0.93      0.93       114\n",
            "weighted avg       0.93      0.93      0.93       114\n",
            "\n",
            "Best kernel: linear\n",
            "Accuracy: 0.97\n",
            "Precision: 0.98\n",
            "Recall: 0.96\n",
            "F1-score:0.97\n"
          ]
        },
        {
          "output_type": "display_data",
          "data": {
            "text/plain": [
              "<Figure size 648x648 with 2 Axes>"
            ],
            "image/png": "[encoded data removed]"
          },
          "metadata": {
            "needs_background": "light"
          }
        },
        {
          "output_type": "display_data",
          "data": {
            "text/plain": [
              "<Figure size 648x648 with 2 Axes>"
            ],
            "image/png": "[encoded data removed]"
          },
          "metadata": {
            "needs_background": "light"
          }
        },
        {
          "output_type": "display_data",
          "data": {
            "text/plain": [
              "<Figure size 648x648 with 2 Axes>"
            ],
            "image/png": "[encoded data removed]"
          },
          "metadata": {
            "needs_background": "light"
          }
        },
        {
          "output_type": "display_data",
          "data": {
            "text/plain": [
              "<Figure size 648x648 with 2 Axes>"
            ],
            "image/png": "[encoded data removed]"
          },
          "metadata": {
            "needs_background": "light"
          }
        }
      ]
    },
    {
      "cell_type": "code",
      "source": [
        "# Re-run the model with new feature set\n",
        "\n",
        "clf = SVC(kernel=\"rbf\")\n",
        "clf.fit(X_train, y_train)\n",
        "\n",
        "# Predict the target values for the testing data\n",
        "y_pred = clf.predict(X_test)\n",
        "\n",
        "# Compute the performance metrics\n",
        "accuracy = accuracy_score(y_test, y_pred)\n",
        "precision = precision_score(y_test, y_pred)\n",
        "recall = recall_score(y_test, y_pred)\n",
        "f1 = f1_score(y_test, y_pred)\n",
        "\n",
        "cm = confusion_matrix(y_test, y_pred)\n",
        "\n",
        "plt.figure(figsize=(9,9))\n",
        "sns.heatmap(cm, annot=True, fmt=\".3f\", linewidths=.5, square = True, cmap = 'Blues_r', yticklabels=class_names, xticklabels=class_names)\n",
        "plt.ylabel('Actual label')\n",
        "plt.xlabel('Predicted label')\n",
        "all_sample_title = f'SVC - rbf Model Accuracy Score: {accuracy:.2%}'\n",
        "plt.title(all_sample_title, size = 15)\n",
        "\n",
        "print(classification_report(y_test, y_pred,labels = [0, 1], target_names=class_names))\n",
        "\n",
        "print(\"Accuracy: {:.2%}\".format(accuracy))\n",
        "print(\"Precision: {:.2%}\".format(precision))\n",
        "print(\"Recall: {:.2%}\".format(recall))\n",
        "print(\"F1-score:{:.2%}\".format(f1))\n"
      ],
      "metadata": {
        "colab": {
          "base_uri": "https://localhost:8080/",
          "height": 757
        },
        "id": "qAUJxwXbO90d",
        "outputId": "f33d5b46-6ed2-4161-de05-ee861c6271aa"
      },
      "execution_count": null,
      "outputs": [
        {
          "output_type": "stream",
          "name": "stdout",
          "text": [
            "              precision    recall  f1-score   support\n",
            "\n",
            "           B       0.97      0.99      0.98        67\n",
            "           M       0.98      0.96      0.97        47\n",
            "\n",
            "    accuracy                           0.97       114\n",
            "   macro avg       0.97      0.97      0.97       114\n",
            "weighted avg       0.97      0.97      0.97       114\n",
            "\n",
            "Accuracy: 97.37%\n",
            "Precision: 97.83%\n",
            "Recall: 95.74%\n",
            "F1-score:96.77%\n"
          ]
        },
        {
          "output_type": "display_data",
          "data": {
            "text/plain": [
              "<Figure size 648x648 with 2 Axes>"
            ],
            "image/png": "[encoded data removed]"
          },
          "metadata": {
            "needs_background": "light"
          }
        }
      ]
    },
    {
      "cell_type": "code",
      "source": [
        "# Calculate the ROC AUC score\n",
        "roc_auc = roc_auc_score(y_test, y_pred)\n",
        "\n",
        "# Calculate the false positive rate and true positive rate for different thresholds\n",
        "fpr, tpr, thresholds = roc_curve(y_test, y_pred)\n",
        "\n",
        "# Plot the ROC curve\n",
        "plt.plot(fpr, tpr, label='ROC curve (AUC = {:.2f})'.format(roc_auc))\n",
        "plt.xlabel('False Positive Rate')\n",
        "plt.ylabel('True Positive Rate')\n",
        "plt.title('Receiver Operating Characteristic (ROC) curve')\n",
        "plt.legend(loc='best')\n",
        "plt.show()"
      ],
      "metadata": {
        "colab": {
          "base_uri": "https://localhost:8080/",
          "height": 295
        },
        "id": "t_lKw7PojzA_",
        "outputId": "f0cb087d-bc6c-450a-d6b5-72d58230c638"
      },
      "execution_count": null,
      "outputs": [
        {
          "output_type": "display_data",
          "data": {
            "text/plain": [
              "<Figure size 432x288 with 1 Axes>"
            ],
            "image/png": "[encoded data removed]"
          },
          "metadata": {
            "needs_background": "light"
          }
        }
      ]
    },
    {
      "cell_type": "markdown",
      "source": [
        "## K-Nearest Neighbor (KNN) Implementation\n",
        "\n",
        "we define a range of hyperparameters to search over, including the number of neighbors (n_neighbors), the weighting scheme (weights), and the value of p for the Minkowski distance metric (p). We use GridSearchCV to search over this range of hyperparameters and find the best hyperparameters that give the highest accuracy on the validation set."
      ],
      "metadata": {
        "id": "2a6IUM7lQuog"
      }
    },
    {
      "cell_type": "code",
      "source": [
        "# Define the range of hyperparameters to search over\n",
        "param_grid = {\n",
        "    'n_neighbors': [3, 5, 7, 9, 11],\n",
        "    'weights': ['uniform', 'distance'],\n",
        "    'p': [1, 2, 3, 4, 5]\n",
        "}\n",
        "\n",
        "# Train a KNeighborsClassifier with GridSearchCV\n",
        "knn = KNeighborsClassifier()\n",
        "grid_search = GridSearchCV(knn, param_grid, cv=5, scoring='accuracy')\n",
        "grid_search.fit(X_train, y_train)\n",
        "\n",
        "# Get the results of the GridSearchCV\n",
        "results = grid_search.cv_results_\n",
        "\n",
        "# Print the mean test scores for each hyperparameter combination\n",
        "for mean_test_score, params in zip(results['mean_test_score'], results['params']):\n",
        "    print(\"Mean test score: {:.2f}% for hyperparameters: {}\".format(mean_test_score * 100, params))\n",
        "\n",
        "# Get the best hyperparameters\n",
        "best_params = grid_search.best_params_\n",
        "\n",
        "# Train a KNeighborsClassifier using the best hyperparameters\n",
        "knn = KNeighborsClassifier(**best_params)\n",
        "knn.fit(X_train, y_train)\n",
        "\n",
        "# Make predictions on the testing data\n",
        "y_pred = knn.predict(X_test)\n",
        "\n",
        "# Calculate the accuracy of the model\n",
        "accuracy = accuracy_score(y_test, y_pred)\n",
        "precision = precision_score(y_test, y_pred)\n",
        "recall = recall_score(y_test, y_pred)\n",
        "f1 = f1_score(y_test, y_pred)\n",
        "\n",
        "cm = confusion_matrix(y_test, y_pred)\n",
        "\n",
        "plt.figure(figsize=(9,9))\n",
        "sns.heatmap(cm, annot=True, fmt=\".3f\", linewidths=.5, square = True, cmap = 'Blues_r', yticklabels=class_names, xticklabels=class_names)\n",
        "plt.ylabel('Actual label')\n",
        "plt.xlabel('Predicted label')\n",
        "all_sample_title = f'KNN - Model Accuracy Score: {accuracy:.2%}'\n",
        "plt.title(all_sample_title, size = 15)\n",
        "\n",
        "print(classification_report(y_test, y_pred,labels = [0, 1], target_names=class_names))\n",
        "\n",
        "print(\"Best hyperparameters\", best_params)\n",
        "print(\"Accuracy: {:.2%}\".format(accuracy))\n",
        "print(\"Precision: {:.2%}\".format(precision))\n",
        "print(\"Recall: {:.2%}\".format(recall))\n",
        "print(\"F1-score:{:.2%}\".format(f1))\n"
      ],
      "metadata": {
        "colab": {
          "base_uri": "https://localhost:8080/",
          "height": 1000
        },
        "id": "jP3F5HPBU31X",
        "outputId": "6faee50b-78d7-499e-9b4a-848c91c6717b"
      },
      "execution_count": null,
      "outputs": [
        {
          "output_type": "stream",
          "name": "stdout",
          "text": [
            "Mean test score: 96.92% for hyperparameters: {'n_neighbors': 3, 'p': 1, 'weights': 'uniform'}\n",
            "Mean test score: 96.92% for hyperparameters: {'n_neighbors': 3, 'p': 1, 'weights': 'distance'}\n",
            "Mean test score: 96.04% for hyperparameters: {'n_neighbors': 3, 'p': 2, 'weights': 'uniform'}\n",
            "Mean test score: 96.04% for hyperparameters: {'n_neighbors': 3, 'p': 2, 'weights': 'distance'}\n",
            "Mean test score: 95.82% for hyperparameters: {'n_neighbors': 3, 'p': 3, 'weights': 'uniform'}\n",
            "Mean test score: 95.82% for hyperparameters: {'n_neighbors': 3, 'p': 3, 'weights': 'distance'}\n",
            "Mean test score: 95.38% for hyperparameters: {'n_neighbors': 3, 'p': 4, 'weights': 'uniform'}\n",
            "Mean test score: 95.38% for hyperparameters: {'n_neighbors': 3, 'p': 4, 'weights': 'distance'}\n",
            "Mean test score: 95.38% for hyperparameters: {'n_neighbors': 3, 'p': 5, 'weights': 'uniform'}\n",
            "Mean test score: 95.38% for hyperparameters: {'n_neighbors': 3, 'p': 5, 'weights': 'distance'}\n",
            "Mean test score: 96.92% for hyperparameters: {'n_neighbors': 5, 'p': 1, 'weights': 'uniform'}\n",
            "Mean test score: 96.92% for hyperparameters: {'n_neighbors': 5, 'p': 1, 'weights': 'distance'}\n",
            "Mean test score: 96.70% for hyperparameters: {'n_neighbors': 5, 'p': 2, 'weights': 'uniform'}\n",
            "Mean test score: 96.70% for hyperparameters: {'n_neighbors': 5, 'p': 2, 'weights': 'distance'}\n",
            "Mean test score: 96.26% for hyperparameters: {'n_neighbors': 5, 'p': 3, 'weights': 'uniform'}\n",
            "Mean test score: 96.26% for hyperparameters: {'n_neighbors': 5, 'p': 3, 'weights': 'distance'}\n",
            "Mean test score: 96.04% for hyperparameters: {'n_neighbors': 5, 'p': 4, 'weights': 'uniform'}\n",
            "Mean test score: 96.04% for hyperparameters: {'n_neighbors': 5, 'p': 4, 'weights': 'distance'}\n",
            "Mean test score: 95.38% for hyperparameters: {'n_neighbors': 5, 'p': 5, 'weights': 'uniform'}\n",
            "Mean test score: 95.38% for hyperparameters: {'n_neighbors': 5, 'p': 5, 'weights': 'distance'}\n",
            "Mean test score: 96.48% for hyperparameters: {'n_neighbors': 7, 'p': 1, 'weights': 'uniform'}\n",
            "Mean test score: 96.48% for hyperparameters: {'n_neighbors': 7, 'p': 1, 'weights': 'distance'}\n",
            "Mean test score: 96.04% for hyperparameters: {'n_neighbors': 7, 'p': 2, 'weights': 'uniform'}\n",
            "Mean test score: 96.04% for hyperparameters: {'n_neighbors': 7, 'p': 2, 'weights': 'distance'}\n",
            "Mean test score: 95.38% for hyperparameters: {'n_neighbors': 7, 'p': 3, 'weights': 'uniform'}\n",
            "Mean test score: 95.38% for hyperparameters: {'n_neighbors': 7, 'p': 3, 'weights': 'distance'}\n",
            "Mean test score: 95.16% for hyperparameters: {'n_neighbors': 7, 'p': 4, 'weights': 'uniform'}\n",
            "Mean test score: 95.16% for hyperparameters: {'n_neighbors': 7, 'p': 4, 'weights': 'distance'}\n",
            "Mean test score: 94.95% for hyperparameters: {'n_neighbors': 7, 'p': 5, 'weights': 'uniform'}\n",
            "Mean test score: 94.95% for hyperparameters: {'n_neighbors': 7, 'p': 5, 'weights': 'distance'}\n",
            "Mean test score: 96.48% for hyperparameters: {'n_neighbors': 9, 'p': 1, 'weights': 'uniform'}\n",
            "Mean test score: 96.48% for hyperparameters: {'n_neighbors': 9, 'p': 1, 'weights': 'distance'}\n",
            "Mean test score: 96.48% for hyperparameters: {'n_neighbors': 9, 'p': 2, 'weights': 'uniform'}\n",
            "Mean test score: 96.70% for hyperparameters: {'n_neighbors': 9, 'p': 2, 'weights': 'distance'}\n",
            "Mean test score: 95.60% for hyperparameters: {'n_neighbors': 9, 'p': 3, 'weights': 'uniform'}\n",
            "Mean test score: 96.04% for hyperparameters: {'n_neighbors': 9, 'p': 3, 'weights': 'distance'}\n",
            "Mean test score: 95.16% for hyperparameters: {'n_neighbors': 9, 'p': 4, 'weights': 'uniform'}\n",
            "Mean test score: 95.38% for hyperparameters: {'n_neighbors': 9, 'p': 4, 'weights': 'distance'}\n",
            "Mean test score: 94.29% for hyperparameters: {'n_neighbors': 9, 'p': 5, 'weights': 'uniform'}\n",
            "Mean test score: 94.51% for hyperparameters: {'n_neighbors': 9, 'p': 5, 'weights': 'distance'}\n",
            "Mean test score: 97.14% for hyperparameters: {'n_neighbors': 11, 'p': 1, 'weights': 'uniform'}\n",
            "Mean test score: 97.14% for hyperparameters: {'n_neighbors': 11, 'p': 1, 'weights': 'distance'}\n",
            "Mean test score: 95.82% for hyperparameters: {'n_neighbors': 11, 'p': 2, 'weights': 'uniform'}\n",
            "Mean test score: 95.82% for hyperparameters: {'n_neighbors': 11, 'p': 2, 'weights': 'distance'}\n",
            "Mean test score: 95.82% for hyperparameters: {'n_neighbors': 11, 'p': 3, 'weights': 'uniform'}\n",
            "Mean test score: 96.04% for hyperparameters: {'n_neighbors': 11, 'p': 3, 'weights': 'distance'}\n",
            "Mean test score: 95.82% for hyperparameters: {'n_neighbors': 11, 'p': 4, 'weights': 'uniform'}\n",
            "Mean test score: 96.04% for hyperparameters: {'n_neighbors': 11, 'p': 4, 'weights': 'distance'}\n",
            "Mean test score: 94.73% for hyperparameters: {'n_neighbors': 11, 'p': 5, 'weights': 'uniform'}\n",
            "Mean test score: 95.16% for hyperparameters: {'n_neighbors': 11, 'p': 5, 'weights': 'distance'}\n",
            "              precision    recall  f1-score   support\n",
            "\n",
            "           B       0.94      0.97      0.96        67\n",
            "           M       0.96      0.91      0.93        47\n",
            "\n",
            "    accuracy                           0.95       114\n",
            "   macro avg       0.95      0.94      0.95       114\n",
            "weighted avg       0.95      0.95      0.95       114\n",
            "\n",
            "Best hyperparameters {'n_neighbors': 11, 'p': 1, 'weights': 'uniform'}\n",
            "Accuracy: 94.74%\n",
            "Precision: 95.56%\n",
            "Recall: 91.49%\n",
            "F1-score:93.48%\n"
          ]
        },
        {
          "output_type": "display_data",
          "data": {
            "text/plain": [
              "<Figure size 648x648 with 2 Axes>"
            ],
            "image/png": "[encoded data removed]"
          },
          "metadata": {
            "needs_background": "light"
          }
        }
      ]
    },
    {
      "cell_type": "code",
      "source": [
        "# Calculate the ROC AUC score\n",
        "roc_auc = roc_auc_score(y_test, y_pred)\n",
        "\n",
        "# Calculate the false positive rate and true positive rate for different thresholds\n",
        "fpr, tpr, thresholds = roc_curve(y_test, y_pred)\n",
        "\n",
        "# Plot the ROC curve\n",
        "plt.plot(fpr, tpr, label='ROC curve (AUC = {:.2f})'.format(roc_auc))\n",
        "plt.xlabel('False Positive Rate')\n",
        "plt.ylabel('True Positive Rate')\n",
        "plt.title('Receiver Operating Characteristic (ROC) curve')\n",
        "plt.legend(loc='best')\n",
        "plt.show()"
      ],
      "metadata": {
        "colab": {
          "base_uri": "https://localhost:8080/",
          "height": 295
        },
        "id": "cvXr3FoBkSZn",
        "outputId": "869137d8-b8b2-4da2-a4d9-180ba4292ac1"
      },
      "execution_count": null,
      "outputs": [
        {
          "output_type": "display_data",
          "data": {
            "text/plain": [
              "<Figure size 432x288 with 1 Axes>"
            ],
            "image/png": "[encoded data removed]"
          },
          "metadata": {
            "needs_background": "light"
          }
        }
      ]
    },
    {
      "cell_type": "markdown",
      "source": [
        "## Random Forest classifier Implementation\n",
        "\n",
        "Following parameters will be used to select optimal configuration for Random forest.\n",
        "\n",
        "**n_estimators:** This parameter defines the number of trees in the forest. A larger number of trees can result in a more accurate model, but also increases the computational time.\n",
        "\n",
        "**max_depth**: This parameter sets the maximum depth of each tree in the forest. A deeper tree can capture more complex relationships in the data, but also increases the risk of overfitting.\n",
        "\n",
        "**min_samples_split**: This parameter sets the minimum number of samples required to split an internal node in a tree. A higher value for this parameter results in more conservative trees, which can help to reduce overfitting.\n",
        "\n"
      ],
      "metadata": {
        "id": "oYROWm1DbO4c"
      }
    },
    {
      "cell_type": "code",
      "source": [
        "# Define the hyperparameters to be tuned\n",
        "param_grid = {'n_estimators': [100, 200, 300],\n",
        "              'max_depth': [3, 4, 5],\n",
        "              'min_samples_split': [2, 4, 6]}\n",
        "\n",
        "# Train a Random Forest classifier with GridSearchCV\n",
        "rfc = RandomForestClassifier()\n",
        "grid_search = GridSearchCV(rfc, param_grid, cv=5, scoring='accuracy')\n",
        "grid_search.fit(X_train, y_train)\n",
        "\n",
        "# Get the results of the GridSearchCV\n",
        "results = grid_search.cv_results_\n",
        "\n",
        "# Print the mean test scores for each hyperparameter combination\n",
        "for mean_test_score, params in zip(results['mean_test_score'], results['params']):\n",
        "    print(\"Mean test score: {:.2f}% for hyperparameters: {}\".format(mean_test_score * 100, params))\n",
        "\n",
        "\n",
        "# Print the best parameters and the best score\n",
        "print(\"Best parameters:\", grid_search.best_params_)\n",
        "print(\"Best score:\", grid_search.best_score_)\n",
        "\n",
        "# Get the best hyperparameters\n",
        "best_params = grid_search.best_params_\n",
        "\n",
        "# Predict the target values for the test data\n",
        "rfc = RandomForestClassifier(**best_params)\n",
        "rfc.fit(X_train, y_train)\n",
        "\n",
        "# Make predictions on the testing data\n",
        "y_pred = rfc.predict(X_test)\n",
        "\n",
        "# Calculate the accuracy of the model\n",
        "accuracy = accuracy_score(y_test, y_pred)\n",
        "precision = precision_score(y_test, y_pred)\n",
        "recall = recall_score(y_test, y_pred)\n",
        "f1 = f1_score(y_test, y_pred)\n",
        "\n",
        "cm = confusion_matrix(y_test, y_pred)\n",
        "\n",
        "plt.figure(figsize=(9,9))\n",
        "sns.heatmap(cm, annot=True, fmt=\".3f\", linewidths=.5, square = True, cmap = 'Blues_r', yticklabels=class_names, xticklabels=class_names)\n",
        "plt.ylabel('Actual label')\n",
        "plt.xlabel('Predicted label')\n",
        "all_sample_title = f'Random Forest classifier - Model Accuracy Score: {accuracy:.2%}'\n",
        "plt.title(all_sample_title, size = 15)\n",
        "\n",
        "print(classification_report(y_test, y_pred,labels = [0, 1], target_names=class_names))\n",
        "\n",
        "print(\"Best hyperparameters\", best_params)\n",
        "print(\"Accuracy: {:.2%}\".format(accuracy))\n",
        "print(\"Precision: {:.2%}\".format(precision))\n",
        "print(\"Recall: {:.2%}\".format(recall))\n",
        "print(\"F1-score:{:.2%}\".format(f1))"
      ],
      "metadata": {
        "colab": {
          "base_uri": "https://localhost:8080/",
          "height": 1000
        },
        "id": "1vD8vCI6j1qs",
        "outputId": "c9ca047a-2562-4350-df0c-c59346784838"
      },
      "execution_count": null,
      "outputs": [
        {
          "output_type": "stream",
          "name": "stdout",
          "text": [
            "Mean test score: 95.60% for hyperparameters: {'max_depth': 3, 'min_samples_split': 2, 'n_estimators': 100}\n",
            "Mean test score: 94.73% for hyperparameters: {'max_depth': 3, 'min_samples_split': 2, 'n_estimators': 200}\n",
            "Mean test score: 94.95% for hyperparameters: {'max_depth': 3, 'min_samples_split': 2, 'n_estimators': 300}\n",
            "Mean test score: 94.51% for hyperparameters: {'max_depth': 3, 'min_samples_split': 4, 'n_estimators': 100}\n",
            "Mean test score: 94.73% for hyperparameters: {'max_depth': 3, 'min_samples_split': 4, 'n_estimators': 200}\n",
            "Mean test score: 94.95% for hyperparameters: {'max_depth': 3, 'min_samples_split': 4, 'n_estimators': 300}\n",
            "Mean test score: 95.38% for hyperparameters: {'max_depth': 3, 'min_samples_split': 6, 'n_estimators': 100}\n",
            "Mean test score: 94.95% for hyperparameters: {'max_depth': 3, 'min_samples_split': 6, 'n_estimators': 200}\n",
            "Mean test score: 94.95% for hyperparameters: {'max_depth': 3, 'min_samples_split': 6, 'n_estimators': 300}\n",
            "Mean test score: 94.51% for hyperparameters: {'max_depth': 4, 'min_samples_split': 2, 'n_estimators': 100}\n",
            "Mean test score: 94.95% for hyperparameters: {'max_depth': 4, 'min_samples_split': 2, 'n_estimators': 200}\n",
            "Mean test score: 94.95% for hyperparameters: {'max_depth': 4, 'min_samples_split': 2, 'n_estimators': 300}\n",
            "Mean test score: 95.60% for hyperparameters: {'max_depth': 4, 'min_samples_split': 4, 'n_estimators': 100}\n",
            "Mean test score: 95.60% for hyperparameters: {'max_depth': 4, 'min_samples_split': 4, 'n_estimators': 200}\n",
            "Mean test score: 95.38% for hyperparameters: {'max_depth': 4, 'min_samples_split': 4, 'n_estimators': 300}\n",
            "Mean test score: 94.95% for hyperparameters: {'max_depth': 4, 'min_samples_split': 6, 'n_estimators': 100}\n",
            "Mean test score: 94.73% for hyperparameters: {'max_depth': 4, 'min_samples_split': 6, 'n_estimators': 200}\n",
            "Mean test score: 94.95% for hyperparameters: {'max_depth': 4, 'min_samples_split': 6, 'n_estimators': 300}\n",
            "Mean test score: 94.95% for hyperparameters: {'max_depth': 5, 'min_samples_split': 2, 'n_estimators': 100}\n",
            "Mean test score: 95.16% for hyperparameters: {'max_depth': 5, 'min_samples_split': 2, 'n_estimators': 200}\n",
            "Mean test score: 94.95% for hyperparameters: {'max_depth': 5, 'min_samples_split': 2, 'n_estimators': 300}\n",
            "Mean test score: 94.95% for hyperparameters: {'max_depth': 5, 'min_samples_split': 4, 'n_estimators': 100}\n",
            "Mean test score: 95.38% for hyperparameters: {'max_depth': 5, 'min_samples_split': 4, 'n_estimators': 200}\n",
            "Mean test score: 95.16% for hyperparameters: {'max_depth': 5, 'min_samples_split': 4, 'n_estimators': 300}\n",
            "Mean test score: 94.51% for hyperparameters: {'max_depth': 5, 'min_samples_split': 6, 'n_estimators': 100}\n",
            "Mean test score: 94.51% for hyperparameters: {'max_depth': 5, 'min_samples_split': 6, 'n_estimators': 200}\n",
            "Mean test score: 94.73% for hyperparameters: {'max_depth': 5, 'min_samples_split': 6, 'n_estimators': 300}\n",
            "Best parameters: {'max_depth': 3, 'min_samples_split': 2, 'n_estimators': 100}\n",
            "Best score: 0.956043956043956\n",
            "              precision    recall  f1-score   support\n",
            "\n",
            "           B       0.97      0.97      0.97        67\n",
            "           M       0.96      0.96      0.96        47\n",
            "\n",
            "    accuracy                           0.96       114\n",
            "   macro avg       0.96      0.96      0.96       114\n",
            "weighted avg       0.96      0.96      0.96       114\n",
            "\n",
            "Best hyperparameters {'max_depth': 3, 'min_samples_split': 2, 'n_estimators': 100}\n",
            "Accuracy: 96.49%\n",
            "Precision: 95.74%\n",
            "Recall: 95.74%\n",
            "F1-score:95.74%\n"
          ]
        },
        {
          "output_type": "display_data",
          "data": {
            "text/plain": [
              "<Figure size 648x648 with 2 Axes>"
            ],
            "image/png": "[encoded data removed]"
          },
          "metadata": {
            "needs_background": "light"
          }
        }
      ]
    },
    {
      "cell_type": "code",
      "source": [
        "# Calculate the ROC AUC score\n",
        "roc_auc = roc_auc_score(y_test, y_pred)\n",
        "\n",
        "# Calculate the false positive rate and true positive rate for different thresholds\n",
        "fpr, tpr, thresholds = roc_curve(y_test, y_pred)\n",
        "\n",
        "# Plot the ROC curve\n",
        "plt.plot(fpr, tpr, label='ROC curve (AUC = {:.2f})'.format(roc_auc))\n",
        "plt.xlabel('False Positive Rate')\n",
        "plt.ylabel('True Positive Rate')\n",
        "plt.title('Receiver Operating Characteristic (ROC) curve')\n",
        "plt.legend(loc='best')\n",
        "plt.show()"
      ],
      "metadata": {
        "colab": {
          "base_uri": "https://localhost:8080/",
          "height": 295
        },
        "id": "tJAiUkAVkqqr",
        "outputId": "f0423525-eb62-49d2-a526-74d3079b3c41"
      },
      "execution_count": null,
      "outputs": [
        {
          "output_type": "display_data",
          "data": {
            "text/plain": [
              "<Figure size 432x288 with 1 Axes>"
            ],
            "image/png": "[encoded data removed]"
          },
          "metadata": {
            "needs_background": "light"
          }
        }
      ]
    }
  ]
}