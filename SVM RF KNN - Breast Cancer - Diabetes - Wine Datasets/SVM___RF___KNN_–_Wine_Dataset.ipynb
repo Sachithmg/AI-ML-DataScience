{
  "nbformat": 4,
  "nbformat_minor": 0,
  "metadata": {
    "colab": {
      "provenance": []
    },
    "kernelspec": {
      "name": "python3",
      "display_name": "Python 3"
    },
    "language_info": {
      "name": "python"
    }
  },
  "cells": [
    {
      "cell_type": "markdown",
      "source": [
        "# **SVM | RF | KNN – Wine Dataset**\n"
      ],
      "metadata": {
        "id": "1I39CMJeaD8m"
      }
    },
    {
      "cell_type": "markdown",
      "source": [
        "## Wine Dataset\n",
        "\n",
        ""
      ],
      "metadata": {
        "id": "XPgU9MKXaR6x"
      }
    },
    {
      "cell_type": "code",
      "execution_count": null,
      "metadata": {
        "id": "spgCLKY6Z1NU"
      },
      "outputs": [],
      "source": [
        "import pandas as pd\n",
        "import numpy as np\n",
        "from sklearn.model_selection import train_test_split, GridSearchCV\n",
        "from sklearn.svm import SVC\n",
        "from sklearn.metrics import accuracy_score, precision_score, recall_score, f1_score, confusion_matrix, classification_report\n",
        "from sklearn.metrics import roc_auc_score, roc_curve\n",
        "import matplotlib.pyplot as plt\n",
        "import seaborn as sns\n",
        "from sklearn.feature_selection import SelectFromModel\n",
        "from sklearn.neighbors import KNeighborsClassifier\n",
        "from sklearn.ensemble import RandomForestClassifier\n",
        "from sklearn.preprocessing import LabelEncoder, StandardScaler"
      ]
    },
    {
      "cell_type": "markdown",
      "source": [
        "### Loading data from CSV"
      ],
      "metadata": {
        "id": "4ZzvcNqrhNty"
      }
    },
    {
      "cell_type": "code",
      "source": [
        "# Load dataset\n",
        "url = 'https://archive.ics.uci.edu/ml/machine-learning-databases/wine/wine.data'\n",
        "names = ['class', 'alcohol', 'malic_acid', 'ash', 'alcalinity_of_ash', 'magnesium', 'total_phenols', 'flavanoids', 'nonflavanoid_phenols', 'proanthocyanins', 'color_intensity', 'hue', 'od280/od315_of_diluted_wines', 'proline']\n",
        "dataframe = pd.read_csv(url, names=names, index_col=False)"
      ],
      "metadata": {
        "id": "Qe3cx7Xx4nat"
      },
      "execution_count": null,
      "outputs": []
    },
    {
      "cell_type": "code",
      "source": [
        "dataframe.head()"
      ],
      "metadata": {
        "colab": {
          "base_uri": "https://localhost:8080/",
          "height": 206
        },
        "id": "rJTrpKSW4_EI",
        "outputId": "f82d3841-fa6b-45bd-e84b-aca61d4d417c"
      },
      "execution_count": null,
      "outputs": [
        {
          "output_type": "execute_result",
          "data": {
            "text/plain": [
              "   class  alcohol  malic_acid   ash  alcalinity_of_ash  magnesium  \\\n",
              "0      1    14.23        1.71  2.43               15.6        127   \n",
              "1      1    13.20        1.78  2.14               11.2        100   \n",
              "2      1    13.16        2.36  2.67               18.6        101   \n",
              "3      1    14.37        1.95  2.50               16.8        113   \n",
              "4      1    13.24        2.59  2.87               21.0        118   \n",
              "\n",
              "   total_phenols  flavanoids  nonflavanoid_phenols  proanthocyanins  \\\n",
              "0           2.80        3.06                  0.28             2.29   \n",
              "1           2.65        2.76                  0.26             1.28   \n",
              "2           2.80        3.24                  0.30             2.81   \n",
              "3           3.85        3.49                  0.24             2.18   \n",
              "4           2.80        2.69                  0.39             1.82   \n",
              "\n",
              "   color_intensity   hue  od280/od315_of_diluted_wines  proline  \n",
              "0             5.64  1.04                          3.92     1065  \n",
              "1             4.38  1.05                          3.40     1050  \n",
              "2             5.68  1.03                          3.17     1185  \n",
              "3             7.80  0.86                          3.45     1480  \n",
              "4             4.32  1.04                          2.93      735  "
            ],
            "text/html": [
              "\n",
              "  <div id=\"df-49bee6d7-04df-4dfa-8071-c6e8f4e1b99d\">\n",
              "    <div class=\"colab-df-container\">\n",
              "      <div>\n",
              "<style scoped>\n",
              "    .dataframe tbody tr th:only-of-type {\n",
              "        vertical-align: middle;\n",
              "    }\n",
              "\n",
              "    .dataframe tbody tr th {\n",
              "        vertical-align: top;\n",
              "    }\n",
              "\n",
              "    .dataframe thead th {\n",
              "        text-align: right;\n",
              "    }\n",
              "</style>\n",
              "<table border=\"1\" class=\"dataframe\">\n",
              "  <thead>\n",
              "    <tr style=\"text-align: right;\">\n",
              "      <th></th>\n",
              "      <th>class</th>\n",
              "      <th>alcohol</th>\n",
              "      <th>malic_acid</th>\n",
              "      <th>ash</th>\n",
              "      <th>alcalinity_of_ash</th>\n",
              "      <th>magnesium</th>\n",
              "      <th>total_phenols</th>\n",
              "      <th>flavanoids</th>\n",
              "      <th>nonflavanoid_phenols</th>\n",
              "      <th>proanthocyanins</th>\n",
              "      <th>color_intensity</th>\n",
              "      <th>hue</th>\n",
              "      <th>od280/od315_of_diluted_wines</th>\n",
              "      <th>proline</th>\n",
              "    </tr>\n",
              "  </thead>\n",
              "  <tbody>\n",
              "    <tr>\n",
              "      <th>0</th>\n",
              "      <td>1</td>\n",
              "      <td>14.23</td>\n",
              "      <td>1.71</td>\n",
              "      <td>2.43</td>\n",
              "      <td>15.6</td>\n",
              "      <td>127</td>\n",
              "      <td>2.80</td>\n",
              "      <td>3.06</td>\n",
              "      <td>0.28</td>\n",
              "      <td>2.29</td>\n",
              "      <td>5.64</td>\n",
              "      <td>1.04</td>\n",
              "      <td>3.92</td>\n",
              "      <td>1065</td>\n",
              "    </tr>\n",
              "    <tr>\n",
              "      <th>1</th>\n",
              "      <td>1</td>\n",
              "      <td>13.20</td>\n",
              "      <td>1.78</td>\n",
              "      <td>2.14</td>\n",
              "      <td>11.2</td>\n",
              "      <td>100</td>\n",
              "      <td>2.65</td>\n",
              "      <td>2.76</td>\n",
              "      <td>0.26</td>\n",
              "      <td>1.28</td>\n",
              "      <td>4.38</td>\n",
              "      <td>1.05</td>\n",
              "      <td>3.40</td>\n",
              "      <td>1050</td>\n",
              "    </tr>\n",
              "    <tr>\n",
              "      <th>2</th>\n",
              "      <td>1</td>\n",
              "      <td>13.16</td>\n",
              "      <td>2.36</td>\n",
              "      <td>2.67</td>\n",
              "      <td>18.6</td>\n",
              "      <td>101</td>\n",
              "      <td>2.80</td>\n",
              "      <td>3.24</td>\n",
              "      <td>0.30</td>\n",
              "      <td>2.81</td>\n",
              "      <td>5.68</td>\n",
              "      <td>1.03</td>\n",
              "      <td>3.17</td>\n",
              "      <td>1185</td>\n",
              "    </tr>\n",
              "    <tr>\n",
              "      <th>3</th>\n",
              "      <td>1</td>\n",
              "      <td>14.37</td>\n",
              "      <td>1.95</td>\n",
              "      <td>2.50</td>\n",
              "      <td>16.8</td>\n",
              "      <td>113</td>\n",
              "      <td>3.85</td>\n",
              "      <td>3.49</td>\n",
              "      <td>0.24</td>\n",
              "      <td>2.18</td>\n",
              "      <td>7.80</td>\n",
              "      <td>0.86</td>\n",
              "      <td>3.45</td>\n",
              "      <td>1480</td>\n",
              "    </tr>\n",
              "    <tr>\n",
              "      <th>4</th>\n",
              "      <td>1</td>\n",
              "      <td>13.24</td>\n",
              "      <td>2.59</td>\n",
              "      <td>2.87</td>\n",
              "      <td>21.0</td>\n",
              "      <td>118</td>\n",
              "      <td>2.80</td>\n",
              "      <td>2.69</td>\n",
              "      <td>0.39</td>\n",
              "      <td>1.82</td>\n",
              "      <td>4.32</td>\n",
              "      <td>1.04</td>\n",
              "      <td>2.93</td>\n",
              "      <td>735</td>\n",
              "    </tr>\n",
              "  </tbody>\n",
              "</table>\n",
              "</div>\n",
              "      <button class=\"colab-df-convert\" onclick=\"convertToInteractive('df-49bee6d7-04df-4dfa-8071-c6e8f4e1b99d')\"\n",
              "              title=\"Convert this dataframe to an interactive table.\"\n",
              "              style=\"display:none;\">\n",
              "        \n",
              "  <svg xmlns=\"http://www.w3.org/2000/svg\" height=\"24px\"viewBox=\"0 0 24 24\"\n",
              "       width=\"24px\">\n",
              "    <path d=\"M0 0h24v24H0V0z\" fill=\"none\"/>\n",
              "    <path d=\"M18.56 5.44l.94 2.06.94-2.06 2.06-.94-2.06-.94-.94-2.06-.94 2.06-2.06.94zm-11 1L8.5 8.5l.94-2.06 2.06-.94-2.06-.94L8.5 2.5l-.94 2.06-2.06.94zm10 10l.94 2.06.94-2.06 2.06-.94-2.06-.94-.94-2.06-.94 2.06-2.06.94z\"/><path d=\"M17.41 7.96l-1.37-1.37c-.4-.4-.92-.59-1.43-.59-.52 0-1.04.2-1.43.59L10.3 9.45l-7.72 7.72c-.78.78-.78 2.05 0 2.83L4 21.41c.39.39.9.59 1.41.59.51 0 1.02-.2 1.41-.59l7.78-7.78 2.81-2.81c.8-.78.8-2.07 0-2.86zM5.41 20L4 18.59l7.72-7.72 1.47 1.35L5.41 20z\"/>\n",
              "  </svg>\n",
              "      </button>\n",
              "      \n",
              "  <style>\n",
              "    .colab-df-container {\n",
              "      display:flex;\n",
              "      flex-wrap:wrap;\n",
              "      gap: 12px;\n",
              "    }\n",
              "\n",
              "    .colab-df-convert {\n",
              "      background-color: #E8F0FE;\n",
              "      border: none;\n",
              "      border-radius: 50%;\n",
              "      cursor: pointer;\n",
              "      display: none;\n",
              "      fill: #1967D2;\n",
              "      height: 32px;\n",
              "      padding: 0 0 0 0;\n",
              "      width: 32px;\n",
              "    }\n",
              "\n",
              "    .colab-df-convert:hover {\n",
              "      background-color: #E2EBFA;\n",
              "      box-shadow: 0px 1px 2px rgba(60, 64, 67, 0.3), 0px 1px 3px 1px rgba(60, 64, 67, 0.15);\n",
              "      fill: #174EA6;\n",
              "    }\n",
              "\n",
              "    [theme=dark] .colab-df-convert {\n",
              "      background-color: #3B4455;\n",
              "      fill: #D2E3FC;\n",
              "    }\n",
              "\n",
              "    [theme=dark] .colab-df-convert:hover {\n",
              "      background-color: #434B5C;\n",
              "      box-shadow: 0px 1px 3px 1px rgba(0, 0, 0, 0.15);\n",
              "      filter: drop-shadow(0px 1px 2px rgba(0, 0, 0, 0.3));\n",
              "      fill: #FFFFFF;\n",
              "    }\n",
              "  </style>\n",
              "\n",
              "      <script>\n",
              "        const buttonEl =\n",
              "          document.querySelector('#df-49bee6d7-04df-4dfa-8071-c6e8f4e1b99d button.colab-df-convert');\n",
              "        buttonEl.style.display =\n",
              "          google.colab.kernel.accessAllowed ? 'block' : 'none';\n",
              "\n",
              "        async function convertToInteractive(key) {\n",
              "          const element = document.querySelector('#df-49bee6d7-04df-4dfa-8071-c6e8f4e1b99d');\n",
              "          const dataTable =\n",
              "            await google.colab.kernel.invokeFunction('convertToInteractive',\n",
              "                                                     [key], {});\n",
              "          if (!dataTable) return;\n",
              "\n",
              "          const docLinkHtml = 'Like what you see? Visit the ' +\n",
              "            '<a target=\"_blank\" href=https://colab.research.google.com/notebooks/data_table.ipynb>data table notebook</a>'\n",
              "            + ' to learn more about interactive tables.';\n",
              "          element.innerHTML = '';\n",
              "          dataTable['output_type'] = 'display_data';\n",
              "          await google.colab.output.renderOutput(dataTable, element);\n",
              "          const docLink = document.createElement('div');\n",
              "          docLink.innerHTML = docLinkHtml;\n",
              "          element.appendChild(docLink);\n",
              "        }\n",
              "      </script>\n",
              "    </div>\n",
              "  </div>\n",
              "  "
            ]
          },
          "metadata": {},
          "execution_count": 3
        }
      ]
    },
    {
      "cell_type": "markdown",
      "source": [
        "### Pre-Processing"
      ],
      "metadata": {
        "id": "3P6oLw63iNCM"
      }
    },
    {
      "cell_type": "code",
      "source": [
        "# Handle missing values\n",
        "dataframe.isna().sum()\n"
      ],
      "metadata": {
        "colab": {
          "base_uri": "https://localhost:8080/"
        },
        "id": "bm4gMwZ2klHB",
        "outputId": "bdc16a42-a2c7-46be-f287-92af90422fd1"
      },
      "execution_count": null,
      "outputs": [
        {
          "output_type": "execute_result",
          "data": {
            "text/plain": [
              "class                           0\n",
              "alcohol                         0\n",
              "malic_acid                      0\n",
              "ash                             0\n",
              "alcalinity_of_ash               0\n",
              "magnesium                       0\n",
              "total_phenols                   0\n",
              "flavanoids                      0\n",
              "nonflavanoid_phenols            0\n",
              "proanthocyanins                 0\n",
              "color_intensity                 0\n",
              "hue                             0\n",
              "od280/od315_of_diluted_wines    0\n",
              "proline                         0\n",
              "dtype: int64"
            ]
          },
          "metadata": {},
          "execution_count": 4
        }
      ]
    },
    {
      "cell_type": "markdown",
      "source": [
        "Dataset is clean. There is no missing values therefore, no further processing required to remove or imputate missing data"
      ],
      "metadata": {
        "id": "8gBmDN7xk5Ef"
      }
    },
    {
      "cell_type": "code",
      "source": [
        "print(dataframe['class'].unique())"
      ],
      "metadata": {
        "colab": {
          "base_uri": "https://localhost:8080/"
        },
        "id": "N2y2O9lGqZU0",
        "outputId": "cceb97f0-b86c-4251-fa33-cef4ff8ab6c1"
      },
      "execution_count": null,
      "outputs": [
        {
          "output_type": "stream",
          "name": "stdout",
          "text": [
            "[1 2 3]\n"
          ]
        }
      ]
    },
    {
      "cell_type": "code",
      "source": [
        "# Handle data types\n",
        "dataframe.dtypes"
      ],
      "metadata": {
        "colab": {
          "base_uri": "https://localhost:8080/"
        },
        "id": "sZC4bXRihWMj",
        "outputId": "4998172f-fdfc-46a2-fe5c-a3848558ffad"
      },
      "execution_count": null,
      "outputs": [
        {
          "output_type": "execute_result",
          "data": {
            "text/plain": [
              "class                             int64\n",
              "alcohol                         float64\n",
              "malic_acid                      float64\n",
              "ash                             float64\n",
              "alcalinity_of_ash               float64\n",
              "magnesium                         int64\n",
              "total_phenols                   float64\n",
              "flavanoids                      float64\n",
              "nonflavanoid_phenols            float64\n",
              "proanthocyanins                 float64\n",
              "color_intensity                 float64\n",
              "hue                             float64\n",
              "od280/od315_of_diluted_wines    float64\n",
              "proline                           int64\n",
              "dtype: object"
            ]
          },
          "metadata": {},
          "execution_count": 6
        }
      ]
    },
    {
      "cell_type": "code",
      "source": [
        "# Convert class column to categorical type\n",
        "dataframe[\"class\"] = dataframe[\"class\"].astype(\"category\")\n",
        "\n",
        "print(dataframe['class'].unique())\n",
        "\n",
        "# use the LabelEncoder to convert categorical variables into numerical values\n",
        "encoder = LabelEncoder()\n",
        "dataframe[\"class\"] = encoder.fit_transform(dataframe[\"class\"])"
      ],
      "metadata": {
        "colab": {
          "base_uri": "https://localhost:8080/"
        },
        "id": "rfh2a6pPjIsI",
        "outputId": "e4c27713-76c1-41c4-8c52-7d52067f1cce"
      },
      "execution_count": null,
      "outputs": [
        {
          "output_type": "stream",
          "name": "stdout",
          "text": [
            "[1, 2, 3]\n",
            "Categories (3, int64): [1, 2, 3]\n"
          ]
        }
      ]
    },
    {
      "cell_type": "code",
      "source": [
        "dataframe.dtypes"
      ],
      "metadata": {
        "colab": {
          "base_uri": "https://localhost:8080/"
        },
        "id": "-YRDSIvtpMMF",
        "outputId": "2fc09e52-af9d-4626-e856-f1c0a9d0c313"
      },
      "execution_count": null,
      "outputs": [
        {
          "output_type": "execute_result",
          "data": {
            "text/plain": [
              "class                             int64\n",
              "alcohol                         float64\n",
              "malic_acid                      float64\n",
              "ash                             float64\n",
              "alcalinity_of_ash               float64\n",
              "magnesium                         int64\n",
              "total_phenols                   float64\n",
              "flavanoids                      float64\n",
              "nonflavanoid_phenols            float64\n",
              "proanthocyanins                 float64\n",
              "color_intensity                 float64\n",
              "hue                             float64\n",
              "od280/od315_of_diluted_wines    float64\n",
              "proline                           int64\n",
              "dtype: object"
            ]
          },
          "metadata": {},
          "execution_count": 8
        }
      ]
    },
    {
      "cell_type": "code",
      "source": [
        "# perform feature scaling\n",
        "scaler = StandardScaler()\n",
        "dataframe[dataframe.columns[1:]] = scaler.fit_transform(dataframe[dataframe.columns[1:]])\n"
      ],
      "metadata": {
        "id": "NENz1lJqoOSB"
      },
      "execution_count": null,
      "outputs": []
    },
    {
      "cell_type": "code",
      "source": [
        "dataframe.head()"
      ],
      "metadata": {
        "colab": {
          "base_uri": "https://localhost:8080/",
          "height": 250
        },
        "id": "gsSCpE-Dow0k",
        "outputId": "86623724-581e-4b72-fee5-fd480763fd5d"
      },
      "execution_count": null,
      "outputs": [
        {
          "output_type": "execute_result",
          "data": {
            "text/plain": [
              "   class   alcohol  malic_acid       ash  alcalinity_of_ash  magnesium  \\\n",
              "0      0  1.518613   -0.562250  0.232053          -1.169593   1.913905   \n",
              "1      0  0.246290   -0.499413 -0.827996          -2.490847   0.018145   \n",
              "2      0  0.196879    0.021231  1.109334          -0.268738   0.088358   \n",
              "3      0  1.691550   -0.346811  0.487926          -0.809251   0.930918   \n",
              "4      0  0.295700    0.227694  1.840403           0.451946   1.281985   \n",
              "\n",
              "   total_phenols  flavanoids  nonflavanoid_phenols  proanthocyanins  \\\n",
              "0       0.808997    1.034819             -0.659563         1.224884   \n",
              "1       0.568648    0.733629             -0.820719        -0.544721   \n",
              "2       0.808997    1.215533             -0.498407         2.135968   \n",
              "3       2.491446    1.466525             -0.981875         1.032155   \n",
              "4       0.808997    0.663351              0.226796         0.401404   \n",
              "\n",
              "   color_intensity       hue  od280/od315_of_diluted_wines   proline  \n",
              "0         0.251717  0.362177                      1.847920  1.013009  \n",
              "1        -0.293321  0.406051                      1.113449  0.965242  \n",
              "2         0.269020  0.318304                      0.788587  1.395148  \n",
              "3         1.186068 -0.427544                      1.184071  2.334574  \n",
              "4        -0.319276  0.362177                      0.449601 -0.037874  "
            ],
            "text/html": [
              "\n",
              "  <div id=\"df-ff50b351-833a-4be4-a3ac-18e4bbe60bf3\">\n",
              "    <div class=\"colab-df-container\">\n",
              "      <div>\n",
              "<style scoped>\n",
              "    .dataframe tbody tr th:only-of-type {\n",
              "        vertical-align: middle;\n",
              "    }\n",
              "\n",
              "    .dataframe tbody tr th {\n",
              "        vertical-align: top;\n",
              "    }\n",
              "\n",
              "    .dataframe thead th {\n",
              "        text-align: right;\n",
              "    }\n",
              "</style>\n",
              "<table border=\"1\" class=\"dataframe\">\n",
              "  <thead>\n",
              "    <tr style=\"text-align: right;\">\n",
              "      <th></th>\n",
              "      <th>class</th>\n",
              "      <th>alcohol</th>\n",
              "      <th>malic_acid</th>\n",
              "      <th>ash</th>\n",
              "      <th>alcalinity_of_ash</th>\n",
              "      <th>magnesium</th>\n",
              "      <th>total_phenols</th>\n",
              "      <th>flavanoids</th>\n",
              "      <th>nonflavanoid_phenols</th>\n",
              "      <th>proanthocyanins</th>\n",
              "      <th>color_intensity</th>\n",
              "      <th>hue</th>\n",
              "      <th>od280/od315_of_diluted_wines</th>\n",
              "      <th>proline</th>\n",
              "    </tr>\n",
              "  </thead>\n",
              "  <tbody>\n",
              "    <tr>\n",
              "      <th>0</th>\n",
              "      <td>0</td>\n",
              "      <td>1.518613</td>\n",
              "      <td>-0.562250</td>\n",
              "      <td>0.232053</td>\n",
              "      <td>-1.169593</td>\n",
              "      <td>1.913905</td>\n",
              "      <td>0.808997</td>\n",
              "      <td>1.034819</td>\n",
              "      <td>-0.659563</td>\n",
              "      <td>1.224884</td>\n",
              "      <td>0.251717</td>\n",
              "      <td>0.362177</td>\n",
              "      <td>1.847920</td>\n",
              "      <td>1.013009</td>\n",
              "    </tr>\n",
              "    <tr>\n",
              "      <th>1</th>\n",
              "      <td>0</td>\n",
              "      <td>0.246290</td>\n",
              "      <td>-0.499413</td>\n",
              "      <td>-0.827996</td>\n",
              "      <td>-2.490847</td>\n",
              "      <td>0.018145</td>\n",
              "      <td>0.568648</td>\n",
              "      <td>0.733629</td>\n",
              "      <td>-0.820719</td>\n",
              "      <td>-0.544721</td>\n",
              "      <td>-0.293321</td>\n",
              "      <td>0.406051</td>\n",
              "      <td>1.113449</td>\n",
              "      <td>0.965242</td>\n",
              "    </tr>\n",
              "    <tr>\n",
              "      <th>2</th>\n",
              "      <td>0</td>\n",
              "      <td>0.196879</td>\n",
              "      <td>0.021231</td>\n",
              "      <td>1.109334</td>\n",
              "      <td>-0.268738</td>\n",
              "      <td>0.088358</td>\n",
              "      <td>0.808997</td>\n",
              "      <td>1.215533</td>\n",
              "      <td>-0.498407</td>\n",
              "      <td>2.135968</td>\n",
              "      <td>0.269020</td>\n",
              "      <td>0.318304</td>\n",
              "      <td>0.788587</td>\n",
              "      <td>1.395148</td>\n",
              "    </tr>\n",
              "    <tr>\n",
              "      <th>3</th>\n",
              "      <td>0</td>\n",
              "      <td>1.691550</td>\n",
              "      <td>-0.346811</td>\n",
              "      <td>0.487926</td>\n",
              "      <td>-0.809251</td>\n",
              "      <td>0.930918</td>\n",
              "      <td>2.491446</td>\n",
              "      <td>1.466525</td>\n",
              "      <td>-0.981875</td>\n",
              "      <td>1.032155</td>\n",
              "      <td>1.186068</td>\n",
              "      <td>-0.427544</td>\n",
              "      <td>1.184071</td>\n",
              "      <td>2.334574</td>\n",
              "    </tr>\n",
              "    <tr>\n",
              "      <th>4</th>\n",
              "      <td>0</td>\n",
              "      <td>0.295700</td>\n",
              "      <td>0.227694</td>\n",
              "      <td>1.840403</td>\n",
              "      <td>0.451946</td>\n",
              "      <td>1.281985</td>\n",
              "      <td>0.808997</td>\n",
              "      <td>0.663351</td>\n",
              "      <td>0.226796</td>\n",
              "      <td>0.401404</td>\n",
              "      <td>-0.319276</td>\n",
              "      <td>0.362177</td>\n",
              "      <td>0.449601</td>\n",
              "      <td>-0.037874</td>\n",
              "    </tr>\n",
              "  </tbody>\n",
              "</table>\n",
              "</div>\n",
              "      <button class=\"colab-df-convert\" onclick=\"convertToInteractive('df-ff50b351-833a-4be4-a3ac-18e4bbe60bf3')\"\n",
              "              title=\"Convert this dataframe to an interactive table.\"\n",
              "              style=\"display:none;\">\n",
              "        \n",
              "  <svg xmlns=\"http://www.w3.org/2000/svg\" height=\"24px\"viewBox=\"0 0 24 24\"\n",
              "       width=\"24px\">\n",
              "    <path d=\"M0 0h24v24H0V0z\" fill=\"none\"/>\n",
              "    <path d=\"M18.56 5.44l.94 2.06.94-2.06 2.06-.94-2.06-.94-.94-2.06-.94 2.06-2.06.94zm-11 1L8.5 8.5l.94-2.06 2.06-.94-2.06-.94L8.5 2.5l-.94 2.06-2.06.94zm10 10l.94 2.06.94-2.06 2.06-.94-2.06-.94-.94-2.06-.94 2.06-2.06.94z\"/><path d=\"M17.41 7.96l-1.37-1.37c-.4-.4-.92-.59-1.43-.59-.52 0-1.04.2-1.43.59L10.3 9.45l-7.72 7.72c-.78.78-.78 2.05 0 2.83L4 21.41c.39.39.9.59 1.41.59.51 0 1.02-.2 1.41-.59l7.78-7.78 2.81-2.81c.8-.78.8-2.07 0-2.86zM5.41 20L4 18.59l7.72-7.72 1.47 1.35L5.41 20z\"/>\n",
              "  </svg>\n",
              "      </button>\n",
              "      \n",
              "  <style>\n",
              "    .colab-df-container {\n",
              "      display:flex;\n",
              "      flex-wrap:wrap;\n",
              "      gap: 12px;\n",
              "    }\n",
              "\n",
              "    .colab-df-convert {\n",
              "      background-color: #E8F0FE;\n",
              "      border: none;\n",
              "      border-radius: 50%;\n",
              "      cursor: pointer;\n",
              "      display: none;\n",
              "      fill: #1967D2;\n",
              "      height: 32px;\n",
              "      padding: 0 0 0 0;\n",
              "      width: 32px;\n",
              "    }\n",
              "\n",
              "    .colab-df-convert:hover {\n",
              "      background-color: #E2EBFA;\n",
              "      box-shadow: 0px 1px 2px rgba(60, 64, 67, 0.3), 0px 1px 3px 1px rgba(60, 64, 67, 0.15);\n",
              "      fill: #174EA6;\n",
              "    }\n",
              "\n",
              "    [theme=dark] .colab-df-convert {\n",
              "      background-color: #3B4455;\n",
              "      fill: #D2E3FC;\n",
              "    }\n",
              "\n",
              "    [theme=dark] .colab-df-convert:hover {\n",
              "      background-color: #434B5C;\n",
              "      box-shadow: 0px 1px 3px 1px rgba(0, 0, 0, 0.15);\n",
              "      filter: drop-shadow(0px 1px 2px rgba(0, 0, 0, 0.3));\n",
              "      fill: #FFFFFF;\n",
              "    }\n",
              "  </style>\n",
              "\n",
              "      <script>\n",
              "        const buttonEl =\n",
              "          document.querySelector('#df-ff50b351-833a-4be4-a3ac-18e4bbe60bf3 button.colab-df-convert');\n",
              "        buttonEl.style.display =\n",
              "          google.colab.kernel.accessAllowed ? 'block' : 'none';\n",
              "\n",
              "        async function convertToInteractive(key) {\n",
              "          const element = document.querySelector('#df-ff50b351-833a-4be4-a3ac-18e4bbe60bf3');\n",
              "          const dataTable =\n",
              "            await google.colab.kernel.invokeFunction('convertToInteractive',\n",
              "                                                     [key], {});\n",
              "          if (!dataTable) return;\n",
              "\n",
              "          const docLinkHtml = 'Like what you see? Visit the ' +\n",
              "            '<a target=\"_blank\" href=https://colab.research.google.com/notebooks/data_table.ipynb>data table notebook</a>'\n",
              "            + ' to learn more about interactive tables.';\n",
              "          element.innerHTML = '';\n",
              "          dataTable['output_type'] = 'display_data';\n",
              "          await google.colab.output.renderOutput(dataTable, element);\n",
              "          const docLink = document.createElement('div');\n",
              "          docLink.innerHTML = docLinkHtml;\n",
              "          element.appendChild(docLink);\n",
              "        }\n",
              "      </script>\n",
              "    </div>\n",
              "  </div>\n",
              "  "
            ]
          },
          "metadata": {},
          "execution_count": 10
        }
      ]
    },
    {
      "cell_type": "markdown",
      "source": [
        "### Split Train and Test set\n"
      ],
      "metadata": {
        "id": "-uRy_M2l8VuJ"
      }
    },
    {
      "cell_type": "code",
      "source": [
        "# Split the data into features and target\n",
        "X = dataframe.drop('class', axis=1)\n",
        "y = dataframe['class']\n",
        "\n",
        "# Split the data into training and testing sets\n",
        "X_train, X_test, y_train, y_test = train_test_split(X, y, test_size=0.2, random_state=0)"
      ],
      "metadata": {
        "id": "gMulGPWN8bO1"
      },
      "execution_count": null,
      "outputs": []
    },
    {
      "cell_type": "markdown",
      "source": [
        "## Applying Support Vector Machine (SVM)\n",
        "\n",
        "First step is to determine best Kernel fuction for given dataset"
      ],
      "metadata": {
        "id": "45DaBlvF9FN1"
      }
    },
    {
      "cell_type": "code",
      "source": [
        "# List of kernel functions to try\n",
        "kernels = [\"linear\", \"poly\", \"rbf\", \"sigmoid\"]\n",
        "class_names = [\"1\",\"2\",\"3\"]\n",
        "\n",
        "# Dictionary to store the performance of each SVM classifier\n",
        "performance = {}\n",
        "\n",
        "for kernel in kernels:\n",
        "    # Train an SVM classifier using the current kernel function\n",
        "    clf = SVC(kernel=kernel)\n",
        "    clf.fit(X_train, y_train)\n",
        "\n",
        "    # Predict the target values for the testing data\n",
        "    y_pred = clf.predict(X_test)\n",
        "\n",
        "    # Compute the performance metrics\n",
        "    accuracy = accuracy_score(y_test, y_pred)\n",
        "    precision = precision_score(y_test, y_pred, average='weighted')\n",
        "    recall = recall_score(y_test, y_pred, average='weighted')\n",
        "    f1 = f1_score(y_test, y_pred, average='weighted')\n",
        "\n",
        "    cm = confusion_matrix(y_test, y_pred)\n",
        "\n",
        "    plt.figure(figsize=(9,9))\n",
        "    sns.heatmap(cm, annot=True, fmt=\".3f\", linewidths=.5, square = True, cmap = 'Blues_r', yticklabels=class_names, xticklabels=class_names)\n",
        "    plt.ylabel('Actual label')\n",
        "    plt.xlabel('Predicted label')\n",
        "    all_sample_title = f'SVC - {kernel} Model Accuracy Score: {accuracy:.2%}'\n",
        "    plt.title(all_sample_title, size = 15)\n",
        "\n",
        "    print(classification_report(y_test, y_pred,labels = [0, 1], target_names=class_names))\n",
        "\n",
        "    # Store the performance metrics for the current SVM classifier\n",
        "    performance[kernel] = {\"accuracy\": accuracy, \"precision\": precision, \"recall\": recall, \"f1\": f1}\n",
        "\n",
        "# Find the kernel with the best performance\n",
        "best_kernel = max(performance, key=lambda x: performance[x][\"f1\"])\n",
        "\n",
        "# Print the best kernel and its performance metrics\n",
        "print(\"Best kernel: {}\".format(best_kernel))\n",
        "print(\"Accuracy: {:.2f}\".format(performance[best_kernel][\"accuracy\"]))\n",
        "print(\"Precision: {:.2f}\".format(performance[best_kernel][\"precision\"]))\n",
        "print(\"Recall: {:.2f}\".format(performance[best_kernel][\"recall\"]))\n",
        "print(\"F1-score:{:.2f}\".format(performance[best_kernel][\"f1\"]))\n",
        "\n",
        "\n",
        "\n"
      ],
      "metadata": {
        "colab": {
          "base_uri": "https://localhost:8080/",
          "height": 1000
        },
        "id": "8Yy1rFg29j2-",
        "outputId": "4c2834fa-70c7-427e-8bd3-13d996db92da"
      },
      "execution_count": null,
      "outputs": [
        {
          "output_type": "stream",
          "name": "stderr",
          "text": [
            "/usr/local/lib/python3.8/dist-packages/sklearn/metrics/_classification.py:2126: UserWarning: labels size, 2, does not match size of target_names, 3\n",
            "  warnings.warn(\n",
            "/usr/local/lib/python3.8/dist-packages/sklearn/metrics/_classification.py:2126: UserWarning: labels size, 2, does not match size of target_names, 3\n",
            "  warnings.warn(\n"
          ]
        },
        {
          "output_type": "stream",
          "name": "stdout",
          "text": [
            "              precision    recall  f1-score   support\n",
            "\n",
            "           1       1.00      1.00      1.00        14\n",
            "           2       1.00      1.00      1.00        16\n",
            "\n",
            "   micro avg       1.00      1.00      1.00        30\n",
            "   macro avg       1.00      1.00      1.00        30\n",
            "weighted avg       1.00      1.00      1.00        30\n",
            "\n",
            "              precision    recall  f1-score   support\n",
            "\n",
            "           1       0.93      0.93      0.93        14\n",
            "           2       0.94      0.94      0.94        16\n",
            "\n",
            "   micro avg       0.93      0.93      0.93        30\n",
            "   macro avg       0.93      0.93      0.93        30\n",
            "weighted avg       0.93      0.93      0.93        30\n",
            "\n"
          ]
        },
        {
          "output_type": "stream",
          "name": "stderr",
          "text": [
            "/usr/local/lib/python3.8/dist-packages/sklearn/metrics/_classification.py:2126: UserWarning: labels size, 2, does not match size of target_names, 3\n",
            "  warnings.warn(\n",
            "/usr/local/lib/python3.8/dist-packages/sklearn/metrics/_classification.py:2126: UserWarning: labels size, 2, does not match size of target_names, 3\n",
            "  warnings.warn(\n"
          ]
        },
        {
          "output_type": "stream",
          "name": "stdout",
          "text": [
            "              precision    recall  f1-score   support\n",
            "\n",
            "           1       1.00      1.00      1.00        14\n",
            "           2       1.00      1.00      1.00        16\n",
            "\n",
            "   micro avg       1.00      1.00      1.00        30\n",
            "   macro avg       1.00      1.00      1.00        30\n",
            "weighted avg       1.00      1.00      1.00        30\n",
            "\n",
            "              precision    recall  f1-score   support\n",
            "\n",
            "           1       1.00      1.00      1.00        14\n",
            "           2       1.00      0.94      0.97        16\n",
            "\n",
            "   micro avg       1.00      0.97      0.98        30\n",
            "   macro avg       1.00      0.97      0.98        30\n",
            "weighted avg       1.00      0.97      0.98        30\n",
            "\n",
            "Best kernel: linear\n",
            "Accuracy: 1.00\n",
            "Precision: 1.00\n",
            "Recall: 1.00\n",
            "F1-score:1.00\n"
          ]
        },
        {
          "output_type": "display_data",
          "data": {
            "text/plain": [
              "<Figure size 648x648 with 2 Axes>"
            ],
            "image/png": "[encoded data removed]"
          },
          "metadata": {
            "needs_background": "light"
          }
        },
        {
          "output_type": "display_data",
          "data": {
            "text/plain": [
              "<Figure size 648x648 with 2 Axes>"
            ],
            "image/png": "[encoded data removed]"
          },
          "metadata": {
            "needs_background": "light"
          }
        },
        {
          "output_type": "display_data",
          "data": {
            "text/plain": [
              "<Figure size 648x648 with 2 Axes>"
            ],
            "image/png": "[encoded data removed]"
          },
          "metadata": {
            "needs_background": "light"
          }
        },
        {
          "output_type": "display_data",
          "data": {
            "text/plain": [
              "<Figure size 648x648 with 2 Axes>"
            ],
            "image/png": "[encoded data removed]"
          },
          "metadata": {
            "needs_background": "light"
          }
        }
      ]
    },
    {
      "cell_type": "code",
      "source": [
        "# Best SVC Kernel is linear with Accuracy: 0.95 Precision: 0.95 Recall: 0.97 F1-score:0.96\n",
        "# We will use this model for feature selection\n",
        "\n",
        "clf = SVC(kernel=\"linear\")\n",
        "clf.fit(X_train, y_train)\n",
        "\n",
        "# Use SelectFromModel to select the most important features\n",
        "sfm = SelectFromModel(clf, prefit=True)\n",
        "new_X_train = sfm.transform(X_train)\n",
        "selected_features = X_train.columns[sfm.get_support()]\n",
        "new_X_test = sfm.transform(X_test)\n",
        "\n",
        "# Print the shape of the new feature matrix to see how many features were retained\n",
        "print(\"Number of retained features: {}\".format(new_X_train.shape[1]))\n",
        "\n",
        "\n",
        "# Get the names of the selected features\n",
        "\n",
        "\n",
        "# Print the names of the selected features\n",
        "print(\"Selected features:\")\n",
        "print(selected_features)\n",
        "\n"
      ],
      "metadata": {
        "colab": {
          "base_uri": "https://localhost:8080/"
        },
        "id": "SrxyWNU1LcRy",
        "outputId": "739ad5fb-c5af-4f09-8302-e543d4d5a38f"
      },
      "execution_count": null,
      "outputs": [
        {
          "output_type": "stream",
          "name": "stdout",
          "text": [
            "Number of retained features: 6\n",
            "Selected features:\n",
            "Index(['alcohol', 'ash', 'flavanoids', 'color_intensity',\n",
            "       'od280/od315_of_diluted_wines', 'proline'],\n",
            "      dtype='object')\n"
          ]
        },
        {
          "output_type": "stream",
          "name": "stderr",
          "text": [
            "/usr/local/lib/python3.8/dist-packages/sklearn/base.py:443: UserWarning: X has feature names, but SelectFromModel was fitted without feature names\n",
            "  warnings.warn(\n",
            "/usr/local/lib/python3.8/dist-packages/sklearn/base.py:443: UserWarning: X has feature names, but SelectFromModel was fitted without feature names\n",
            "  warnings.warn(\n"
          ]
        }
      ]
    },
    {
      "cell_type": "code",
      "source": [
        "# Re-run the model with new feature set\n",
        "\n",
        "clf = SVC(kernel=\"linear\")\n",
        "clf.fit(new_X_train, y_train)\n",
        "\n",
        "# Predict the target values for the testing data\n",
        "y_pred = clf.predict(new_X_test)\n",
        "\n",
        "# Compute the performance metrics\n",
        "accuracy = accuracy_score(y_test, y_pred)\n",
        "precision = precision_score(y_test, y_pred, average='weighted')\n",
        "recall = recall_score(y_test, y_pred, average='weighted')\n",
        "f1 = f1_score(y_test, y_pred, average='weighted')\n",
        "\n",
        "cm = confusion_matrix(y_test, y_pred)\n",
        "\n",
        "plt.figure(figsize=(9,9))\n",
        "sns.heatmap(cm, annot=True, fmt=\".3f\", linewidths=.5, square = True, cmap = 'Blues_r', yticklabels=class_names, xticklabels=class_names)\n",
        "plt.ylabel('Actual label')\n",
        "plt.xlabel('Predicted label')\n",
        "all_sample_title = f'SVC - linear Model Accuracy Score: {accuracy:.2%}'\n",
        "plt.title(all_sample_title, size = 15)\n",
        "\n",
        "print(classification_report(y_test, y_pred,labels = [0, 1], target_names=class_names))\n",
        "\n",
        "print(\"Accuracy: {:.2%}\".format(accuracy))\n",
        "print(\"Precision: {:.2%}\".format(precision))\n",
        "print(\"Recall: {:.2%}\".format(recall))\n",
        "print(\"F1-score:{:.2%}\".format(f1))\n"
      ],
      "metadata": {
        "colab": {
          "base_uri": "https://localhost:8080/",
          "height": 800
        },
        "id": "qAUJxwXbO90d",
        "outputId": "cd82ced0-d0d1-4cd0-ed80-e52e5146d520"
      },
      "execution_count": null,
      "outputs": [
        {
          "output_type": "stream",
          "name": "stdout",
          "text": [
            "              precision    recall  f1-score   support\n",
            "\n",
            "           1       1.00      1.00      1.00        14\n",
            "           2       1.00      0.94      0.97        16\n",
            "\n",
            "   micro avg       1.00      0.97      0.98        30\n",
            "   macro avg       1.00      0.97      0.98        30\n",
            "weighted avg       1.00      0.97      0.98        30\n",
            "\n",
            "Accuracy: 97.22%\n",
            "Precision: 97.62%\n",
            "Recall: 97.22%\n",
            "F1-score:97.28%\n"
          ]
        },
        {
          "output_type": "stream",
          "name": "stderr",
          "text": [
            "/usr/local/lib/python3.8/dist-packages/sklearn/metrics/_classification.py:2126: UserWarning: labels size, 2, does not match size of target_names, 3\n",
            "  warnings.warn(\n"
          ]
        },
        {
          "output_type": "display_data",
          "data": {
            "text/plain": [
              "<Figure size 648x648 with 2 Axes>"
            ],
            "image/png": "[encoded data removed]"
          },
          "metadata": {
            "needs_background": "light"
          }
        }
      ]
    },
    {
      "cell_type": "markdown",
      "source": [
        "## K-Nearest Neighbor (KNN) Implementation\n",
        "\n",
        "we define a range of hyperparameters to search over, including the number of neighbors (n_neighbors), the weighting scheme (weights), and the value of p for the Minkowski distance metric (p). We use GridSearchCV to search over this range of hyperparameters and find the best hyperparameters that give the highest accuracy on the validation set."
      ],
      "metadata": {
        "id": "2a6IUM7lQuog"
      }
    },
    {
      "cell_type": "code",
      "source": [
        "# Define the range of hyperparameters to search over\n",
        "param_grid = {\n",
        "    'n_neighbors': [3, 5, 7, 9, 11],\n",
        "    'weights': ['uniform', 'distance'],\n",
        "    'p': [1, 2, 3, 4, 5]\n",
        "}\n",
        "\n",
        "# Train a KNeighborsClassifier with GridSearchCV\n",
        "knn = KNeighborsClassifier()\n",
        "grid_search = GridSearchCV(knn, param_grid, cv=5, scoring='accuracy')\n",
        "grid_search.fit(X_train, y_train)\n",
        "\n",
        "# Get the results of the GridSearchCV\n",
        "results = grid_search.cv_results_\n",
        "\n",
        "# Print the mean test scores for each hyperparameter combination\n",
        "for mean_test_score, params in zip(results['mean_test_score'], results['params']):\n",
        "    print(\"Mean test score: {:.2f}% for hyperparameters: {}\".format(mean_test_score * 100, params))\n",
        "\n",
        "# Get the best hyperparameters\n",
        "best_params = grid_search.best_params_\n",
        "\n",
        "# Train a KNeighborsClassifier using the best hyperparameters\n",
        "knn = KNeighborsClassifier(**best_params)\n",
        "knn.fit(X_train, y_train)\n",
        "\n",
        "# Make predictions on the testing data\n",
        "y_pred = knn.predict(X_test)\n",
        "\n",
        "# Calculate the accuracy of the model\n",
        "accuracy = accuracy_score(y_test, y_pred)\n",
        "precision = precision_score(y_test, y_pred,average ='weighted')\n",
        "recall = recall_score(y_test, y_pred,average ='weighted')\n",
        "f1 = f1_score(y_test, y_pred,average ='weighted')\n",
        "\n",
        "cm = confusion_matrix(y_test, y_pred)\n",
        "\n",
        "plt.figure(figsize=(9,9))\n",
        "sns.heatmap(cm, annot=True, fmt=\".3f\", linewidths=.5, square = True, cmap = 'Blues_r', yticklabels=class_names, xticklabels=class_names)\n",
        "plt.ylabel('Actual label')\n",
        "plt.xlabel('Predicted label')\n",
        "all_sample_title = f'KNN - Model Accuracy Score: {accuracy:.2%}'\n",
        "plt.title(all_sample_title, size = 15)\n",
        "\n",
        "print(classification_report(y_test, y_pred,labels = [0, 1], target_names=class_names))\n",
        "\n",
        "print(\"Best hyperparameters\", best_params)\n",
        "print(\"Accuracy: {:.2%}\".format(accuracy))\n",
        "print(\"Precision: {:.2%}\".format(precision))\n",
        "print(\"Recall: {:.2%}\".format(recall))\n",
        "print(\"F1-score:{:.2%}\".format(f1))\n"
      ],
      "metadata": {
        "colab": {
          "base_uri": "https://localhost:8080/",
          "height": 1000
        },
        "id": "jP3F5HPBU31X",
        "outputId": "33cec81a-7917-4595-c25b-2721ee622636"
      },
      "execution_count": null,
      "outputs": [
        {
          "output_type": "stream",
          "name": "stdout",
          "text": [
            "Mean test score: 95.84% for hyperparameters: {'n_neighbors': 3, 'p': 1, 'weights': 'uniform'}\n",
            "Mean test score: 95.84% for hyperparameters: {'n_neighbors': 3, 'p': 1, 'weights': 'distance'}\n",
            "Mean test score: 94.43% for hyperparameters: {'n_neighbors': 3, 'p': 2, 'weights': 'uniform'}\n",
            "Mean test score: 94.43% for hyperparameters: {'n_neighbors': 3, 'p': 2, 'weights': 'distance'}\n",
            "Mean test score: 94.41% for hyperparameters: {'n_neighbors': 3, 'p': 3, 'weights': 'uniform'}\n",
            "Mean test score: 94.41% for hyperparameters: {'n_neighbors': 3, 'p': 3, 'weights': 'distance'}\n",
            "Mean test score: 93.69% for hyperparameters: {'n_neighbors': 3, 'p': 4, 'weights': 'uniform'}\n",
            "Mean test score: 93.69% for hyperparameters: {'n_neighbors': 3, 'p': 4, 'weights': 'distance'}\n",
            "Mean test score: 93.69% for hyperparameters: {'n_neighbors': 3, 'p': 5, 'weights': 'uniform'}\n",
            "Mean test score: 93.69% for hyperparameters: {'n_neighbors': 3, 'p': 5, 'weights': 'distance'}\n",
            "Mean test score: 97.22% for hyperparameters: {'n_neighbors': 5, 'p': 1, 'weights': 'uniform'}\n",
            "Mean test score: 97.22% for hyperparameters: {'n_neighbors': 5, 'p': 1, 'weights': 'distance'}\n",
            "Mean test score: 96.53% for hyperparameters: {'n_neighbors': 5, 'p': 2, 'weights': 'uniform'}\n",
            "Mean test score: 97.22% for hyperparameters: {'n_neighbors': 5, 'p': 2, 'weights': 'distance'}\n",
            "Mean test score: 93.69% for hyperparameters: {'n_neighbors': 5, 'p': 3, 'weights': 'uniform'}\n",
            "Mean test score: 94.38% for hyperparameters: {'n_neighbors': 5, 'p': 3, 'weights': 'distance'}\n",
            "Mean test score: 91.58% for hyperparameters: {'n_neighbors': 5, 'p': 4, 'weights': 'uniform'}\n",
            "Mean test score: 92.27% for hyperparameters: {'n_neighbors': 5, 'p': 4, 'weights': 'distance'}\n",
            "Mean test score: 91.58% for hyperparameters: {'n_neighbors': 5, 'p': 5, 'weights': 'uniform'}\n",
            "Mean test score: 92.27% for hyperparameters: {'n_neighbors': 5, 'p': 5, 'weights': 'distance'}\n",
            "Mean test score: 96.50% for hyperparameters: {'n_neighbors': 7, 'p': 1, 'weights': 'uniform'}\n",
            "Mean test score: 96.50% for hyperparameters: {'n_neighbors': 7, 'p': 1, 'weights': 'distance'}\n",
            "Mean test score: 95.12% for hyperparameters: {'n_neighbors': 7, 'p': 2, 'weights': 'uniform'}\n",
            "Mean test score: 95.12% for hyperparameters: {'n_neighbors': 7, 'p': 2, 'weights': 'distance'}\n",
            "Mean test score: 95.12% for hyperparameters: {'n_neighbors': 7, 'p': 3, 'weights': 'uniform'}\n",
            "Mean test score: 95.12% for hyperparameters: {'n_neighbors': 7, 'p': 3, 'weights': 'distance'}\n",
            "Mean test score: 93.00% for hyperparameters: {'n_neighbors': 7, 'p': 4, 'weights': 'uniform'}\n",
            "Mean test score: 93.00% for hyperparameters: {'n_neighbors': 7, 'p': 4, 'weights': 'distance'}\n",
            "Mean test score: 93.00% for hyperparameters: {'n_neighbors': 7, 'p': 5, 'weights': 'uniform'}\n",
            "Mean test score: 93.00% for hyperparameters: {'n_neighbors': 7, 'p': 5, 'weights': 'distance'}\n",
            "Mean test score: 96.50% for hyperparameters: {'n_neighbors': 9, 'p': 1, 'weights': 'uniform'}\n",
            "Mean test score: 96.50% for hyperparameters: {'n_neighbors': 9, 'p': 1, 'weights': 'distance'}\n",
            "Mean test score: 95.81% for hyperparameters: {'n_neighbors': 9, 'p': 2, 'weights': 'uniform'}\n",
            "Mean test score: 95.12% for hyperparameters: {'n_neighbors': 9, 'p': 2, 'weights': 'distance'}\n",
            "Mean test score: 94.41% for hyperparameters: {'n_neighbors': 9, 'p': 3, 'weights': 'uniform'}\n",
            "Mean test score: 94.41% for hyperparameters: {'n_neighbors': 9, 'p': 3, 'weights': 'distance'}\n",
            "Mean test score: 93.72% for hyperparameters: {'n_neighbors': 9, 'p': 4, 'weights': 'uniform'}\n",
            "Mean test score: 93.72% for hyperparameters: {'n_neighbors': 9, 'p': 4, 'weights': 'distance'}\n",
            "Mean test score: 93.00% for hyperparameters: {'n_neighbors': 9, 'p': 5, 'weights': 'uniform'}\n",
            "Mean test score: 93.00% for hyperparameters: {'n_neighbors': 9, 'p': 5, 'weights': 'distance'}\n",
            "Mean test score: 96.50% for hyperparameters: {'n_neighbors': 11, 'p': 1, 'weights': 'uniform'}\n",
            "Mean test score: 96.50% for hyperparameters: {'n_neighbors': 11, 'p': 1, 'weights': 'distance'}\n",
            "Mean test score: 95.12% for hyperparameters: {'n_neighbors': 11, 'p': 2, 'weights': 'uniform'}\n",
            "Mean test score: 95.12% for hyperparameters: {'n_neighbors': 11, 'p': 2, 'weights': 'distance'}\n",
            "Mean test score: 93.00% for hyperparameters: {'n_neighbors': 11, 'p': 3, 'weights': 'uniform'}\n",
            "Mean test score: 93.00% for hyperparameters: {'n_neighbors': 11, 'p': 3, 'weights': 'distance'}\n",
            "Mean test score: 94.41% for hyperparameters: {'n_neighbors': 11, 'p': 4, 'weights': 'uniform'}\n",
            "Mean test score: 94.41% for hyperparameters: {'n_neighbors': 11, 'p': 4, 'weights': 'distance'}\n",
            "Mean test score: 94.38% for hyperparameters: {'n_neighbors': 11, 'p': 5, 'weights': 'uniform'}\n",
            "Mean test score: 93.69% for hyperparameters: {'n_neighbors': 11, 'p': 5, 'weights': 'distance'}\n",
            "              precision    recall  f1-score   support\n",
            "\n",
            "           1       1.00      1.00      1.00        14\n",
            "           2       1.00      0.94      0.97        16\n",
            "\n",
            "   micro avg       1.00      0.97      0.98        30\n",
            "   macro avg       1.00      0.97      0.98        30\n",
            "weighted avg       1.00      0.97      0.98        30\n",
            "\n",
            "Best hyperparameters {'n_neighbors': 5, 'p': 1, 'weights': 'uniform'}\n",
            "Accuracy: 97.22%\n",
            "Precision: 97.62%\n",
            "Recall: 97.22%\n",
            "F1-score:97.28%\n"
          ]
        },
        {
          "output_type": "stream",
          "name": "stderr",
          "text": [
            "/usr/local/lib/python3.8/dist-packages/sklearn/metrics/_classification.py:2126: UserWarning: labels size, 2, does not match size of target_names, 3\n",
            "  warnings.warn(\n"
          ]
        },
        {
          "output_type": "display_data",
          "data": {
            "text/plain": [
              "<Figure size 648x648 with 2 Axes>"
            ],
            "image/png": "[encoded data removed]"
          },
          "metadata": {
            "needs_background": "light"
          }
        }
      ]
    },
    {
      "cell_type": "code",
      "source": [
        "# Re run the best Hyperparameter model with reduced features\n",
        "\n",
        "clf = KNeighborsClassifier(**best_params)\n",
        "clf.fit(new_X_train, y_train)\n",
        "\n",
        "# Predict the target values for the testing data\n",
        "y_pred = clf.predict(new_X_test)\n",
        "\n",
        "# Compute the performance metrics\n",
        "accuracy = accuracy_score(y_test, y_pred)\n",
        "precision = precision_score(y_test, y_pred,average ='weighted')\n",
        "recall = recall_score(y_test, y_pred, average ='weighted')\n",
        "f1 = f1_score(y_test, y_pred, average ='weighted')\n",
        "\n",
        "cm = confusion_matrix(y_test, y_pred)\n",
        "\n",
        "plt.figure(figsize=(9,9))\n",
        "sns.heatmap(cm, annot=True, fmt=\".3f\", linewidths=.5, square = True, cmap = 'Blues_r', yticklabels=class_names, xticklabels=class_names)\n",
        "plt.ylabel('Actual label')\n",
        "plt.xlabel('Predicted label')\n",
        "all_sample_title = f'KNN - Model Accuracy Score: {accuracy:.2%}'\n",
        "plt.title(all_sample_title, size = 15)\n",
        "\n",
        "print(classification_report(y_test, y_pred,labels = [0, 1], target_names=class_names))\n",
        "\n",
        "print(\"Accuracy: {:.2%}\".format(accuracy))\n",
        "print(\"Precision: {:.2%}\".format(precision))\n",
        "print(\"Recall: {:.2%}\".format(recall))\n",
        "print(\"F1-score:{:.2%}\".format(f1))"
      ],
      "metadata": {
        "colab": {
          "base_uri": "https://localhost:8080/",
          "height": 800
        },
        "id": "9FJgGWORNDvY",
        "outputId": "56e59f6b-a27c-4850-8ddc-083b013d36bc"
      },
      "execution_count": null,
      "outputs": [
        {
          "output_type": "stream",
          "name": "stdout",
          "text": [
            "              precision    recall  f1-score   support\n",
            "\n",
            "           1       1.00      1.00      1.00        14\n",
            "           2       1.00      0.94      0.97        16\n",
            "\n",
            "   micro avg       1.00      0.97      0.98        30\n",
            "   macro avg       1.00      0.97      0.98        30\n",
            "weighted avg       1.00      0.97      0.98        30\n",
            "\n",
            "Accuracy: 97.22%\n",
            "Precision: 97.62%\n",
            "Recall: 97.22%\n",
            "F1-score:97.28%\n"
          ]
        },
        {
          "output_type": "stream",
          "name": "stderr",
          "text": [
            "/usr/local/lib/python3.8/dist-packages/sklearn/metrics/_classification.py:2126: UserWarning: labels size, 2, does not match size of target_names, 3\n",
            "  warnings.warn(\n"
          ]
        },
        {
          "output_type": "display_data",
          "data": {
            "text/plain": [
              "<Figure size 648x648 with 2 Axes>"
            ],
            "image/png": "[encoded data removed]"
          },
          "metadata": {
            "needs_background": "light"
          }
        }
      ]
    },
    {
      "cell_type": "markdown",
      "source": [
        "## Random Forest classifier Implementation\n",
        "\n",
        "Following parameters will be used to select optimal configuration for Random forest.\n",
        "\n",
        "**n_estimators:** This parameter defines the number of trees in the forest. A larger number of trees can result in a more accurate model, but also increases the computational time.\n",
        "\n",
        "**max_depth**: This parameter sets the maximum depth of each tree in the forest. A deeper tree can capture more complex relationships in the data, but also increases the risk of overfitting.\n",
        "\n",
        "**min_samples_split**: This parameter sets the minimum number of samples required to split an internal node in a tree. A higher value for this parameter results in more conservative trees, which can help to reduce overfitting.\n",
        "\n"
      ],
      "metadata": {
        "id": "oYROWm1DbO4c"
      }
    },
    {
      "cell_type": "code",
      "source": [
        "# Define the hyperparameters to be tuned\n",
        "param_grid = {'n_estimators': [100, 200, 300],\n",
        "              'max_depth': [3, 4, 5],\n",
        "              'min_samples_split': [2, 4, 6]}\n",
        "\n",
        "# Train a Random Forest classifier with GridSearchCV\n",
        "rfc = RandomForestClassifier()\n",
        "grid_search = GridSearchCV(rfc, param_grid, cv=5, scoring='accuracy')\n",
        "grid_search.fit(X_train, y_train)\n",
        "\n",
        "# Get the results of the GridSearchCV\n",
        "results = grid_search.cv_results_\n",
        "\n",
        "# Print the mean test scores for each hyperparameter combination\n",
        "for mean_test_score, params in zip(results['mean_test_score'], results['params']):\n",
        "    print(\"Mean test score: {:.2f}% for hyperparameters: {}\".format(mean_test_score * 100, params))\n",
        "\n",
        "\n",
        "# Print the best parameters and the best score\n",
        "print(\"Best parameters:\", grid_search.best_params_)\n",
        "print(\"Best score:\", grid_search.best_score_)\n",
        "\n",
        "# Get the best hyperparameters\n",
        "best_params = grid_search.best_params_\n",
        "\n",
        "# Predict the target values for the test data\n",
        "rfc = RandomForestClassifier(**best_params)\n",
        "rfc.fit(X_train, y_train)\n",
        "\n",
        "# Make predictions on the testing data\n",
        "y_pred = rfc.predict(X_test)\n",
        "\n",
        "# Calculate the accuracy of the model\n",
        "accuracy = accuracy_score(y_test, y_pred)\n",
        "precision = precision_score(y_test, y_pred, average ='weighted')\n",
        "recall = recall_score(y_test, y_pred, average ='weighted')\n",
        "f1 = f1_score(y_test, y_pred, average ='weighted')\n",
        "\n",
        "cm = confusion_matrix(y_test, y_pred)\n",
        "\n",
        "plt.figure(figsize=(9,9))\n",
        "sns.heatmap(cm, annot=True, fmt=\".3f\", linewidths=.5, square = True, cmap = 'Blues_r', yticklabels=class_names, xticklabels=class_names)\n",
        "plt.ylabel('Actual label')\n",
        "plt.xlabel('Predicted label')\n",
        "all_sample_title = f'Random Forest classifier - Model Accuracy Score: {accuracy:.2%}'\n",
        "plt.title(all_sample_title, size = 15)\n",
        "\n",
        "print(classification_report(y_test, y_pred,labels = [0, 1], target_names=class_names))\n",
        "\n",
        "print(\"Best hyperparameters\", best_params)\n",
        "print(\"Accuracy: {:.2%}\".format(accuracy))\n",
        "print(\"Precision: {:.2%}\".format(precision))\n",
        "print(\"Recall: {:.2%}\".format(recall))\n",
        "print(\"F1-score:{:.2%}\".format(f1))"
      ],
      "metadata": {
        "colab": {
          "base_uri": "https://localhost:8080/",
          "height": 1000
        },
        "id": "1vD8vCI6j1qs",
        "outputId": "48b6b644-ba6a-4a38-e285-4040df4f2a3b"
      },
      "execution_count": null,
      "outputs": [
        {
          "output_type": "stream",
          "name": "stdout",
          "text": [
            "Mean test score: 98.62% for hyperparameters: {'max_depth': 3, 'min_samples_split': 2, 'n_estimators': 100}\n",
            "Mean test score: 98.62% for hyperparameters: {'max_depth': 3, 'min_samples_split': 2, 'n_estimators': 200}\n",
            "Mean test score: 98.62% for hyperparameters: {'max_depth': 3, 'min_samples_split': 2, 'n_estimators': 300}\n",
            "Mean test score: 97.91% for hyperparameters: {'max_depth': 3, 'min_samples_split': 4, 'n_estimators': 100}\n",
            "Mean test score: 98.62% for hyperparameters: {'max_depth': 3, 'min_samples_split': 4, 'n_estimators': 200}\n",
            "Mean test score: 98.62% for hyperparameters: {'max_depth': 3, 'min_samples_split': 4, 'n_estimators': 300}\n",
            "Mean test score: 98.62% for hyperparameters: {'max_depth': 3, 'min_samples_split': 6, 'n_estimators': 100}\n",
            "Mean test score: 98.62% for hyperparameters: {'max_depth': 3, 'min_samples_split': 6, 'n_estimators': 200}\n",
            "Mean test score: 98.62% for hyperparameters: {'max_depth': 3, 'min_samples_split': 6, 'n_estimators': 300}\n",
            "Mean test score: 98.62% for hyperparameters: {'max_depth': 4, 'min_samples_split': 2, 'n_estimators': 100}\n",
            "Mean test score: 98.62% for hyperparameters: {'max_depth': 4, 'min_samples_split': 2, 'n_estimators': 200}\n",
            "Mean test score: 98.62% for hyperparameters: {'max_depth': 4, 'min_samples_split': 2, 'n_estimators': 300}\n",
            "Mean test score: 98.62% for hyperparameters: {'max_depth': 4, 'min_samples_split': 4, 'n_estimators': 100}\n",
            "Mean test score: 97.93% for hyperparameters: {'max_depth': 4, 'min_samples_split': 4, 'n_estimators': 200}\n",
            "Mean test score: 98.62% for hyperparameters: {'max_depth': 4, 'min_samples_split': 4, 'n_estimators': 300}\n",
            "Mean test score: 98.62% for hyperparameters: {'max_depth': 4, 'min_samples_split': 6, 'n_estimators': 100}\n",
            "Mean test score: 97.91% for hyperparameters: {'max_depth': 4, 'min_samples_split': 6, 'n_estimators': 200}\n",
            "Mean test score: 98.62% for hyperparameters: {'max_depth': 4, 'min_samples_split': 6, 'n_estimators': 300}\n",
            "Mean test score: 98.62% for hyperparameters: {'max_depth': 5, 'min_samples_split': 2, 'n_estimators': 100}\n",
            "Mean test score: 98.62% for hyperparameters: {'max_depth': 5, 'min_samples_split': 2, 'n_estimators': 200}\n",
            "Mean test score: 98.62% for hyperparameters: {'max_depth': 5, 'min_samples_split': 2, 'n_estimators': 300}\n",
            "Mean test score: 98.62% for hyperparameters: {'max_depth': 5, 'min_samples_split': 4, 'n_estimators': 100}\n",
            "Mean test score: 98.62% for hyperparameters: {'max_depth': 5, 'min_samples_split': 4, 'n_estimators': 200}\n",
            "Mean test score: 98.62% for hyperparameters: {'max_depth': 5, 'min_samples_split': 4, 'n_estimators': 300}\n",
            "Mean test score: 97.93% for hyperparameters: {'max_depth': 5, 'min_samples_split': 6, 'n_estimators': 100}\n",
            "Mean test score: 98.62% for hyperparameters: {'max_depth': 5, 'min_samples_split': 6, 'n_estimators': 200}\n",
            "Mean test score: 98.62% for hyperparameters: {'max_depth': 5, 'min_samples_split': 6, 'n_estimators': 300}\n",
            "Best parameters: {'max_depth': 3, 'min_samples_split': 2, 'n_estimators': 100}\n",
            "Best score: 0.9862068965517242\n",
            "              precision    recall  f1-score   support\n",
            "\n",
            "           1       0.93      1.00      0.97        14\n",
            "           2       1.00      0.88      0.93        16\n",
            "\n",
            "   micro avg       0.97      0.93      0.95        30\n",
            "   macro avg       0.97      0.94      0.95        30\n",
            "weighted avg       0.97      0.93      0.95        30\n",
            "\n",
            "Best hyperparameters {'max_depth': 3, 'min_samples_split': 2, 'n_estimators': 100}\n",
            "Accuracy: 94.44%\n",
            "Precision: 95.03%\n",
            "Recall: 94.44%\n",
            "F1-score:94.41%\n"
          ]
        },
        {
          "output_type": "stream",
          "name": "stderr",
          "text": [
            "/usr/local/lib/python3.8/dist-packages/sklearn/metrics/_classification.py:2126: UserWarning: labels size, 2, does not match size of target_names, 3\n",
            "  warnings.warn(\n"
          ]
        },
        {
          "output_type": "display_data",
          "data": {
            "text/plain": [
              "<Figure size 648x648 with 2 Axes>"
            ],
            "image/png": "[encoded data removed]"
          },
          "metadata": {
            "needs_background": "light"
          }
        }
      ]
    },
    {
      "cell_type": "code",
      "source": [
        "# Re run the best Hyperparameter model with reduced features\n",
        "\n",
        "clf = RandomForestClassifier(**best_params)\n",
        "clf.fit(new_X_train, y_train)\n",
        "\n",
        "# Predict the target values for the testing data\n",
        "y_pred = clf.predict(new_X_test)\n",
        "\n",
        "# Compute the performance metrics\n",
        "accuracy = accuracy_score(y_test, y_pred)\n",
        "precision = precision_score(y_test, y_pred, average ='weighted')\n",
        "recall = recall_score(y_test, y_pred, average ='weighted')\n",
        "f1 = f1_score(y_test, y_pred, average ='weighted')\n",
        "\n",
        "cm = confusion_matrix(y_test, y_pred)\n",
        "\n",
        "plt.figure(figsize=(9,9))\n",
        "sns.heatmap(cm, annot=True, fmt=\".3f\", linewidths=.5, square = True, cmap = 'Blues_r', yticklabels=class_names, xticklabels=class_names)\n",
        "plt.ylabel('Actual label')\n",
        "plt.xlabel('Predicted label')\n",
        "all_sample_title = f'KNN - Model Accuracy Score: {accuracy:.2%}'\n",
        "plt.title(all_sample_title, size = 15)\n",
        "\n",
        "print(classification_report(y_test, y_pred,labels = [0, 1], target_names=class_names))\n",
        "\n",
        "print(\"Accuracy: {:.2%}\".format(accuracy))\n",
        "print(\"Precision: {:.2%}\".format(precision))\n",
        "print(\"Recall: {:.2%}\".format(recall))\n",
        "print(\"F1-score:{:.2%}\".format(f1))"
      ],
      "metadata": {
        "colab": {
          "base_uri": "https://localhost:8080/",
          "height": 804
        },
        "id": "zkOzpBgFhFPc",
        "outputId": "367bdb95-3a7b-497e-c965-a37078183ccf"
      },
      "execution_count": null,
      "outputs": [
        {
          "output_type": "stream",
          "name": "stderr",
          "text": [
            "/usr/local/lib/python3.8/dist-packages/sklearn/metrics/_classification.py:2126: UserWarning: labels size, 2, does not match size of target_names, 3\n",
            "  warnings.warn(\n"
          ]
        },
        {
          "output_type": "stream",
          "name": "stdout",
          "text": [
            "              precision    recall  f1-score   support\n",
            "\n",
            "           1       0.93      1.00      0.97        14\n",
            "           2       1.00      0.88      0.93        16\n",
            "\n",
            "   micro avg       0.97      0.93      0.95        30\n",
            "   macro avg       0.97      0.94      0.95        30\n",
            "weighted avg       0.97      0.93      0.95        30\n",
            "\n",
            "Accuracy: 94.44%\n",
            "Precision: 95.03%\n",
            "Recall: 94.44%\n",
            "F1-score:94.41%\n"
          ]
        },
        {
          "output_type": "display_data",
          "data": {
            "text/plain": [
              "<Figure size 648x648 with 2 Axes>"
            ],
            "image/png": "[encoded data removed]"
          },
          "metadata": {
            "needs_background": "light"
          }
        }
      ]
    }
  ]
}